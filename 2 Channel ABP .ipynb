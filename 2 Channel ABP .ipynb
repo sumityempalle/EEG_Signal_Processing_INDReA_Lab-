{
 "cells": [
  {
   "cell_type": "markdown",
   "id": "fb25cb00-0363-47ee-94d0-3ce346bf0526",
   "metadata": {},
   "source": [
    "### Libraries"
   ]
  },
  {
   "cell_type": "code",
   "execution_count": 1,
   "id": "bb566c30-7e96-45ec-b205-c8ad91c116e5",
   "metadata": {},
   "outputs": [],
   "source": [
    "%matplotlib notebook\n",
    "import matplotlib\n",
    "import matplotlib.pyplot as plt\n",
    "plt.ion() \n",
    "import numpy as np\n",
    "import pathlib \n",
    "import mne\n",
    "from mne import Epochs \n",
    "from mne.time_frequency import psd_array_multitaper\n",
    "import mplcursors \n",
    "import scipy\n",
    "from datetime import datetime\n",
    "import pandas as pd\n",
    "from matplotlib.widgets import Cursor\n",
    "from scipy.signal import welch\n",
    "import re\n",
    "import os\n",
    "import glob\n",
    "import csv\n",
    "matplotlib.use('Qt5Agg')\n",
    "pd.set_option('display.float_format', '{:.0f}'.format)\n",
    "from mne.preprocessing import ICA\n",
    "from mne.io.constants import FIFF"
   ]
  },
  {
   "cell_type": "markdown",
   "id": "51c627f2-75dc-44b0-96fb-f14dce1dfae8",
   "metadata": {},
   "source": [
    "### Functions"
   ]
  },
  {
   "cell_type": "code",
   "execution_count": 2,
   "id": "785002ff-76df-44d7-aa46-9c1b648d8eee",
   "metadata": {},
   "outputs": [],
   "source": [
    "def import_sorted_fif_files(directory):\n",
    "    \"\"\"\n",
    "    This function lists all .fif files in a specified directory, sorts them \n",
    "    based on the numeric value after the 'P' in the filename, and imports the \n",
    "    files into a list using MNE's read_raw_fif function.\n",
    "\n",
    "    Parameters:\n",
    "    directory (str): The path to the directory containing the .fif files.\n",
    "\n",
    "    Returns:\n",
    "    fif_tasks (list): A list of MNE Raw objects, each representing an imported \n",
    "    .fif file, in the order sorted by the numeric part after 'P' in the filename.\n",
    "    \"\"\"\n",
    "    \n",
    "    # List all files in the specified directory and filter for those ending with '.fif'\n",
    "    fif_files = [f for f in os.listdir(directory) if f.endswith('.fif')]\n",
    "\n",
    "    # Function to extract the numeric part after 'P' in the filename for sorting\n",
    "    def extract_number(filename):\n",
    "        \"\"\"\n",
    "        Extracts the number that follows 'P' and precedes '_T' in the filename.\n",
    "        If no match is found, returns infinity to ensure that such files are sorted last.\n",
    "\n",
    "        Parameters:\n",
    "        filename (str): The filename to extract the number from.\n",
    "\n",
    "        Returns:\n",
    "        int or float: The extracted number or infinity if no match is found.\n",
    "        \"\"\"\n",
    "        match = re.search(r'P(\\d+)_T\\d+\\.fif', filename)\n",
    "        return int(match.group(1)) if match else float('inf')\n",
    "    \n",
    "    # Sort the files by the numeric value extracted from the filename\n",
    "    fif_files.sort(key=extract_number)\n",
    "\n",
    "    # Import the .fif files in the sorted order and store them in a list\n",
    "    fif_tasks = [mne.io.read_raw_fif(os.path.join(directory, f), preload=True) for f in fif_files]\n",
    "\n",
    "    return fif_tasks\n"
   ]
  },
  {
   "cell_type": "code",
   "execution_count": 3,
   "id": "065f1341-0501-42ef-9cc4-968e97a5c6a3",
   "metadata": {},
   "outputs": [],
   "source": [
    "from datetime import datetime\n",
    "\n",
    "def get_unix_times(fif_file):\n",
    "    \"\"\"\n",
    "    Extracts the UNIX start and end time of an EEG recording from a .fif file.\n",
    "\n",
    "    Parameters:\n",
    "    ----------\n",
    "    fif_file : mne.io.Raw\n",
    "        A cleaned EEG signal stored in MNE's .fif format.\n",
    "\n",
    "    Returns:\n",
    "    -------\n",
    "    eeg_start_unix : int\n",
    "        The UNIX timestamp representing the start of the EEG recording, adjusted for the GMT to IST time offset (5 hours 30 minutes).\n",
    "    \n",
    "    eeg_end_unix : int\n",
    "        The UNIX timestamp representing the end of the EEG recording, calculated using the signal duration and adjusted start time.\n",
    "    \"\"\"\n",
    "    \n",
    "    # Get the measurement start time from the .fif file metadata (meas_date).\n",
    "    meas_date = fif_file.info['meas_date']\n",
    "    \n",
    "    # Handle different types of meas_date:\n",
    "    # - If it's a tuple, take the first element and convert it to a timestamp.\n",
    "    # - If it's already a datetime object, use its timestamp.\n",
    "    # - If neither, raise a ValueError as the format is unrecognized.\n",
    "    if isinstance(meas_date, tuple):\n",
    "        meas_date_timestamp = meas_date[0].timestamp()  # meas_date[0] is a datetime object\n",
    "    elif isinstance(meas_date, datetime):\n",
    "        meas_date_timestamp = meas_date.timestamp()\n",
    "    else:\n",
    "        raise ValueError(\"meas_date is not in a recognized format. Expected a tuple or datetime object.\")\n",
    "\n",
    "    # Time correction factor to adjust for the GMT to IST (Indian Standard Time) offset, which is 5 hours and 30 minutes (19800 seconds).\n",
    "    time_correction = 19800  # 5 hours 30 minutes = 5 * 3600 + 30 * 60 = 19800 seconds\n",
    "    eeg_start_unix = int(meas_date_timestamp - time_correction)\n",
    "\n",
    "    # Calculate the duration of the signal in seconds:\n",
    "    # - sfreq: Sampling frequency (Hz) indicates how many data points are recorded per second.\n",
    "    # - fif_file.times: An array representing time points of the recording.\n",
    "    # The total duration is the length of the time array divided by the sampling frequency.\n",
    "    sfreq = fif_file.info['sfreq']\n",
    "    signal_duration_secs = int(len(fif_file.times) / sfreq)\n",
    "\n",
    "    # Compute the UNIX timestamp for the end of the EEG recording by adding the signal duration to the start time.\n",
    "    eeg_end_unix = int(eeg_start_unix + signal_duration_secs)\n",
    "\n",
    "    return eeg_start_unix, eeg_end_unix"
   ]
  },
  {
   "cell_type": "code",
   "execution_count": 4,
   "id": "7d178dfa-fb6d-46ac-bfb4-56d9b4d7d5d4",
   "metadata": {},
   "outputs": [],
   "source": [
    "def bandpower(data, sf, band, method='welch', window_sec=None, relative=False):\n",
    "    \"\"\"Compute the average power of the signal x in a specific frequency band.\n",
    "    Requires MNE-Python >= 0.14.\n",
    "\n",
    "    Parameters\n",
    "    ----------\n",
    "    data : 1d-array\n",
    "      Input signal in the time-domain.\n",
    "    sf : float\n",
    "      Sampling frequency of the data.\n",
    "    band : list\n",
    "      Lower and upper frequencies of the band of interest.\n",
    "    method : string\n",
    "      Periodogram method: 'welch' or 'multitaper'\n",
    "    window_sec : float\n",
    "      Length of each window in seconds. Useful only if method == 'welch'.\n",
    "      If None, window_sec = (1 / min(band)) * 2.\n",
    "    relative : boolean\n",
    "      If True, return the relative power (= divided by the total power of the signal).\n",
    "      If False (default), return the absolute power.\n",
    "\n",
    "    Return\n",
    "    ------\n",
    "    bp : float\n",
    "      Absolute or relative band power.\n",
    "    freq_res : float\n",
    "      Frequency resolution of the bandpower calculation\n",
    "    \"\"\"\n",
    "    from scipy.signal import welch\n",
    "    from scipy.integrate import simps\n",
    "    from mne.time_frequency import psd_array_multitaper\n",
    "\n",
    "    band = np.asarray(band)\n",
    "    low, high = band\n",
    "\n",
    "    # Compute the modified periodogram (Welch)\n",
    "    if method == 'welch':\n",
    "        if window_sec is not None:\n",
    "            nperseg = window_sec * sf\n",
    "        else:\n",
    "            nperseg = (2 / low) * sf\n",
    "\n",
    "        freqs, psd = welch(data, sf, nperseg=nperseg)\n",
    "\n",
    "    elif method == 'multitaper':\n",
    "        psd, freqs = psd_array_multitaper(data, sf, adaptive=True,\n",
    "                                          normalization='full', n_jobs=1, remove_dc= True, max_iter = 1024, verbose=0)\n",
    "\n",
    "    # Frequency resolution\n",
    "    freq_res = freqs[1] - freqs[0]\n",
    "\n",
    "    # Find index of band in frequency vector\n",
    "    idx_band = np.logical_and(freqs >= low, freqs <= high)\n",
    "\n",
    "    # Integral approximation of the spectrum using parabola (Simpson's rule)\n",
    "    bp = simps(psd[idx_band], dx=freq_res)\n",
    "\n",
    "    if relative:\n",
    "        bp /= simps(psd, dx=freq_res)\n",
    "    return bp, freq_res"
   ]
  },
  {
   "cell_type": "code",
   "execution_count": 5,
   "id": "3e42530a-c70b-4ece-b01e-28b26eaa1fc0",
   "metadata": {},
   "outputs": [],
   "source": [
    "def import_segments(directory):\n",
    "    \"\"\"\n",
    "    Imports segment start and end times from a CSV file and stores them in two separate lists.\n",
    "\n",
    "    Parameters:\n",
    "    ----------\n",
    "    directory : str\n",
    "        The file path to the CSV file containing segment start and end times.\n",
    "\n",
    "    Returns:\n",
    "    -------\n",
    "    seg_start_time : list of str\n",
    "        A list containing the start times of the segments, read from the first column of the CSV.\n",
    "    \n",
    "    seg_end_time : list of str\n",
    "        A list containing the end times of the segments, read from the second column of the CSV.\n",
    "    \n",
    "    Notes:\n",
    "    -----\n",
    "    - The CSV file is expected to have at least two columns where:\n",
    "        - The first column contains segment start times.\n",
    "        - The second column contains segment end times.\n",
    "    - The first row of the CSV is assumed to be a header and is skipped during import.\n",
    "    \"\"\"\n",
    "\n",
    "    # Initialize the lists to store segment start and end times\n",
    "    seg_start_time = []\n",
    "    seg_end_time = []\n",
    "\n",
    "    # Open the CSV file in read mode\n",
    "    with open(directory, mode='r') as file:\n",
    "        csv_reader = csv.reader(file)\n",
    "        \n",
    "        # Skip the header row (assumed to be the first row)\n",
    "        next(csv_reader)\n",
    "        \n",
    "        # Iterate through the remaining rows in the CSV\n",
    "        for row in csv_reader:\n",
    "            # Append the start time from the first column to seg_start_time\n",
    "            seg_start_time.append(row[0])  # First column: Start times\n",
    "            \n",
    "            # Append the end time from the second column to seg_end_time\n",
    "            seg_end_time.append(row[1])    # Second column: End times\n",
    "\n",
    "    # Optionally print the arrays to verify their contents\n",
    "    print(\"Segment Start Times:\", seg_start_time)\n",
    "    print(\"Segment End Times:\", seg_end_time)\n",
    "\n",
    "    # Return the start and end times as two separate lists\n",
    "    return seg_start_time, seg_end_time\n"
   ]
  },
  {
   "cell_type": "code",
   "execution_count": 6,
   "id": "44575724-5b49-4b32-b2ea-8deb904bc879",
   "metadata": {},
   "outputs": [],
   "source": [
    "def make_time_array(fif_file, segment_csv_path):\n",
    "    \"\"\"\n",
    "    Processes segment start and end times from a CSV file, aligns them with the \n",
    "    UNIX start time of an EEG recording in a .fif file, and calculates the relative \n",
    "    start times and other time-related metrics.\n",
    "\n",
    "    Parameters:\n",
    "    ----------\n",
    "    fif_file : mne.io.Raw\n",
    "        The EEG recording stored in MNE's .fif format.\n",
    "\n",
    "    segment_csv_path : str\n",
    "        The path to the CSV file containing the segment start and end times.\n",
    "\n",
    "    Returns:\n",
    "    -------\n",
    "    rel_time_sec : np.array\n",
    "        An array of relative segment start times, measured from the first segment's start time, in seconds.\n",
    "    \n",
    "    seg_start_array : list of int\n",
    "        A list of absolute segment start times in UNIX time, extracted and converted from the CSV.\n",
    "    \n",
    "    seg_end_array : list of int\n",
    "        A list of absolute segment end times in UNIX time, extracted and converted from the CSV.\n",
    "    \n",
    "    t_seg_min : int\n",
    "        The offset of the first segment start time relative to the beginning of the EEG recording (in seconds).\n",
    "    \n",
    "    t_seg_max : int\n",
    "        The offset of the last segment end time relative to the beginning of the EEG recording (in seconds).\n",
    "    \n",
    "    Notes:\n",
    "    -----\n",
    "    - The function prints time-related details of the EEG recording and segments.\n",
    "    - Assumes that the first segment's start time is the reference point for calculating relative times.\n",
    "    \"\"\"\n",
    "\n",
    "    # Import segment start and end times from the CSV file\n",
    "    seg_start, seg_end = import_segments(segment_csv_path)\n",
    "    \n",
    "    # Count the number of segments\n",
    "    segment_count = len(seg_start)\n",
    "    \n",
    "    # Get the UNIX start and end time of the EEG recording\n",
    "    unix_start_reading, unix_end_reading = get_unix_times(fif_file)\n",
    "    \n",
    "    # Calculate the total duration of the EEG recording in seconds\n",
    "    total_reading_time = unix_end_reading - unix_start_reading\n",
    "    \n",
    "    # Convert segment start and end times from strings to integers\n",
    "    seg_start_array = [int(m) for m in seg_start]\n",
    "    seg_end_array = [int(m) for m in seg_end]\n",
    "    \n",
    "    # Use the first segment's start time as the reference point\n",
    "    seg_start = seg_start_array[0]\n",
    "    \n",
    "    # Calculate relative start times for each segment, using the first segment's start time as the base\n",
    "    seg_start_array_rel = [x - seg_start for x in seg_start_array]\n",
    "    rel_time_sec = np.array(seg_start_array_rel)\n",
    "\n",
    "    # Calculate the total duration of all segments\n",
    "    total_segment_duration = seg_end_array[-1] - seg_start_array[0]\n",
    "    \n",
    "    # Calculate the offset of the first segment's start time relative to the start of the EEG recording\n",
    "    offset = seg_start_array[0] - unix_start_reading\n",
    "    \n",
    "    # Calculate the minimum and maximum relative times for the segments\n",
    "    t_seg_min = offset\n",
    "    t_seg_max = offset + total_segment_duration\n",
    "    \n",
    "    # Print the time-related details of the EEG reading and segments\n",
    "    print(f'Unix start time of the reading = {unix_start_reading}')\n",
    "    print(f'Unix end time of the reading = {unix_end_reading}')\n",
    "    print(f'Duration of signal = {total_reading_time} sec')\n",
    "    print(f'No of segments: {segment_count}')\n",
    "    print(f'Total duration of segments = {total_segment_duration}')\n",
    "    print(f'Relative segment start times in seconds: {rel_time_sec}')\n",
    "    print(f't_seg_min = {t_seg_min}')\n",
    "    print(f't_seg_max = {t_seg_max}')\n",
    "    print(f'Segments start at {t_seg_min} seconds and end at {t_seg_max} seconds')\n",
    "\n",
    "    # Return the calculated values\n",
    "    return rel_time_sec, seg_start_array, seg_end_array, t_seg_min, t_seg_max\n"
   ]
  },
  {
   "cell_type": "code",
   "execution_count": 7,
   "id": "5da485dd-1390-42c7-af67-02b2d2290340",
   "metadata": {},
   "outputs": [],
   "source": [
    "def crop_segments(fif_file, rel_time_sec, t_seg_max):\n",
    "    \"\"\"\n",
    "    Crops a given .fif file based on provided time segments and stores these cropped segments into a list.\n",
    "\n",
    "    Parameters:\n",
    "    -----------\n",
    "    fif_file : mne.io.Raw\n",
    "        Cleaned EEG reading to be segmented. This is typically one of the readings selected for protocol analysis.\n",
    "    \n",
    "    rel_time_sec : np.ndarray\n",
    "        An array of relative start times for the segments (in seconds), where each value represents the time \n",
    "        from the start of the signal. The length of this array should be equal to the number of segments + 1.\n",
    "\n",
    "    t_seg_max : int\n",
    "        The maximum time (in seconds) to which the .fif file should be cropped.\n",
    "\n",
    "    Returns:\n",
    "    --------\n",
    "    cropped_fif_segments : list of mne.io.Raw\n",
    "        A list containing the cropped .fif segments, where each element is a cropped version of the original file.\n",
    "    \n",
    "    segmentwise_events : list of np.ndarray\n",
    "        A list of event arrays generated for each segment, where each array contains events that are spaced at \n",
    "        a fixed interval (1-second duration).\n",
    "    \n",
    "    Notes:\n",
    "    ------\n",
    "    - This function assumes the sampling frequency is 256 Hz.\n",
    "    - The .fif file is cropped at the start and end times specified by `rel_time_sec`.\n",
    "    - An additional crop is performed for the final segment from the last relative time to the full file duration.\n",
    "    \"\"\"\n",
    "\n",
    "    # Calculate the number of segments (subtract 1 since rel_time_sec has n+1 elements)\n",
    "    segment_count = len(rel_time_sec) - 1\n",
    "    \n",
    "    # Create a copy of the fif_file to preserve the original data\n",
    "    fif_temp_last = fif_file.copy()\n",
    "\n",
    "    # Calculate the total duration of the .fif file in seconds, assuming a sampling frequency of 256 Hz\n",
    "    fif_file_duration = int(len(fif_file.times) / 256)\n",
    "    print(f'Duration of .fif file: {fif_file_duration} seconds')\n",
    "\n",
    "    # Initialize lists to store the cropped .fif segments and segment-wise event arrays\n",
    "    cropped_fif_segments = []\n",
    "    segmentwise_events = []\n",
    "\n",
    "    # Loop through each segment to crop the .fif file and generate events\n",
    "    for i in range(segment_count):\n",
    "        x = rel_time_sec[i]\n",
    "        y = rel_time_sec[i + 1]\n",
    "        print('-----')\n",
    "        print(f'Segment {i} start time = {x} seconds')\n",
    "        print(f'Segment {i} end time = {y} seconds')\n",
    "        print('-----')\n",
    "\n",
    "        # Copy the original .fif file and crop it based on the current segment's start and end times\n",
    "        fif_temp = fif_file.copy()\n",
    "        fif_temp_cropped = fif_temp.crop(tmin=x, tmax=y)\n",
    "        \n",
    "        # Create fixed-length events (duration 1 second) for the current segment\n",
    "        seg_event = mne.make_fixed_length_events(fif_file, start=x, stop=y, duration=1.0)\n",
    "        \n",
    "        # Append the cropped segment and the events array to their respective lists\n",
    "        cropped_fif_segments.append(fif_temp_cropped)\n",
    "        segmentwise_events.append(seg_event)\n",
    "        print(f'Segment {i} appended to cropped segments')\n",
    "        print(f'Events array for segment {i} appended')\n",
    "\n",
    "    # Handle the final segment, which extends from the last relative start time to the end of the .fif file\n",
    "    fif_temp_cropped_last = fif_temp_last.crop(tmin=rel_time_sec[-1], tmax=fif_file_duration)\n",
    "    cropped_fif_segments.append(fif_temp_cropped_last)\n",
    "    \n",
    "    # Create events for the last segment and append them to the list\n",
    "    seg_event = mne.make_fixed_length_events(fif_file, start=rel_time_sec[-1], stop=fif_file_duration, duration=1.0)\n",
    "    segmentwise_events.append(seg_event)\n",
    "    print(f'Last segment appended to cropped segments')\n",
    "    print(f'Events array for the last segment appended')\n",
    "\n",
    "    # Return the list of cropped segments and the corresponding event arrays\n",
    "    return cropped_fif_segments, segmentwise_events\n"
   ]
  },
  {
   "cell_type": "code",
   "execution_count": 8,
   "id": "8d6c55f2-8874-4bd7-9ab8-b3bd2097dab3",
   "metadata": {},
   "outputs": [],
   "source": [
    "def crop_copy(raw, start_unix, end_unix, t1, t2):\n",
    "    \"\"\"\n",
    "    Crop a raw MNE object based on a time window specified by UNIX timestamps.\n",
    "\n",
    "    This function takes a raw EEG/MEG recording, represented as an `mne.io.Raw` object, and crops it based on\n",
    "    two provided UNIX timestamps (t1 and t2), which specify the start and end of the desired time window. \n",
    "    The timestamps are converted to relative times based on the start of the recording.\n",
    "\n",
    "    Parameters:\n",
    "    -----------\n",
    "    raw : mne.io.Raw\n",
    "        The raw MNE object containing the recording to be cropped. This object holds EEG or MEG data, along with\n",
    "        associated metadata.\n",
    "    \n",
    "    start_unix : int\n",
    "        The UNIX timestamp representing the start time of the recording. This is the time when the EEG/MEG recording\n",
    "        began, and it is used to calculate the relative crop times.\n",
    "    \n",
    "    end_unix : int\n",
    "        The UNIX timestamp representing the end time of the recording. This is included for completeness but is not \n",
    "        used in the cropping calculation. \n",
    "    \n",
    "    t1 : int\n",
    "        The seconds timestamp indicating the start of the desired crop window. This is the time at which the cropped \n",
    "        segment should begin.\n",
    "    \n",
    "    t2 : int\n",
    "        The seconds timestamp indicating the end of the desired crop window. This is the time at which the cropped \n",
    "        segment should end.\n",
    "\n",
    "    Returns:\n",
    "    --------\n",
    "    raw_temp : mne.io.Raw\n",
    "        A new `mne.io.Raw` object that contains the cropped data. This object is a copy of the original `raw` object, \n",
    "        but restricted to the time window specified by `t1` and `t2`.\n",
    "\n",
    "    Notes:\n",
    "    ------\n",
    "    - The cropping is based on relative times (in seconds) calculated from the start of the recording (start_unix).\n",
    "    - If `t1` is earlier than the recording start, the crop window will begin from 0 seconds (the start of the recording).\n",
    "    - If `t2` is later than the recording end, the crop window will extend only to the end of the available data.\n",
    "    - This function returns a copy of the original `raw` object; the original remains unmodified.\n",
    "    \"\"\"\n",
    "\n",
    "    # Convert the recording start time from UNIX timestamp to a datetime object\n",
    "    recording_start_time = datetime.utcfromtimestamp(start_unix)\n",
    "\n",
    "    # Convert UNIX timestamps t1 and t2 to datetime objects (start and end of the crop window)\n",
    "    start_time = datetime.utcfromtimestamp(t1)\n",
    "    end_time = datetime.utcfromtimestamp(t2)\n",
    "\n",
    "    # Calculate the relative times (in seconds) from the start of the recording\n",
    "    relative_start_time = (start_time - recording_start_time).total_seconds()\n",
    "    relative_end_time = (end_time - recording_start_time).total_seconds()\n",
    "\n",
    "    # Ensure the relative start time is not before the start of the recording\n",
    "    relative_start_time = max(0, relative_start_time)\n",
    "    \n",
    "    # Ensure the relative end time does not exceed the length of the recording\n",
    "    relative_end_time = min(raw.times[-1], relative_end_time)\n",
    "\n",
    "    # Print out the calculated relative times for debugging\n",
    "    print(f'Relative start time (seconds): {relative_start_time}')\n",
    "    print(f'Relative end time (seconds): {relative_end_time}')\n",
    "\n",
    "    # Copy the raw object to create a new instance for cropping\n",
    "    raw_temp = raw.copy()\n",
    "\n",
    "    # Crop the copied raw object using the calculated relative times\n",
    "    raw_temp.crop(tmin=relative_start_time, tmax=relative_end_time)\n",
    "\n",
    "    return raw_temp\n"
   ]
  },
  {
   "cell_type": "code",
   "execution_count": 9,
   "id": "8590107b-6e7f-4362-bf89-c930a8f21cd9",
   "metadata": {},
   "outputs": [],
   "source": [
    "def epoch_equally(rawf_8, epoch_duration): \n",
    "    # Create fixed-length events\n",
    "    event_id = 1  # Assign a label to the events\n",
    "    event_duration = epoch_duration  \n",
    "    events = mne.make_fixed_length_events(rawf_8, id=event_id, duration=event_duration)\n",
    "\n",
    "    # Define epoch parameters\n",
    "    tmin = 0  # Start at the event\n",
    "    tmax = epoch_duration # End 2 seconds after the event\n",
    "\n",
    "    # Create epochs\n",
    "    epochs_8 = mne.Epochs(rawf_8, events, event_id=event_id, tmin=tmin, tmax=tmax, reject_by_annotation= True, baseline=None, preload=True)\n",
    "    return epochs_8\n",
    "    "
   ]
  },
  {
   "cell_type": "code",
   "execution_count": 10,
   "id": "f609fb31-8f00-4cb6-9bf8-9d36d0ed9bb8",
   "metadata": {},
   "outputs": [],
   "source": [
    "def concatenate_epochs_into_channels(epochs_8):\n",
    "    \n",
    "    epochs_8_data = epochs_8.get_data()\n",
    "    n_epochs, n_channels, n_samples = epochs_8_data.shape\n",
    "\n",
    "    # Initialize a list to store concatenated arrays for each channel\n",
    "    concatenated_channels = []\n",
    "\n",
    "    # Loop through each channel\n",
    "    for channel in range(n_channels):\n",
    "        # Extract the first row of the current channel across all epochs\n",
    "        concatenated = np.concatenate([epochs_8_data[epoch, channel, :] for epoch in range(n_epochs)])\n",
    "        concatenated_channels.append(concatenated)\n",
    "\n",
    "    # Convert to a NumPy array if needed\n",
    "    concatenated_channels = np.array(concatenated_channels)\n",
    "    \n",
    "    af3_signal_array = concatenated_channels[0][:]\n",
    "    f7_signal_array = concatenated_channels[1][:]\n",
    "    f3_signal_array = concatenated_channels[2][:]\n",
    "    fc5_signal_array = concatenated_channels[3][:]\n",
    "    fc6_signal_array = concatenated_channels[4][:]\n",
    "    f4_signal_array = concatenated_channels[5][:]\n",
    "    f8_signal_array = concatenated_channels[6][:]\n",
    "    af4_signal_array = concatenated_channels[7][:]\n",
    "\n",
    "    eeg_channels_data = { \n",
    "        'AF3': af3_signal_array ,\n",
    "        'F7': f7_signal_array ,\n",
    "        'F3': f3_signal_array ,\n",
    "        'FC5': fc5_signal_array ,\n",
    "        'FC6': fc6_signal_array,\n",
    "        'F4': f4_signal_array,\n",
    "        'F8': f8_signal_array,\n",
    "        'AF4': af4_signal_array,\n",
    "    }\n",
    "\n",
    "    return eeg_channels_data\n",
    "      "
   ]
  },
  {
   "cell_type": "code",
   "execution_count": 11,
   "id": "061364f1-52b2-4312-ab89-9c87dbdd549d",
   "metadata": {},
   "outputs": [],
   "source": [
    "def channelwise_abp(eeg_channels_data_dictionary):\n",
    "    sf = 256\n",
    "    bands = {\n",
    "        \"delta\": [1, 4],\n",
    "        \"theta\": [4, 8],\n",
    "        \"alpha\": [8, 13],\n",
    "        \"beta\": [13, 30],\n",
    "        \"brain\": [1, 30],\n",
    "        \"full\": [0, 128]\n",
    "    }\n",
    "\n",
    "    # Extract channel signals\n",
    "    channels = [\"AF3\", \"F7\", \"F3\", \"FC5\", \"FC6\", \"F4\", \"F8\", \"AF4\"]\n",
    "    all_abp_set = []\n",
    "\n",
    "    for channel in channels:\n",
    "        signal = eeg_channels_data_dictionary[channel]\n",
    "        abp_set = []\n",
    "        for band_name, band_range in bands.items():\n",
    "            abp, _ = bandpower(signal, sf, band_range, method='multitaper', window_sec=None, relative=False)\n",
    "            abp_set.append(abp)\n",
    "        all_abp_set.append(abp_set)\n",
    "\n",
    "    # Convert to NumPy array\n",
    "    all_abp_set = np.array(all_abp_set)\n",
    "    return all_abp_set\n"
   ]
  },
  {
   "cell_type": "code",
   "execution_count": 12,
   "id": "fe1ae886-0a1c-4f9c-a175-16f153c4cc87",
   "metadata": {},
   "outputs": [],
   "source": [
    "participant_list = ['P1',\n",
    " 'P3',\n",
    " 'P4',\n",
    " 'P5',\n",
    " 'P6',\n",
    " 'P7',\n",
    " 'P8',\n",
    " 'P9',\n",
    "'P10',                   \n",
    "'P11',\n",
    "'P12',\n",
    "'P13',\n",
    "'P14',\n",
    "'P15',\n",
    "'P16',\n",
    "'P17',\n",
    "'P18',\n",
    "'P19',\n",
    "'P20',\n",
    "'P21',\n",
    "'P22',\n",
    "'P23',\n",
    "'P24',\n",
    "'P25',\n",
    "'P26',\n",
    "'P27',\n",
    "'P28',\n",
    "'P29',\n",
    "'P30',\n",
    "'P31',\n",
    "'P32']"
   ]
  },
  {
   "cell_type": "markdown",
   "id": "ac50b55d-f3e9-4c8c-90f8-1fc7f3dd8993",
   "metadata": {},
   "source": [
    "### Main Code"
   ]
  },
  {
   "cell_type": "code",
   "execution_count": 13,
   "id": "07ffa88c-2f13-48d9-b28e-a8af53ad6644",
   "metadata": {},
   "outputs": [
    {
     "name": "stdout",
     "output_type": "stream",
     "text": [
      "Opening raw data file /Users/apple/Documents/Research/04. EEG Research/Python_Analysis/ICA/Cleaned EEG Data/Task 1/P1_T1.fif...\n",
      "    Range : 0 ... 24831 =      0.000 ...    96.996 secs\n",
      "Ready.\n"
     ]
    },
    {
     "name": "stderr",
     "output_type": "stream",
     "text": [
      "/var/folders/jq/xg0f849x4mg5f7y1_tjxk66c0000gn/T/ipykernel_4946/1529551201.py:37: RuntimeWarning: This filename (/Users/apple/Documents/Research/04. EEG Research/Python_Analysis/ICA/Cleaned EEG Data/Task 1/P1_T1.fif) does not conform to MNE naming conventions. All raw files should end with raw.fif, raw_sss.fif, raw_tsss.fif, _meg.fif, _eeg.fif, _ieeg.fif, raw.fif.gz, raw_sss.fif.gz, raw_tsss.fif.gz, _meg.fif.gz, _eeg.fif.gz or _ieeg.fif.gz\n",
      "  fif_tasks = [mne.io.read_raw_fif(os.path.join(directory, f), preload=True) for f in fif_files]\n"
     ]
    },
    {
     "name": "stdout",
     "output_type": "stream",
     "text": [
      "Reading 0 ... 24831  =      0.000 ...    96.996 secs...\n",
      "Opening raw data file /Users/apple/Documents/Research/04. EEG Research/Python_Analysis/ICA/Cleaned EEG Data/Task 1/P3_T1.fif...\n",
      "    Range : 0 ... 22783 =      0.000 ...    88.996 secs\n",
      "Ready.\n",
      "Reading 0 ... 22783  =      0.000 ...    88.996 secs...\n",
      "Opening raw data file /Users/apple/Documents/Research/04. EEG Research/Python_Analysis/ICA/Cleaned EEG Data/Task 1/P4_T1.fif...\n",
      "    Range : 0 ... 20991 =      0.000 ...    81.996 secs\n",
      "Ready.\n",
      "Reading 0 ... 20991  =      0.000 ...    81.996 secs...\n",
      "Opening raw data file /Users/apple/Documents/Research/04. EEG Research/Python_Analysis/ICA/Cleaned EEG Data/Task 1/P5_T1.fif...\n",
      "    Range : 0 ... 27135 =      0.000 ...   105.996 secs\n",
      "Ready.\n",
      "Reading 0 ... 27135  =      0.000 ...   105.996 secs...\n",
      "Opening raw data file /Users/apple/Documents/Research/04. EEG Research/Python_Analysis/ICA/Cleaned EEG Data/Task 1/P6_T1.fif...\n",
      "    Range : 0 ... 27647 =      0.000 ...   107.996 secs\n",
      "Ready.\n",
      "Reading 0 ... 27647  =      0.000 ...   107.996 secs...\n",
      "Opening raw data file /Users/apple/Documents/Research/04. EEG Research/Python_Analysis/ICA/Cleaned EEG Data/Task 1/P7_T1.fif...\n",
      "    Range : 0 ... 28927 =      0.000 ...   112.996 secs\n",
      "Ready.\n",
      "Reading 0 ... 28927  =      0.000 ...   112.996 secs...\n",
      "Opening raw data file /Users/apple/Documents/Research/04. EEG Research/Python_Analysis/ICA/Cleaned EEG Data/Task 1/P8_T1.fif...\n",
      "    Range : 0 ... 18943 =      0.000 ...    73.996 secs\n",
      "Ready.\n",
      "Reading 0 ... 18943  =      0.000 ...    73.996 secs...\n",
      "Opening raw data file /Users/apple/Documents/Research/04. EEG Research/Python_Analysis/ICA/Cleaned EEG Data/Task 1/P9_T1.fif...\n",
      "    Range : 0 ... 16383 =      0.000 ...    63.996 secs\n",
      "Ready.\n",
      "Reading 0 ... 16383  =      0.000 ...    63.996 secs...\n"
     ]
    },
    {
     "name": "stderr",
     "output_type": "stream",
     "text": [
      "/var/folders/jq/xg0f849x4mg5f7y1_tjxk66c0000gn/T/ipykernel_4946/1529551201.py:37: RuntimeWarning: This filename (/Users/apple/Documents/Research/04. EEG Research/Python_Analysis/ICA/Cleaned EEG Data/Task 1/P3_T1.fif) does not conform to MNE naming conventions. All raw files should end with raw.fif, raw_sss.fif, raw_tsss.fif, _meg.fif, _eeg.fif, _ieeg.fif, raw.fif.gz, raw_sss.fif.gz, raw_tsss.fif.gz, _meg.fif.gz, _eeg.fif.gz or _ieeg.fif.gz\n",
      "  fif_tasks = [mne.io.read_raw_fif(os.path.join(directory, f), preload=True) for f in fif_files]\n",
      "/var/folders/jq/xg0f849x4mg5f7y1_tjxk66c0000gn/T/ipykernel_4946/1529551201.py:37: RuntimeWarning: This filename (/Users/apple/Documents/Research/04. EEG Research/Python_Analysis/ICA/Cleaned EEG Data/Task 1/P4_T1.fif) does not conform to MNE naming conventions. All raw files should end with raw.fif, raw_sss.fif, raw_tsss.fif, _meg.fif, _eeg.fif, _ieeg.fif, raw.fif.gz, raw_sss.fif.gz, raw_tsss.fif.gz, _meg.fif.gz, _eeg.fif.gz or _ieeg.fif.gz\n",
      "  fif_tasks = [mne.io.read_raw_fif(os.path.join(directory, f), preload=True) for f in fif_files]\n",
      "/var/folders/jq/xg0f849x4mg5f7y1_tjxk66c0000gn/T/ipykernel_4946/1529551201.py:37: RuntimeWarning: This filename (/Users/apple/Documents/Research/04. EEG Research/Python_Analysis/ICA/Cleaned EEG Data/Task 1/P5_T1.fif) does not conform to MNE naming conventions. All raw files should end with raw.fif, raw_sss.fif, raw_tsss.fif, _meg.fif, _eeg.fif, _ieeg.fif, raw.fif.gz, raw_sss.fif.gz, raw_tsss.fif.gz, _meg.fif.gz, _eeg.fif.gz or _ieeg.fif.gz\n",
      "  fif_tasks = [mne.io.read_raw_fif(os.path.join(directory, f), preload=True) for f in fif_files]\n",
      "/var/folders/jq/xg0f849x4mg5f7y1_tjxk66c0000gn/T/ipykernel_4946/1529551201.py:37: RuntimeWarning: This filename (/Users/apple/Documents/Research/04. EEG Research/Python_Analysis/ICA/Cleaned EEG Data/Task 1/P6_T1.fif) does not conform to MNE naming conventions. All raw files should end with raw.fif, raw_sss.fif, raw_tsss.fif, _meg.fif, _eeg.fif, _ieeg.fif, raw.fif.gz, raw_sss.fif.gz, raw_tsss.fif.gz, _meg.fif.gz, _eeg.fif.gz or _ieeg.fif.gz\n",
      "  fif_tasks = [mne.io.read_raw_fif(os.path.join(directory, f), preload=True) for f in fif_files]\n",
      "/var/folders/jq/xg0f849x4mg5f7y1_tjxk66c0000gn/T/ipykernel_4946/1529551201.py:37: RuntimeWarning: This filename (/Users/apple/Documents/Research/04. EEG Research/Python_Analysis/ICA/Cleaned EEG Data/Task 1/P7_T1.fif) does not conform to MNE naming conventions. All raw files should end with raw.fif, raw_sss.fif, raw_tsss.fif, _meg.fif, _eeg.fif, _ieeg.fif, raw.fif.gz, raw_sss.fif.gz, raw_tsss.fif.gz, _meg.fif.gz, _eeg.fif.gz or _ieeg.fif.gz\n",
      "  fif_tasks = [mne.io.read_raw_fif(os.path.join(directory, f), preload=True) for f in fif_files]\n",
      "/var/folders/jq/xg0f849x4mg5f7y1_tjxk66c0000gn/T/ipykernel_4946/1529551201.py:37: RuntimeWarning: This filename (/Users/apple/Documents/Research/04. EEG Research/Python_Analysis/ICA/Cleaned EEG Data/Task 1/P8_T1.fif) does not conform to MNE naming conventions. All raw files should end with raw.fif, raw_sss.fif, raw_tsss.fif, _meg.fif, _eeg.fif, _ieeg.fif, raw.fif.gz, raw_sss.fif.gz, raw_tsss.fif.gz, _meg.fif.gz, _eeg.fif.gz or _ieeg.fif.gz\n",
      "  fif_tasks = [mne.io.read_raw_fif(os.path.join(directory, f), preload=True) for f in fif_files]\n",
      "/var/folders/jq/xg0f849x4mg5f7y1_tjxk66c0000gn/T/ipykernel_4946/1529551201.py:37: RuntimeWarning: This filename (/Users/apple/Documents/Research/04. EEG Research/Python_Analysis/ICA/Cleaned EEG Data/Task 1/P9_T1.fif) does not conform to MNE naming conventions. All raw files should end with raw.fif, raw_sss.fif, raw_tsss.fif, _meg.fif, _eeg.fif, _ieeg.fif, raw.fif.gz, raw_sss.fif.gz, raw_tsss.fif.gz, _meg.fif.gz, _eeg.fif.gz or _ieeg.fif.gz\n",
      "  fif_tasks = [mne.io.read_raw_fif(os.path.join(directory, f), preload=True) for f in fif_files]\n"
     ]
    },
    {
     "name": "stdout",
     "output_type": "stream",
     "text": [
      "Opening raw data file /Users/apple/Documents/Research/04. EEG Research/Python_Analysis/ICA/Cleaned EEG Data/Task 1/P10_T1.fif...\n",
      "    Range : 0 ... 22271 =      0.000 ...    86.996 secs\n",
      "Ready.\n",
      "Reading 0 ... 22271  =      0.000 ...    86.996 secs...\n",
      "Opening raw data file /Users/apple/Documents/Research/04. EEG Research/Python_Analysis/ICA/Cleaned EEG Data/Task 1/P11_T1.fif...\n",
      "    Range : 0 ... 17919 =      0.000 ...    69.996 secs\n",
      "Ready.\n",
      "Reading 0 ... 17919  =      0.000 ...    69.996 secs...\n",
      "Opening raw data file /Users/apple/Documents/Research/04. EEG Research/Python_Analysis/ICA/Cleaned EEG Data/Task 1/P12_T1.fif...\n",
      "    Range : 0 ... 23295 =      0.000 ...    90.996 secs\n",
      "Ready.\n",
      "Reading 0 ... 23295  =      0.000 ...    90.996 secs...\n",
      "Opening raw data file /Users/apple/Documents/Research/04. EEG Research/Python_Analysis/ICA/Cleaned EEG Data/Task 1/P13_T1.fif...\n",
      "    Range : 0 ... 20735 =      0.000 ...    80.996 secs\n",
      "Ready.\n",
      "Reading 0 ... 20735  =      0.000 ...    80.996 secs...\n",
      "Opening raw data file /Users/apple/Documents/Research/04. EEG Research/Python_Analysis/ICA/Cleaned EEG Data/Task 1/P14_T1.fif...\n",
      "    Range : 0 ... 21503 =      0.000 ...    83.996 secs\n",
      "Ready.\n",
      "Reading 0 ... 21503  =      0.000 ...    83.996 secs...\n",
      "Opening raw data file /Users/apple/Documents/Research/04. EEG Research/Python_Analysis/ICA/Cleaned EEG Data/Task 1/P15_T1.fif...\n",
      "    Range : 0 ... 23039 =      0.000 ...    89.996 secs\n",
      "Ready.\n",
      "Reading 0 ... 23039  =      0.000 ...    89.996 secs...\n",
      "Opening raw data file /Users/apple/Documents/Research/04. EEG Research/Python_Analysis/ICA/Cleaned EEG Data/Task 1/P16_T1.fif...\n",
      "    Range : 0 ... 22527 =      0.000 ...    87.996 secs\n",
      "Ready.\n",
      "Reading 0 ... 22527  =      0.000 ...    87.996 secs...\n",
      "Opening raw data file /Users/apple/Documents/Research/04. EEG Research/Python_Analysis/ICA/Cleaned EEG Data/Task 1/P17_T1.fif...\n"
     ]
    },
    {
     "name": "stderr",
     "output_type": "stream",
     "text": [
      "/var/folders/jq/xg0f849x4mg5f7y1_tjxk66c0000gn/T/ipykernel_4946/1529551201.py:37: RuntimeWarning: This filename (/Users/apple/Documents/Research/04. EEG Research/Python_Analysis/ICA/Cleaned EEG Data/Task 1/P10_T1.fif) does not conform to MNE naming conventions. All raw files should end with raw.fif, raw_sss.fif, raw_tsss.fif, _meg.fif, _eeg.fif, _ieeg.fif, raw.fif.gz, raw_sss.fif.gz, raw_tsss.fif.gz, _meg.fif.gz, _eeg.fif.gz or _ieeg.fif.gz\n",
      "  fif_tasks = [mne.io.read_raw_fif(os.path.join(directory, f), preload=True) for f in fif_files]\n",
      "/var/folders/jq/xg0f849x4mg5f7y1_tjxk66c0000gn/T/ipykernel_4946/1529551201.py:37: RuntimeWarning: This filename (/Users/apple/Documents/Research/04. EEG Research/Python_Analysis/ICA/Cleaned EEG Data/Task 1/P11_T1.fif) does not conform to MNE naming conventions. All raw files should end with raw.fif, raw_sss.fif, raw_tsss.fif, _meg.fif, _eeg.fif, _ieeg.fif, raw.fif.gz, raw_sss.fif.gz, raw_tsss.fif.gz, _meg.fif.gz, _eeg.fif.gz or _ieeg.fif.gz\n",
      "  fif_tasks = [mne.io.read_raw_fif(os.path.join(directory, f), preload=True) for f in fif_files]\n",
      "/var/folders/jq/xg0f849x4mg5f7y1_tjxk66c0000gn/T/ipykernel_4946/1529551201.py:37: RuntimeWarning: This filename (/Users/apple/Documents/Research/04. EEG Research/Python_Analysis/ICA/Cleaned EEG Data/Task 1/P12_T1.fif) does not conform to MNE naming conventions. All raw files should end with raw.fif, raw_sss.fif, raw_tsss.fif, _meg.fif, _eeg.fif, _ieeg.fif, raw.fif.gz, raw_sss.fif.gz, raw_tsss.fif.gz, _meg.fif.gz, _eeg.fif.gz or _ieeg.fif.gz\n",
      "  fif_tasks = [mne.io.read_raw_fif(os.path.join(directory, f), preload=True) for f in fif_files]\n",
      "/var/folders/jq/xg0f849x4mg5f7y1_tjxk66c0000gn/T/ipykernel_4946/1529551201.py:37: RuntimeWarning: This filename (/Users/apple/Documents/Research/04. EEG Research/Python_Analysis/ICA/Cleaned EEG Data/Task 1/P13_T1.fif) does not conform to MNE naming conventions. All raw files should end with raw.fif, raw_sss.fif, raw_tsss.fif, _meg.fif, _eeg.fif, _ieeg.fif, raw.fif.gz, raw_sss.fif.gz, raw_tsss.fif.gz, _meg.fif.gz, _eeg.fif.gz or _ieeg.fif.gz\n",
      "  fif_tasks = [mne.io.read_raw_fif(os.path.join(directory, f), preload=True) for f in fif_files]\n",
      "/var/folders/jq/xg0f849x4mg5f7y1_tjxk66c0000gn/T/ipykernel_4946/1529551201.py:37: RuntimeWarning: This filename (/Users/apple/Documents/Research/04. EEG Research/Python_Analysis/ICA/Cleaned EEG Data/Task 1/P14_T1.fif) does not conform to MNE naming conventions. All raw files should end with raw.fif, raw_sss.fif, raw_tsss.fif, _meg.fif, _eeg.fif, _ieeg.fif, raw.fif.gz, raw_sss.fif.gz, raw_tsss.fif.gz, _meg.fif.gz, _eeg.fif.gz or _ieeg.fif.gz\n",
      "  fif_tasks = [mne.io.read_raw_fif(os.path.join(directory, f), preload=True) for f in fif_files]\n",
      "/var/folders/jq/xg0f849x4mg5f7y1_tjxk66c0000gn/T/ipykernel_4946/1529551201.py:37: RuntimeWarning: This filename (/Users/apple/Documents/Research/04. EEG Research/Python_Analysis/ICA/Cleaned EEG Data/Task 1/P15_T1.fif) does not conform to MNE naming conventions. All raw files should end with raw.fif, raw_sss.fif, raw_tsss.fif, _meg.fif, _eeg.fif, _ieeg.fif, raw.fif.gz, raw_sss.fif.gz, raw_tsss.fif.gz, _meg.fif.gz, _eeg.fif.gz or _ieeg.fif.gz\n",
      "  fif_tasks = [mne.io.read_raw_fif(os.path.join(directory, f), preload=True) for f in fif_files]\n",
      "/var/folders/jq/xg0f849x4mg5f7y1_tjxk66c0000gn/T/ipykernel_4946/1529551201.py:37: RuntimeWarning: This filename (/Users/apple/Documents/Research/04. EEG Research/Python_Analysis/ICA/Cleaned EEG Data/Task 1/P16_T1.fif) does not conform to MNE naming conventions. All raw files should end with raw.fif, raw_sss.fif, raw_tsss.fif, _meg.fif, _eeg.fif, _ieeg.fif, raw.fif.gz, raw_sss.fif.gz, raw_tsss.fif.gz, _meg.fif.gz, _eeg.fif.gz or _ieeg.fif.gz\n",
      "  fif_tasks = [mne.io.read_raw_fif(os.path.join(directory, f), preload=True) for f in fif_files]\n",
      "/var/folders/jq/xg0f849x4mg5f7y1_tjxk66c0000gn/T/ipykernel_4946/1529551201.py:37: RuntimeWarning: This filename (/Users/apple/Documents/Research/04. EEG Research/Python_Analysis/ICA/Cleaned EEG Data/Task 1/P17_T1.fif) does not conform to MNE naming conventions. All raw files should end with raw.fif, raw_sss.fif, raw_tsss.fif, _meg.fif, _eeg.fif, _ieeg.fif, raw.fif.gz, raw_sss.fif.gz, raw_tsss.fif.gz, _meg.fif.gz, _eeg.fif.gz or _ieeg.fif.gz\n",
      "  fif_tasks = [mne.io.read_raw_fif(os.path.join(directory, f), preload=True) for f in fif_files]\n"
     ]
    },
    {
     "name": "stdout",
     "output_type": "stream",
     "text": [
      "    Range : 0 ... 18687 =      0.000 ...    72.996 secs\n",
      "Ready.\n",
      "Reading 0 ... 18687  =      0.000 ...    72.996 secs...\n",
      "Opening raw data file /Users/apple/Documents/Research/04. EEG Research/Python_Analysis/ICA/Cleaned EEG Data/Task 1/P18_T1.fif...\n",
      "    Range : 0 ... 25343 =      0.000 ...    98.996 secs\n",
      "Ready.\n",
      "Reading 0 ... 25343  =      0.000 ...    98.996 secs...\n",
      "Opening raw data file /Users/apple/Documents/Research/04. EEG Research/Python_Analysis/ICA/Cleaned EEG Data/Task 1/P19_T1.fif...\n",
      "    Range : 0 ... 20735 =      0.000 ...    80.996 secs\n",
      "Ready.\n",
      "Reading 0 ... 20735  =      0.000 ...    80.996 secs...\n",
      "Opening raw data file /Users/apple/Documents/Research/04. EEG Research/Python_Analysis/ICA/Cleaned EEG Data/Task 1/P20_T1.fif...\n",
      "    Range : 0 ... 18943 =      0.000 ...    73.996 secs\n",
      "Ready.\n",
      "Reading 0 ... 18943  =      0.000 ...    73.996 secs...\n",
      "Opening raw data file /Users/apple/Documents/Research/04. EEG Research/Python_Analysis/ICA/Cleaned EEG Data/Task 1/P21_T1.fif...\n",
      "    Range : 0 ... 18943 =      0.000 ...    73.996 secs\n",
      "Ready.\n",
      "Reading 0 ... 18943  =      0.000 ...    73.996 secs...\n",
      "Opening raw data file /Users/apple/Documents/Research/04. EEG Research/Python_Analysis/ICA/Cleaned EEG Data/Task 1/P22_T1.fif...\n",
      "    Range : 0 ... 16895 =      0.000 ...    65.996 secs\n",
      "Ready.\n",
      "Reading 0 ... 16895  =      0.000 ...    65.996 secs...\n",
      "Opening raw data file /Users/apple/Documents/Research/04. EEG Research/Python_Analysis/ICA/Cleaned EEG Data/Task 1/P23_T1.fif...\n",
      "    Range : 0 ... 16383 =      0.000 ...    63.996 secs\n",
      "Ready.\n",
      "Reading 0 ... 16383  =      0.000 ...    63.996 secs...\n",
      "Opening raw data file /Users/apple/Documents/Research/04. EEG Research/Python_Analysis/ICA/Cleaned EEG Data/Task 1/P24_T1.fif...\n",
      "    Range : 0 ... 17151 =      0.000 ...    66.996 secs\n",
      "Ready.\n",
      "Reading 0 ... 17151  =      0.000 ...    66.996 secs...\n",
      "Opening raw data file /Users/apple/Documents/Research/04. EEG Research/Python_Analysis/ICA/Cleaned EEG Data/Task 1/P25_T1.fif...\n",
      "    Range : 0 ... 19455 =      0.000 ...    75.996 secs\n",
      "Ready.\n",
      "Reading 0 ... 19455  =      0.000 ...    75.996 secs...\n",
      "Opening raw data file /Users/apple/Documents/Research/04. EEG Research/Python_Analysis/ICA/Cleaned EEG Data/Task 1/P26_T1.fif...\n"
     ]
    },
    {
     "name": "stderr",
     "output_type": "stream",
     "text": [
      "/var/folders/jq/xg0f849x4mg5f7y1_tjxk66c0000gn/T/ipykernel_4946/1529551201.py:37: RuntimeWarning: This filename (/Users/apple/Documents/Research/04. EEG Research/Python_Analysis/ICA/Cleaned EEG Data/Task 1/P18_T1.fif) does not conform to MNE naming conventions. All raw files should end with raw.fif, raw_sss.fif, raw_tsss.fif, _meg.fif, _eeg.fif, _ieeg.fif, raw.fif.gz, raw_sss.fif.gz, raw_tsss.fif.gz, _meg.fif.gz, _eeg.fif.gz or _ieeg.fif.gz\n",
      "  fif_tasks = [mne.io.read_raw_fif(os.path.join(directory, f), preload=True) for f in fif_files]\n",
      "/var/folders/jq/xg0f849x4mg5f7y1_tjxk66c0000gn/T/ipykernel_4946/1529551201.py:37: RuntimeWarning: This filename (/Users/apple/Documents/Research/04. EEG Research/Python_Analysis/ICA/Cleaned EEG Data/Task 1/P19_T1.fif) does not conform to MNE naming conventions. All raw files should end with raw.fif, raw_sss.fif, raw_tsss.fif, _meg.fif, _eeg.fif, _ieeg.fif, raw.fif.gz, raw_sss.fif.gz, raw_tsss.fif.gz, _meg.fif.gz, _eeg.fif.gz or _ieeg.fif.gz\n",
      "  fif_tasks = [mne.io.read_raw_fif(os.path.join(directory, f), preload=True) for f in fif_files]\n",
      "/var/folders/jq/xg0f849x4mg5f7y1_tjxk66c0000gn/T/ipykernel_4946/1529551201.py:37: RuntimeWarning: This filename (/Users/apple/Documents/Research/04. EEG Research/Python_Analysis/ICA/Cleaned EEG Data/Task 1/P20_T1.fif) does not conform to MNE naming conventions. All raw files should end with raw.fif, raw_sss.fif, raw_tsss.fif, _meg.fif, _eeg.fif, _ieeg.fif, raw.fif.gz, raw_sss.fif.gz, raw_tsss.fif.gz, _meg.fif.gz, _eeg.fif.gz or _ieeg.fif.gz\n",
      "  fif_tasks = [mne.io.read_raw_fif(os.path.join(directory, f), preload=True) for f in fif_files]\n",
      "/var/folders/jq/xg0f849x4mg5f7y1_tjxk66c0000gn/T/ipykernel_4946/1529551201.py:37: RuntimeWarning: This filename (/Users/apple/Documents/Research/04. EEG Research/Python_Analysis/ICA/Cleaned EEG Data/Task 1/P21_T1.fif) does not conform to MNE naming conventions. All raw files should end with raw.fif, raw_sss.fif, raw_tsss.fif, _meg.fif, _eeg.fif, _ieeg.fif, raw.fif.gz, raw_sss.fif.gz, raw_tsss.fif.gz, _meg.fif.gz, _eeg.fif.gz or _ieeg.fif.gz\n",
      "  fif_tasks = [mne.io.read_raw_fif(os.path.join(directory, f), preload=True) for f in fif_files]\n",
      "/var/folders/jq/xg0f849x4mg5f7y1_tjxk66c0000gn/T/ipykernel_4946/1529551201.py:37: RuntimeWarning: This filename (/Users/apple/Documents/Research/04. EEG Research/Python_Analysis/ICA/Cleaned EEG Data/Task 1/P22_T1.fif) does not conform to MNE naming conventions. All raw files should end with raw.fif, raw_sss.fif, raw_tsss.fif, _meg.fif, _eeg.fif, _ieeg.fif, raw.fif.gz, raw_sss.fif.gz, raw_tsss.fif.gz, _meg.fif.gz, _eeg.fif.gz or _ieeg.fif.gz\n",
      "  fif_tasks = [mne.io.read_raw_fif(os.path.join(directory, f), preload=True) for f in fif_files]\n",
      "/var/folders/jq/xg0f849x4mg5f7y1_tjxk66c0000gn/T/ipykernel_4946/1529551201.py:37: RuntimeWarning: This filename (/Users/apple/Documents/Research/04. EEG Research/Python_Analysis/ICA/Cleaned EEG Data/Task 1/P23_T1.fif) does not conform to MNE naming conventions. All raw files should end with raw.fif, raw_sss.fif, raw_tsss.fif, _meg.fif, _eeg.fif, _ieeg.fif, raw.fif.gz, raw_sss.fif.gz, raw_tsss.fif.gz, _meg.fif.gz, _eeg.fif.gz or _ieeg.fif.gz\n",
      "  fif_tasks = [mne.io.read_raw_fif(os.path.join(directory, f), preload=True) for f in fif_files]\n",
      "/var/folders/jq/xg0f849x4mg5f7y1_tjxk66c0000gn/T/ipykernel_4946/1529551201.py:37: RuntimeWarning: This filename (/Users/apple/Documents/Research/04. EEG Research/Python_Analysis/ICA/Cleaned EEG Data/Task 1/P24_T1.fif) does not conform to MNE naming conventions. All raw files should end with raw.fif, raw_sss.fif, raw_tsss.fif, _meg.fif, _eeg.fif, _ieeg.fif, raw.fif.gz, raw_sss.fif.gz, raw_tsss.fif.gz, _meg.fif.gz, _eeg.fif.gz or _ieeg.fif.gz\n",
      "  fif_tasks = [mne.io.read_raw_fif(os.path.join(directory, f), preload=True) for f in fif_files]\n",
      "/var/folders/jq/xg0f849x4mg5f7y1_tjxk66c0000gn/T/ipykernel_4946/1529551201.py:37: RuntimeWarning: This filename (/Users/apple/Documents/Research/04. EEG Research/Python_Analysis/ICA/Cleaned EEG Data/Task 1/P25_T1.fif) does not conform to MNE naming conventions. All raw files should end with raw.fif, raw_sss.fif, raw_tsss.fif, _meg.fif, _eeg.fif, _ieeg.fif, raw.fif.gz, raw_sss.fif.gz, raw_tsss.fif.gz, _meg.fif.gz, _eeg.fif.gz or _ieeg.fif.gz\n",
      "  fif_tasks = [mne.io.read_raw_fif(os.path.join(directory, f), preload=True) for f in fif_files]\n",
      "/var/folders/jq/xg0f849x4mg5f7y1_tjxk66c0000gn/T/ipykernel_4946/1529551201.py:37: RuntimeWarning: This filename (/Users/apple/Documents/Research/04. EEG Research/Python_Analysis/ICA/Cleaned EEG Data/Task 1/P26_T1.fif) does not conform to MNE naming conventions. All raw files should end with raw.fif, raw_sss.fif, raw_tsss.fif, _meg.fif, _eeg.fif, _ieeg.fif, raw.fif.gz, raw_sss.fif.gz, raw_tsss.fif.gz, _meg.fif.gz, _eeg.fif.gz or _ieeg.fif.gz\n",
      "  fif_tasks = [mne.io.read_raw_fif(os.path.join(directory, f), preload=True) for f in fif_files]\n"
     ]
    },
    {
     "name": "stdout",
     "output_type": "stream",
     "text": [
      "    Range : 0 ... 19711 =      0.000 ...    76.996 secs\n",
      "Ready.\n",
      "Reading 0 ... 19711  =      0.000 ...    76.996 secs...\n",
      "Opening raw data file /Users/apple/Documents/Research/04. EEG Research/Python_Analysis/ICA/Cleaned EEG Data/Task 1/P27_T1.fif...\n",
      "    Range : 0 ... 17663 =      0.000 ...    68.996 secs\n",
      "Ready.\n",
      "Reading 0 ... 17663  =      0.000 ...    68.996 secs...\n",
      "Opening raw data file /Users/apple/Documents/Research/04. EEG Research/Python_Analysis/ICA/Cleaned EEG Data/Task 1/P28_T1.fif...\n",
      "    Range : 0 ... 20991 =      0.000 ...    81.996 secs\n",
      "Ready.\n",
      "Reading 0 ... 20991  =      0.000 ...    81.996 secs...\n",
      "Opening raw data file /Users/apple/Documents/Research/04. EEG Research/Python_Analysis/ICA/Cleaned EEG Data/Task 1/P29_T1.fif...\n",
      "    Range : 0 ... 21503 =      0.000 ...    83.996 secs\n",
      "Ready.\n",
      "Reading 0 ... 21503  =      0.000 ...    83.996 secs...\n",
      "Opening raw data file /Users/apple/Documents/Research/04. EEG Research/Python_Analysis/ICA/Cleaned EEG Data/Task 1/P30_T1.fif...\n",
      "    Range : 0 ... 15871 =      0.000 ...    61.996 secs\n",
      "Ready.\n",
      "Reading 0 ... 15871  =      0.000 ...    61.996 secs...\n",
      "Opening raw data file /Users/apple/Documents/Research/04. EEG Research/Python_Analysis/ICA/Cleaned EEG Data/Task 1/P31_T1.fif...\n",
      "    Range : 0 ... 17919 =      0.000 ...    69.996 secs\n",
      "Ready.\n",
      "Reading 0 ... 17919  =      0.000 ...    69.996 secs...\n",
      "Opening raw data file /Users/apple/Documents/Research/04. EEG Research/Python_Analysis/ICA/Cleaned EEG Data/Task 1/P32_T1.fif...\n",
      "    Range : 0 ... 17919 =      0.000 ...    69.996 secs\n",
      "Ready.\n",
      "Reading 0 ... 17919  =      0.000 ...    69.996 secs...\n",
      "Opening raw data file /Users/apple/Documents/Research/04. EEG Research/Python_Analysis/ICA/Cleaned EEG Data/Task 2/P1_T2.fif...\n",
      "    Range : 0 ... 86527 =      0.000 ...   337.996 secs\n",
      "Ready.\n",
      "Reading 0 ... 86527  =      0.000 ...   337.996 secs...\n",
      "Opening raw data file /Users/apple/Documents/Research/04. EEG Research/Python_Analysis/ICA/Cleaned EEG Data/Task 2/P3_T2.fif...\n",
      "    Range : 0 ... 34303 =      0.000 ...   133.996 secs\n",
      "Ready.\n",
      "Reading 0 ... 34303  =      0.000 ...   133.996 secs...\n",
      "Opening raw data file /Users/apple/Documents/Research/04. EEG Research/Python_Analysis/ICA/Cleaned EEG Data/Task 2/P4_T2.fif...\n",
      "    Range : 0 ... 61951 =      0.000 ...   241.996 secs\n",
      "Ready.\n",
      "Reading 0 ... 61951  =      0.000 ...   241.996 secs...\n",
      "Opening raw data file /Users/apple/Documents/Research/04. EEG Research/Python_Analysis/ICA/Cleaned EEG Data/Task 2/P5_T2.fif...\n"
     ]
    },
    {
     "name": "stderr",
     "output_type": "stream",
     "text": [
      "/var/folders/jq/xg0f849x4mg5f7y1_tjxk66c0000gn/T/ipykernel_4946/1529551201.py:37: RuntimeWarning: This filename (/Users/apple/Documents/Research/04. EEG Research/Python_Analysis/ICA/Cleaned EEG Data/Task 1/P27_T1.fif) does not conform to MNE naming conventions. All raw files should end with raw.fif, raw_sss.fif, raw_tsss.fif, _meg.fif, _eeg.fif, _ieeg.fif, raw.fif.gz, raw_sss.fif.gz, raw_tsss.fif.gz, _meg.fif.gz, _eeg.fif.gz or _ieeg.fif.gz\n",
      "  fif_tasks = [mne.io.read_raw_fif(os.path.join(directory, f), preload=True) for f in fif_files]\n",
      "/var/folders/jq/xg0f849x4mg5f7y1_tjxk66c0000gn/T/ipykernel_4946/1529551201.py:37: RuntimeWarning: This filename (/Users/apple/Documents/Research/04. EEG Research/Python_Analysis/ICA/Cleaned EEG Data/Task 1/P28_T1.fif) does not conform to MNE naming conventions. All raw files should end with raw.fif, raw_sss.fif, raw_tsss.fif, _meg.fif, _eeg.fif, _ieeg.fif, raw.fif.gz, raw_sss.fif.gz, raw_tsss.fif.gz, _meg.fif.gz, _eeg.fif.gz or _ieeg.fif.gz\n",
      "  fif_tasks = [mne.io.read_raw_fif(os.path.join(directory, f), preload=True) for f in fif_files]\n",
      "/var/folders/jq/xg0f849x4mg5f7y1_tjxk66c0000gn/T/ipykernel_4946/1529551201.py:37: RuntimeWarning: This filename (/Users/apple/Documents/Research/04. EEG Research/Python_Analysis/ICA/Cleaned EEG Data/Task 1/P29_T1.fif) does not conform to MNE naming conventions. All raw files should end with raw.fif, raw_sss.fif, raw_tsss.fif, _meg.fif, _eeg.fif, _ieeg.fif, raw.fif.gz, raw_sss.fif.gz, raw_tsss.fif.gz, _meg.fif.gz, _eeg.fif.gz or _ieeg.fif.gz\n",
      "  fif_tasks = [mne.io.read_raw_fif(os.path.join(directory, f), preload=True) for f in fif_files]\n",
      "/var/folders/jq/xg0f849x4mg5f7y1_tjxk66c0000gn/T/ipykernel_4946/1529551201.py:37: RuntimeWarning: This filename (/Users/apple/Documents/Research/04. EEG Research/Python_Analysis/ICA/Cleaned EEG Data/Task 1/P30_T1.fif) does not conform to MNE naming conventions. All raw files should end with raw.fif, raw_sss.fif, raw_tsss.fif, _meg.fif, _eeg.fif, _ieeg.fif, raw.fif.gz, raw_sss.fif.gz, raw_tsss.fif.gz, _meg.fif.gz, _eeg.fif.gz or _ieeg.fif.gz\n",
      "  fif_tasks = [mne.io.read_raw_fif(os.path.join(directory, f), preload=True) for f in fif_files]\n",
      "/var/folders/jq/xg0f849x4mg5f7y1_tjxk66c0000gn/T/ipykernel_4946/1529551201.py:37: RuntimeWarning: This filename (/Users/apple/Documents/Research/04. EEG Research/Python_Analysis/ICA/Cleaned EEG Data/Task 1/P31_T1.fif) does not conform to MNE naming conventions. All raw files should end with raw.fif, raw_sss.fif, raw_tsss.fif, _meg.fif, _eeg.fif, _ieeg.fif, raw.fif.gz, raw_sss.fif.gz, raw_tsss.fif.gz, _meg.fif.gz, _eeg.fif.gz or _ieeg.fif.gz\n",
      "  fif_tasks = [mne.io.read_raw_fif(os.path.join(directory, f), preload=True) for f in fif_files]\n",
      "/var/folders/jq/xg0f849x4mg5f7y1_tjxk66c0000gn/T/ipykernel_4946/1529551201.py:37: RuntimeWarning: This filename (/Users/apple/Documents/Research/04. EEG Research/Python_Analysis/ICA/Cleaned EEG Data/Task 1/P32_T1.fif) does not conform to MNE naming conventions. All raw files should end with raw.fif, raw_sss.fif, raw_tsss.fif, _meg.fif, _eeg.fif, _ieeg.fif, raw.fif.gz, raw_sss.fif.gz, raw_tsss.fif.gz, _meg.fif.gz, _eeg.fif.gz or _ieeg.fif.gz\n",
      "  fif_tasks = [mne.io.read_raw_fif(os.path.join(directory, f), preload=True) for f in fif_files]\n",
      "/var/folders/jq/xg0f849x4mg5f7y1_tjxk66c0000gn/T/ipykernel_4946/1529551201.py:37: RuntimeWarning: This filename (/Users/apple/Documents/Research/04. EEG Research/Python_Analysis/ICA/Cleaned EEG Data/Task 2/P1_T2.fif) does not conform to MNE naming conventions. All raw files should end with raw.fif, raw_sss.fif, raw_tsss.fif, _meg.fif, _eeg.fif, _ieeg.fif, raw.fif.gz, raw_sss.fif.gz, raw_tsss.fif.gz, _meg.fif.gz, _eeg.fif.gz or _ieeg.fif.gz\n",
      "  fif_tasks = [mne.io.read_raw_fif(os.path.join(directory, f), preload=True) for f in fif_files]\n",
      "/var/folders/jq/xg0f849x4mg5f7y1_tjxk66c0000gn/T/ipykernel_4946/1529551201.py:37: RuntimeWarning: This filename (/Users/apple/Documents/Research/04. EEG Research/Python_Analysis/ICA/Cleaned EEG Data/Task 2/P3_T2.fif) does not conform to MNE naming conventions. All raw files should end with raw.fif, raw_sss.fif, raw_tsss.fif, _meg.fif, _eeg.fif, _ieeg.fif, raw.fif.gz, raw_sss.fif.gz, raw_tsss.fif.gz, _meg.fif.gz, _eeg.fif.gz or _ieeg.fif.gz\n",
      "  fif_tasks = [mne.io.read_raw_fif(os.path.join(directory, f), preload=True) for f in fif_files]\n",
      "/var/folders/jq/xg0f849x4mg5f7y1_tjxk66c0000gn/T/ipykernel_4946/1529551201.py:37: RuntimeWarning: This filename (/Users/apple/Documents/Research/04. EEG Research/Python_Analysis/ICA/Cleaned EEG Data/Task 2/P4_T2.fif) does not conform to MNE naming conventions. All raw files should end with raw.fif, raw_sss.fif, raw_tsss.fif, _meg.fif, _eeg.fif, _ieeg.fif, raw.fif.gz, raw_sss.fif.gz, raw_tsss.fif.gz, _meg.fif.gz, _eeg.fif.gz or _ieeg.fif.gz\n",
      "  fif_tasks = [mne.io.read_raw_fif(os.path.join(directory, f), preload=True) for f in fif_files]\n",
      "/var/folders/jq/xg0f849x4mg5f7y1_tjxk66c0000gn/T/ipykernel_4946/1529551201.py:37: RuntimeWarning: This filename (/Users/apple/Documents/Research/04. EEG Research/Python_Analysis/ICA/Cleaned EEG Data/Task 2/P5_T2.fif) does not conform to MNE naming conventions. All raw files should end with raw.fif, raw_sss.fif, raw_tsss.fif, _meg.fif, _eeg.fif, _ieeg.fif, raw.fif.gz, raw_sss.fif.gz, raw_tsss.fif.gz, _meg.fif.gz, _eeg.fif.gz or _ieeg.fif.gz\n",
      "  fif_tasks = [mne.io.read_raw_fif(os.path.join(directory, f), preload=True) for f in fif_files]\n"
     ]
    },
    {
     "name": "stdout",
     "output_type": "stream",
     "text": [
      "    Range : 0 ... 108031 =      0.000 ...   421.996 secs\n",
      "Ready.\n",
      "Reading 0 ... 108031  =      0.000 ...   421.996 secs...\n",
      "Opening raw data file /Users/apple/Documents/Research/04. EEG Research/Python_Analysis/ICA/Cleaned EEG Data/Task 2/P6_T2.fif...\n",
      "    Range : 0 ... 54783 =      0.000 ...   213.996 secs\n",
      "Ready.\n",
      "Reading 0 ... 54783  =      0.000 ...   213.996 secs...\n",
      "Opening raw data file /Users/apple/Documents/Research/04. EEG Research/Python_Analysis/ICA/Cleaned EEG Data/Task 2/P7_T2.fif...\n",
      "    Range : 0 ... 54527 =      0.000 ...   212.996 secs\n",
      "Ready.\n",
      "Reading 0 ... 54527  =      0.000 ...   212.996 secs...\n",
      "Opening raw data file /Users/apple/Documents/Research/04. EEG Research/Python_Analysis/ICA/Cleaned EEG Data/Task 2/P8_T2.fif...\n",
      "    Range : 0 ... 135423 =      0.000 ...   528.996 secs\n",
      "Ready.\n",
      "Reading 0 ... 135423  =      0.000 ...   528.996 secs...\n",
      "Opening raw data file /Users/apple/Documents/Research/04. EEG Research/Python_Analysis/ICA/Cleaned EEG Data/Task 2/P9_T2.fif...\n",
      "    Range : 0 ... 73215 =      0.000 ...   285.996 secs\n",
      "Ready.\n",
      "Reading 0 ... 73215  =      0.000 ...   285.996 secs...\n",
      "Opening raw data file /Users/apple/Documents/Research/04. EEG Research/Python_Analysis/ICA/Cleaned EEG Data/Task 2/P10_T2.fif...\n",
      "    Range : 0 ... 169983 =      0.000 ...   663.996 secs\n",
      "Ready.\n",
      "Reading 0 ... 169983  =      0.000 ...   663.996 secs...\n",
      "Opening raw data file /Users/apple/Documents/Research/04. EEG Research/Python_Analysis/ICA/Cleaned EEG Data/Task 2/P11_T2.fif...\n",
      "    Range : 0 ... 132351 =      0.000 ...   516.996 secs\n",
      "Ready.\n",
      "Reading 0 ... 132351  =      0.000 ...   516.996 secs...\n",
      "Opening raw data file /Users/apple/Documents/Research/04. EEG Research/Python_Analysis/ICA/Cleaned EEG Data/Task 2/P12_T2.fif...\n"
     ]
    },
    {
     "name": "stderr",
     "output_type": "stream",
     "text": [
      "/var/folders/jq/xg0f849x4mg5f7y1_tjxk66c0000gn/T/ipykernel_4946/1529551201.py:37: RuntimeWarning: This filename (/Users/apple/Documents/Research/04. EEG Research/Python_Analysis/ICA/Cleaned EEG Data/Task 2/P6_T2.fif) does not conform to MNE naming conventions. All raw files should end with raw.fif, raw_sss.fif, raw_tsss.fif, _meg.fif, _eeg.fif, _ieeg.fif, raw.fif.gz, raw_sss.fif.gz, raw_tsss.fif.gz, _meg.fif.gz, _eeg.fif.gz or _ieeg.fif.gz\n",
      "  fif_tasks = [mne.io.read_raw_fif(os.path.join(directory, f), preload=True) for f in fif_files]\n",
      "/var/folders/jq/xg0f849x4mg5f7y1_tjxk66c0000gn/T/ipykernel_4946/1529551201.py:37: RuntimeWarning: This filename (/Users/apple/Documents/Research/04. EEG Research/Python_Analysis/ICA/Cleaned EEG Data/Task 2/P7_T2.fif) does not conform to MNE naming conventions. All raw files should end with raw.fif, raw_sss.fif, raw_tsss.fif, _meg.fif, _eeg.fif, _ieeg.fif, raw.fif.gz, raw_sss.fif.gz, raw_tsss.fif.gz, _meg.fif.gz, _eeg.fif.gz or _ieeg.fif.gz\n",
      "  fif_tasks = [mne.io.read_raw_fif(os.path.join(directory, f), preload=True) for f in fif_files]\n",
      "/var/folders/jq/xg0f849x4mg5f7y1_tjxk66c0000gn/T/ipykernel_4946/1529551201.py:37: RuntimeWarning: This filename (/Users/apple/Documents/Research/04. EEG Research/Python_Analysis/ICA/Cleaned EEG Data/Task 2/P8_T2.fif) does not conform to MNE naming conventions. All raw files should end with raw.fif, raw_sss.fif, raw_tsss.fif, _meg.fif, _eeg.fif, _ieeg.fif, raw.fif.gz, raw_sss.fif.gz, raw_tsss.fif.gz, _meg.fif.gz, _eeg.fif.gz or _ieeg.fif.gz\n",
      "  fif_tasks = [mne.io.read_raw_fif(os.path.join(directory, f), preload=True) for f in fif_files]\n",
      "/var/folders/jq/xg0f849x4mg5f7y1_tjxk66c0000gn/T/ipykernel_4946/1529551201.py:37: RuntimeWarning: This filename (/Users/apple/Documents/Research/04. EEG Research/Python_Analysis/ICA/Cleaned EEG Data/Task 2/P9_T2.fif) does not conform to MNE naming conventions. All raw files should end with raw.fif, raw_sss.fif, raw_tsss.fif, _meg.fif, _eeg.fif, _ieeg.fif, raw.fif.gz, raw_sss.fif.gz, raw_tsss.fif.gz, _meg.fif.gz, _eeg.fif.gz or _ieeg.fif.gz\n",
      "  fif_tasks = [mne.io.read_raw_fif(os.path.join(directory, f), preload=True) for f in fif_files]\n",
      "/var/folders/jq/xg0f849x4mg5f7y1_tjxk66c0000gn/T/ipykernel_4946/1529551201.py:37: RuntimeWarning: This filename (/Users/apple/Documents/Research/04. EEG Research/Python_Analysis/ICA/Cleaned EEG Data/Task 2/P10_T2.fif) does not conform to MNE naming conventions. All raw files should end with raw.fif, raw_sss.fif, raw_tsss.fif, _meg.fif, _eeg.fif, _ieeg.fif, raw.fif.gz, raw_sss.fif.gz, raw_tsss.fif.gz, _meg.fif.gz, _eeg.fif.gz or _ieeg.fif.gz\n",
      "  fif_tasks = [mne.io.read_raw_fif(os.path.join(directory, f), preload=True) for f in fif_files]\n",
      "/var/folders/jq/xg0f849x4mg5f7y1_tjxk66c0000gn/T/ipykernel_4946/1529551201.py:37: RuntimeWarning: This filename (/Users/apple/Documents/Research/04. EEG Research/Python_Analysis/ICA/Cleaned EEG Data/Task 2/P11_T2.fif) does not conform to MNE naming conventions. All raw files should end with raw.fif, raw_sss.fif, raw_tsss.fif, _meg.fif, _eeg.fif, _ieeg.fif, raw.fif.gz, raw_sss.fif.gz, raw_tsss.fif.gz, _meg.fif.gz, _eeg.fif.gz or _ieeg.fif.gz\n",
      "  fif_tasks = [mne.io.read_raw_fif(os.path.join(directory, f), preload=True) for f in fif_files]\n",
      "/var/folders/jq/xg0f849x4mg5f7y1_tjxk66c0000gn/T/ipykernel_4946/1529551201.py:37: RuntimeWarning: This filename (/Users/apple/Documents/Research/04. EEG Research/Python_Analysis/ICA/Cleaned EEG Data/Task 2/P12_T2.fif) does not conform to MNE naming conventions. All raw files should end with raw.fif, raw_sss.fif, raw_tsss.fif, _meg.fif, _eeg.fif, _ieeg.fif, raw.fif.gz, raw_sss.fif.gz, raw_tsss.fif.gz, _meg.fif.gz, _eeg.fif.gz or _ieeg.fif.gz\n",
      "  fif_tasks = [mne.io.read_raw_fif(os.path.join(directory, f), preload=True) for f in fif_files]\n"
     ]
    },
    {
     "name": "stdout",
     "output_type": "stream",
     "text": [
      "    Range : 0 ... 66815 =      0.000 ...   260.996 secs\n",
      "Ready.\n",
      "Reading 0 ... 66815  =      0.000 ...   260.996 secs...\n",
      "Opening raw data file /Users/apple/Documents/Research/04. EEG Research/Python_Analysis/ICA/Cleaned EEG Data/Task 2/P13_T2.fif...\n",
      "    Range : 0 ... 44031 =      0.000 ...   171.996 secs\n",
      "Ready.\n",
      "Reading 0 ... 44031  =      0.000 ...   171.996 secs...\n",
      "Opening raw data file /Users/apple/Documents/Research/04. EEG Research/Python_Analysis/ICA/Cleaned EEG Data/Task 2/P14_T2.fif...\n",
      "    Range : 0 ... 57087 =      0.000 ...   222.996 secs\n",
      "Ready.\n",
      "Reading 0 ... 57087  =      0.000 ...   222.996 secs...\n",
      "Opening raw data file /Users/apple/Documents/Research/04. EEG Research/Python_Analysis/ICA/Cleaned EEG Data/Task 2/P15_T2.fif...\n",
      "    Range : 0 ... 105471 =      0.000 ...   411.996 secs\n",
      "Ready.\n",
      "Reading 0 ... 105471  =      0.000 ...   411.996 secs...\n",
      "Opening raw data file /Users/apple/Documents/Research/04. EEG Research/Python_Analysis/ICA/Cleaned EEG Data/Task 2/P16_T2.fif...\n",
      "    Range : 0 ... 85759 =      0.000 ...   334.996 secs\n",
      "Ready.\n",
      "Reading 0 ... 85759  =      0.000 ...   334.996 secs...\n",
      "Opening raw data file /Users/apple/Documents/Research/04. EEG Research/Python_Analysis/ICA/Cleaned EEG Data/Task 2/P17_T2.fif...\n",
      "    Range : 0 ... 44543 =      0.000 ...   173.996 secs\n",
      "Ready.\n",
      "Reading 0 ... 44543  =      0.000 ...   173.996 secs...\n",
      "Opening raw data file /Users/apple/Documents/Research/04. EEG Research/Python_Analysis/ICA/Cleaned EEG Data/Task 2/P18_T2.fif...\n",
      "    Range : 0 ... 57599 =      0.000 ...   224.996 secs\n",
      "Ready.\n",
      "Reading 0 ... 57599  =      0.000 ...   224.996 secs...\n",
      "Opening raw data file /Users/apple/Documents/Research/04. EEG Research/Python_Analysis/ICA/Cleaned EEG Data/Task 2/P19_T2.fif...\n",
      "    Range : 0 ... 65279 =      0.000 ...   254.996 secs\n",
      "Ready.\n",
      "Reading 0 ... 65279  =      0.000 ...   254.996 secs...\n",
      "Opening raw data file /Users/apple/Documents/Research/04. EEG Research/Python_Analysis/ICA/Cleaned EEG Data/Task 2/P20_T2.fif...\n",
      "    Range : 0 ... 41983 =      0.000 ...   163.996 secs\n",
      "Ready.\n",
      "Reading 0 ... 41983  =      0.000 ...   163.996 secs...\n"
     ]
    },
    {
     "name": "stderr",
     "output_type": "stream",
     "text": [
      "/var/folders/jq/xg0f849x4mg5f7y1_tjxk66c0000gn/T/ipykernel_4946/1529551201.py:37: RuntimeWarning: This filename (/Users/apple/Documents/Research/04. EEG Research/Python_Analysis/ICA/Cleaned EEG Data/Task 2/P13_T2.fif) does not conform to MNE naming conventions. All raw files should end with raw.fif, raw_sss.fif, raw_tsss.fif, _meg.fif, _eeg.fif, _ieeg.fif, raw.fif.gz, raw_sss.fif.gz, raw_tsss.fif.gz, _meg.fif.gz, _eeg.fif.gz or _ieeg.fif.gz\n",
      "  fif_tasks = [mne.io.read_raw_fif(os.path.join(directory, f), preload=True) for f in fif_files]\n",
      "/var/folders/jq/xg0f849x4mg5f7y1_tjxk66c0000gn/T/ipykernel_4946/1529551201.py:37: RuntimeWarning: This filename (/Users/apple/Documents/Research/04. EEG Research/Python_Analysis/ICA/Cleaned EEG Data/Task 2/P14_T2.fif) does not conform to MNE naming conventions. All raw files should end with raw.fif, raw_sss.fif, raw_tsss.fif, _meg.fif, _eeg.fif, _ieeg.fif, raw.fif.gz, raw_sss.fif.gz, raw_tsss.fif.gz, _meg.fif.gz, _eeg.fif.gz or _ieeg.fif.gz\n",
      "  fif_tasks = [mne.io.read_raw_fif(os.path.join(directory, f), preload=True) for f in fif_files]\n",
      "/var/folders/jq/xg0f849x4mg5f7y1_tjxk66c0000gn/T/ipykernel_4946/1529551201.py:37: RuntimeWarning: This filename (/Users/apple/Documents/Research/04. EEG Research/Python_Analysis/ICA/Cleaned EEG Data/Task 2/P15_T2.fif) does not conform to MNE naming conventions. All raw files should end with raw.fif, raw_sss.fif, raw_tsss.fif, _meg.fif, _eeg.fif, _ieeg.fif, raw.fif.gz, raw_sss.fif.gz, raw_tsss.fif.gz, _meg.fif.gz, _eeg.fif.gz or _ieeg.fif.gz\n",
      "  fif_tasks = [mne.io.read_raw_fif(os.path.join(directory, f), preload=True) for f in fif_files]\n",
      "/var/folders/jq/xg0f849x4mg5f7y1_tjxk66c0000gn/T/ipykernel_4946/1529551201.py:37: RuntimeWarning: This filename (/Users/apple/Documents/Research/04. EEG Research/Python_Analysis/ICA/Cleaned EEG Data/Task 2/P16_T2.fif) does not conform to MNE naming conventions. All raw files should end with raw.fif, raw_sss.fif, raw_tsss.fif, _meg.fif, _eeg.fif, _ieeg.fif, raw.fif.gz, raw_sss.fif.gz, raw_tsss.fif.gz, _meg.fif.gz, _eeg.fif.gz or _ieeg.fif.gz\n",
      "  fif_tasks = [mne.io.read_raw_fif(os.path.join(directory, f), preload=True) for f in fif_files]\n",
      "/var/folders/jq/xg0f849x4mg5f7y1_tjxk66c0000gn/T/ipykernel_4946/1529551201.py:37: RuntimeWarning: This filename (/Users/apple/Documents/Research/04. EEG Research/Python_Analysis/ICA/Cleaned EEG Data/Task 2/P17_T2.fif) does not conform to MNE naming conventions. All raw files should end with raw.fif, raw_sss.fif, raw_tsss.fif, _meg.fif, _eeg.fif, _ieeg.fif, raw.fif.gz, raw_sss.fif.gz, raw_tsss.fif.gz, _meg.fif.gz, _eeg.fif.gz or _ieeg.fif.gz\n",
      "  fif_tasks = [mne.io.read_raw_fif(os.path.join(directory, f), preload=True) for f in fif_files]\n",
      "/var/folders/jq/xg0f849x4mg5f7y1_tjxk66c0000gn/T/ipykernel_4946/1529551201.py:37: RuntimeWarning: This filename (/Users/apple/Documents/Research/04. EEG Research/Python_Analysis/ICA/Cleaned EEG Data/Task 2/P18_T2.fif) does not conform to MNE naming conventions. All raw files should end with raw.fif, raw_sss.fif, raw_tsss.fif, _meg.fif, _eeg.fif, _ieeg.fif, raw.fif.gz, raw_sss.fif.gz, raw_tsss.fif.gz, _meg.fif.gz, _eeg.fif.gz or _ieeg.fif.gz\n",
      "  fif_tasks = [mne.io.read_raw_fif(os.path.join(directory, f), preload=True) for f in fif_files]\n",
      "/var/folders/jq/xg0f849x4mg5f7y1_tjxk66c0000gn/T/ipykernel_4946/1529551201.py:37: RuntimeWarning: This filename (/Users/apple/Documents/Research/04. EEG Research/Python_Analysis/ICA/Cleaned EEG Data/Task 2/P19_T2.fif) does not conform to MNE naming conventions. All raw files should end with raw.fif, raw_sss.fif, raw_tsss.fif, _meg.fif, _eeg.fif, _ieeg.fif, raw.fif.gz, raw_sss.fif.gz, raw_tsss.fif.gz, _meg.fif.gz, _eeg.fif.gz or _ieeg.fif.gz\n",
      "  fif_tasks = [mne.io.read_raw_fif(os.path.join(directory, f), preload=True) for f in fif_files]\n",
      "/var/folders/jq/xg0f849x4mg5f7y1_tjxk66c0000gn/T/ipykernel_4946/1529551201.py:37: RuntimeWarning: This filename (/Users/apple/Documents/Research/04. EEG Research/Python_Analysis/ICA/Cleaned EEG Data/Task 2/P20_T2.fif) does not conform to MNE naming conventions. All raw files should end with raw.fif, raw_sss.fif, raw_tsss.fif, _meg.fif, _eeg.fif, _ieeg.fif, raw.fif.gz, raw_sss.fif.gz, raw_tsss.fif.gz, _meg.fif.gz, _eeg.fif.gz or _ieeg.fif.gz\n",
      "  fif_tasks = [mne.io.read_raw_fif(os.path.join(directory, f), preload=True) for f in fif_files]\n"
     ]
    },
    {
     "name": "stdout",
     "output_type": "stream",
     "text": [
      "Opening raw data file /Users/apple/Documents/Research/04. EEG Research/Python_Analysis/ICA/Cleaned EEG Data/Task 2/P21_T2.fif...\n",
      "    Range : 0 ... 76031 =      0.000 ...   296.996 secs\n",
      "Ready.\n",
      "Reading 0 ... 76031  =      0.000 ...   296.996 secs...\n",
      "Opening raw data file /Users/apple/Documents/Research/04. EEG Research/Python_Analysis/ICA/Cleaned EEG Data/Task 2/P22_T2.fif...\n",
      "    Range : 0 ... 76543 =      0.000 ...   298.996 secs\n",
      "Ready.\n",
      "Reading 0 ... 76543  =      0.000 ...   298.996 secs...\n",
      "Opening raw data file /Users/apple/Documents/Research/04. EEG Research/Python_Analysis/ICA/Cleaned EEG Data/Task 2/P23_T2.fif...\n",
      "    Range : 0 ... 94975 =      0.000 ...   370.996 secs\n",
      "Ready.\n",
      "Reading 0 ... 94975  =      0.000 ...   370.996 secs...\n",
      "Opening raw data file /Users/apple/Documents/Research/04. EEG Research/Python_Analysis/ICA/Cleaned EEG Data/Task 2/P24_T2.fif...\n",
      "    Range : 0 ... 128767 =      0.000 ...   502.996 secs\n",
      "Ready.\n",
      "Reading 0 ... 128767  =      0.000 ...   502.996 secs...\n",
      "Opening raw data file /Users/apple/Documents/Research/04. EEG Research/Python_Analysis/ICA/Cleaned EEG Data/Task 2/P25_T2.fif...\n",
      "    Range : 0 ... 132863 =      0.000 ...   518.996 secs\n",
      "Ready.\n",
      "Reading 0 ... 132863  =      0.000 ...   518.996 secs...\n",
      "Opening raw data file /Users/apple/Documents/Research/04. EEG Research/Python_Analysis/ICA/Cleaned EEG Data/Task 2/P26_T2.fif...\n",
      "    Range : 0 ... 80639 =      0.000 ...   314.996 secs\n",
      "Ready.\n",
      "Reading 0 ... 80639  =      0.000 ...   314.996 secs...\n",
      "Opening raw data file /Users/apple/Documents/Research/04. EEG Research/Python_Analysis/ICA/Cleaned EEG Data/Task 2/P27_T2.fif...\n",
      "    Range : 0 ... 96511 =      0.000 ...   376.996 secs\n",
      "Ready.\n",
      "Reading 0 ... 96511  =      0.000 ...   376.996 secs...\n"
     ]
    },
    {
     "name": "stderr",
     "output_type": "stream",
     "text": [
      "/var/folders/jq/xg0f849x4mg5f7y1_tjxk66c0000gn/T/ipykernel_4946/1529551201.py:37: RuntimeWarning: This filename (/Users/apple/Documents/Research/04. EEG Research/Python_Analysis/ICA/Cleaned EEG Data/Task 2/P21_T2.fif) does not conform to MNE naming conventions. All raw files should end with raw.fif, raw_sss.fif, raw_tsss.fif, _meg.fif, _eeg.fif, _ieeg.fif, raw.fif.gz, raw_sss.fif.gz, raw_tsss.fif.gz, _meg.fif.gz, _eeg.fif.gz or _ieeg.fif.gz\n",
      "  fif_tasks = [mne.io.read_raw_fif(os.path.join(directory, f), preload=True) for f in fif_files]\n",
      "/var/folders/jq/xg0f849x4mg5f7y1_tjxk66c0000gn/T/ipykernel_4946/1529551201.py:37: RuntimeWarning: This filename (/Users/apple/Documents/Research/04. EEG Research/Python_Analysis/ICA/Cleaned EEG Data/Task 2/P22_T2.fif) does not conform to MNE naming conventions. All raw files should end with raw.fif, raw_sss.fif, raw_tsss.fif, _meg.fif, _eeg.fif, _ieeg.fif, raw.fif.gz, raw_sss.fif.gz, raw_tsss.fif.gz, _meg.fif.gz, _eeg.fif.gz or _ieeg.fif.gz\n",
      "  fif_tasks = [mne.io.read_raw_fif(os.path.join(directory, f), preload=True) for f in fif_files]\n",
      "/var/folders/jq/xg0f849x4mg5f7y1_tjxk66c0000gn/T/ipykernel_4946/1529551201.py:37: RuntimeWarning: This filename (/Users/apple/Documents/Research/04. EEG Research/Python_Analysis/ICA/Cleaned EEG Data/Task 2/P23_T2.fif) does not conform to MNE naming conventions. All raw files should end with raw.fif, raw_sss.fif, raw_tsss.fif, _meg.fif, _eeg.fif, _ieeg.fif, raw.fif.gz, raw_sss.fif.gz, raw_tsss.fif.gz, _meg.fif.gz, _eeg.fif.gz or _ieeg.fif.gz\n",
      "  fif_tasks = [mne.io.read_raw_fif(os.path.join(directory, f), preload=True) for f in fif_files]\n",
      "/var/folders/jq/xg0f849x4mg5f7y1_tjxk66c0000gn/T/ipykernel_4946/1529551201.py:37: RuntimeWarning: This filename (/Users/apple/Documents/Research/04. EEG Research/Python_Analysis/ICA/Cleaned EEG Data/Task 2/P24_T2.fif) does not conform to MNE naming conventions. All raw files should end with raw.fif, raw_sss.fif, raw_tsss.fif, _meg.fif, _eeg.fif, _ieeg.fif, raw.fif.gz, raw_sss.fif.gz, raw_tsss.fif.gz, _meg.fif.gz, _eeg.fif.gz or _ieeg.fif.gz\n",
      "  fif_tasks = [mne.io.read_raw_fif(os.path.join(directory, f), preload=True) for f in fif_files]\n",
      "/var/folders/jq/xg0f849x4mg5f7y1_tjxk66c0000gn/T/ipykernel_4946/1529551201.py:37: RuntimeWarning: This filename (/Users/apple/Documents/Research/04. EEG Research/Python_Analysis/ICA/Cleaned EEG Data/Task 2/P25_T2.fif) does not conform to MNE naming conventions. All raw files should end with raw.fif, raw_sss.fif, raw_tsss.fif, _meg.fif, _eeg.fif, _ieeg.fif, raw.fif.gz, raw_sss.fif.gz, raw_tsss.fif.gz, _meg.fif.gz, _eeg.fif.gz or _ieeg.fif.gz\n",
      "  fif_tasks = [mne.io.read_raw_fif(os.path.join(directory, f), preload=True) for f in fif_files]\n",
      "/var/folders/jq/xg0f849x4mg5f7y1_tjxk66c0000gn/T/ipykernel_4946/1529551201.py:37: RuntimeWarning: This filename (/Users/apple/Documents/Research/04. EEG Research/Python_Analysis/ICA/Cleaned EEG Data/Task 2/P26_T2.fif) does not conform to MNE naming conventions. All raw files should end with raw.fif, raw_sss.fif, raw_tsss.fif, _meg.fif, _eeg.fif, _ieeg.fif, raw.fif.gz, raw_sss.fif.gz, raw_tsss.fif.gz, _meg.fif.gz, _eeg.fif.gz or _ieeg.fif.gz\n",
      "  fif_tasks = [mne.io.read_raw_fif(os.path.join(directory, f), preload=True) for f in fif_files]\n",
      "/var/folders/jq/xg0f849x4mg5f7y1_tjxk66c0000gn/T/ipykernel_4946/1529551201.py:37: RuntimeWarning: This filename (/Users/apple/Documents/Research/04. EEG Research/Python_Analysis/ICA/Cleaned EEG Data/Task 2/P27_T2.fif) does not conform to MNE naming conventions. All raw files should end with raw.fif, raw_sss.fif, raw_tsss.fif, _meg.fif, _eeg.fif, _ieeg.fif, raw.fif.gz, raw_sss.fif.gz, raw_tsss.fif.gz, _meg.fif.gz, _eeg.fif.gz or _ieeg.fif.gz\n",
      "  fif_tasks = [mne.io.read_raw_fif(os.path.join(directory, f), preload=True) for f in fif_files]\n"
     ]
    },
    {
     "name": "stdout",
     "output_type": "stream",
     "text": [
      "Opening raw data file /Users/apple/Documents/Research/04. EEG Research/Python_Analysis/ICA/Cleaned EEG Data/Task 2/P28_T2.fif...\n",
      "    Range : 0 ... 132607 =      0.000 ...   517.996 secs\n",
      "Ready.\n",
      "Reading 0 ... 132607  =      0.000 ...   517.996 secs...\n",
      "Opening raw data file /Users/apple/Documents/Research/04. EEG Research/Python_Analysis/ICA/Cleaned EEG Data/Task 2/P29_T2.fif...\n",
      "    Range : 0 ... 102911 =      0.000 ...   401.996 secs\n",
      "Ready.\n",
      "Reading 0 ... 102911  =      0.000 ...   401.996 secs...\n",
      "Opening raw data file /Users/apple/Documents/Research/04. EEG Research/Python_Analysis/ICA/Cleaned EEG Data/Task 2/P30_T2.fif...\n",
      "    Range : 0 ... 49151 =      0.000 ...   191.996 secs\n",
      "Ready.\n",
      "Reading 0 ... 49151  =      0.000 ...   191.996 secs...\n",
      "Opening raw data file /Users/apple/Documents/Research/04. EEG Research/Python_Analysis/ICA/Cleaned EEG Data/Task 2/P31_T2.fif...\n",
      "    Range : 0 ... 60671 =      0.000 ...   236.996 secs\n",
      "Ready.\n",
      "Reading 0 ... 60671  =      0.000 ...   236.996 secs...\n",
      "Opening raw data file /Users/apple/Documents/Research/04. EEG Research/Python_Analysis/ICA/Cleaned EEG Data/Task 2/P32_T2.fif...\n",
      "    Range : 896 ... 97280 =      3.500 ...   380.000 secs\n",
      "Ready.\n",
      "Reading 0 ... 96384  =      0.000 ...   376.500 secs...\n",
      "Opening raw data file /Users/apple/Documents/Research/04. EEG Research/Python_Analysis/ICA/Cleaned EEG Data/Task 3/P1_T3.fif...\n",
      "    Range : 0 ... 168447 =      0.000 ...   657.996 secs\n",
      "Ready.\n",
      "Reading 0 ... 168447  =      0.000 ...   657.996 secs...\n",
      "Opening raw data file /Users/apple/Documents/Research/04. EEG Research/Python_Analysis/ICA/Cleaned EEG Data/Task 3/P3_T3.fif...\n"
     ]
    },
    {
     "name": "stderr",
     "output_type": "stream",
     "text": [
      "/var/folders/jq/xg0f849x4mg5f7y1_tjxk66c0000gn/T/ipykernel_4946/1529551201.py:37: RuntimeWarning: This filename (/Users/apple/Documents/Research/04. EEG Research/Python_Analysis/ICA/Cleaned EEG Data/Task 2/P28_T2.fif) does not conform to MNE naming conventions. All raw files should end with raw.fif, raw_sss.fif, raw_tsss.fif, _meg.fif, _eeg.fif, _ieeg.fif, raw.fif.gz, raw_sss.fif.gz, raw_tsss.fif.gz, _meg.fif.gz, _eeg.fif.gz or _ieeg.fif.gz\n",
      "  fif_tasks = [mne.io.read_raw_fif(os.path.join(directory, f), preload=True) for f in fif_files]\n",
      "/var/folders/jq/xg0f849x4mg5f7y1_tjxk66c0000gn/T/ipykernel_4946/1529551201.py:37: RuntimeWarning: This filename (/Users/apple/Documents/Research/04. EEG Research/Python_Analysis/ICA/Cleaned EEG Data/Task 2/P29_T2.fif) does not conform to MNE naming conventions. All raw files should end with raw.fif, raw_sss.fif, raw_tsss.fif, _meg.fif, _eeg.fif, _ieeg.fif, raw.fif.gz, raw_sss.fif.gz, raw_tsss.fif.gz, _meg.fif.gz, _eeg.fif.gz or _ieeg.fif.gz\n",
      "  fif_tasks = [mne.io.read_raw_fif(os.path.join(directory, f), preload=True) for f in fif_files]\n",
      "/var/folders/jq/xg0f849x4mg5f7y1_tjxk66c0000gn/T/ipykernel_4946/1529551201.py:37: RuntimeWarning: This filename (/Users/apple/Documents/Research/04. EEG Research/Python_Analysis/ICA/Cleaned EEG Data/Task 2/P30_T2.fif) does not conform to MNE naming conventions. All raw files should end with raw.fif, raw_sss.fif, raw_tsss.fif, _meg.fif, _eeg.fif, _ieeg.fif, raw.fif.gz, raw_sss.fif.gz, raw_tsss.fif.gz, _meg.fif.gz, _eeg.fif.gz or _ieeg.fif.gz\n",
      "  fif_tasks = [mne.io.read_raw_fif(os.path.join(directory, f), preload=True) for f in fif_files]\n",
      "/var/folders/jq/xg0f849x4mg5f7y1_tjxk66c0000gn/T/ipykernel_4946/1529551201.py:37: RuntimeWarning: This filename (/Users/apple/Documents/Research/04. EEG Research/Python_Analysis/ICA/Cleaned EEG Data/Task 2/P31_T2.fif) does not conform to MNE naming conventions. All raw files should end with raw.fif, raw_sss.fif, raw_tsss.fif, _meg.fif, _eeg.fif, _ieeg.fif, raw.fif.gz, raw_sss.fif.gz, raw_tsss.fif.gz, _meg.fif.gz, _eeg.fif.gz or _ieeg.fif.gz\n",
      "  fif_tasks = [mne.io.read_raw_fif(os.path.join(directory, f), preload=True) for f in fif_files]\n",
      "/var/folders/jq/xg0f849x4mg5f7y1_tjxk66c0000gn/T/ipykernel_4946/1529551201.py:37: RuntimeWarning: This filename (/Users/apple/Documents/Research/04. EEG Research/Python_Analysis/ICA/Cleaned EEG Data/Task 2/P32_T2.fif) does not conform to MNE naming conventions. All raw files should end with raw.fif, raw_sss.fif, raw_tsss.fif, _meg.fif, _eeg.fif, _ieeg.fif, raw.fif.gz, raw_sss.fif.gz, raw_tsss.fif.gz, _meg.fif.gz, _eeg.fif.gz or _ieeg.fif.gz\n",
      "  fif_tasks = [mne.io.read_raw_fif(os.path.join(directory, f), preload=True) for f in fif_files]\n",
      "/var/folders/jq/xg0f849x4mg5f7y1_tjxk66c0000gn/T/ipykernel_4946/1529551201.py:37: RuntimeWarning: This filename (/Users/apple/Documents/Research/04. EEG Research/Python_Analysis/ICA/Cleaned EEG Data/Task 3/P1_T3.fif) does not conform to MNE naming conventions. All raw files should end with raw.fif, raw_sss.fif, raw_tsss.fif, _meg.fif, _eeg.fif, _ieeg.fif, raw.fif.gz, raw_sss.fif.gz, raw_tsss.fif.gz, _meg.fif.gz, _eeg.fif.gz or _ieeg.fif.gz\n",
      "  fif_tasks = [mne.io.read_raw_fif(os.path.join(directory, f), preload=True) for f in fif_files]\n",
      "/var/folders/jq/xg0f849x4mg5f7y1_tjxk66c0000gn/T/ipykernel_4946/1529551201.py:37: RuntimeWarning: This filename (/Users/apple/Documents/Research/04. EEG Research/Python_Analysis/ICA/Cleaned EEG Data/Task 3/P3_T3.fif) does not conform to MNE naming conventions. All raw files should end with raw.fif, raw_sss.fif, raw_tsss.fif, _meg.fif, _eeg.fif, _ieeg.fif, raw.fif.gz, raw_sss.fif.gz, raw_tsss.fif.gz, _meg.fif.gz, _eeg.fif.gz or _ieeg.fif.gz\n",
      "  fif_tasks = [mne.io.read_raw_fif(os.path.join(directory, f), preload=True) for f in fif_files]\n"
     ]
    },
    {
     "name": "stdout",
     "output_type": "stream",
     "text": [
      "    Range : 0 ... 90879 =      0.000 ...   354.996 secs\n",
      "Ready.\n",
      "Reading 0 ... 90879  =      0.000 ...   354.996 secs...\n",
      "Opening raw data file /Users/apple/Documents/Research/04. EEG Research/Python_Analysis/ICA/Cleaned EEG Data/Task 3/P4_T3.fif...\n",
      "    Range : 0 ... 44543 =      0.000 ...   173.996 secs\n",
      "Ready.\n",
      "Reading 0 ... 44543  =      0.000 ...   173.996 secs...\n",
      "Opening raw data file /Users/apple/Documents/Research/04. EEG Research/Python_Analysis/ICA/Cleaned EEG Data/Task 3/P5_T3.fif...\n",
      "    Range : 0 ... 175359 =      0.000 ...   684.996 secs\n",
      "Ready.\n",
      "Reading 0 ... 175359  =      0.000 ...   684.996 secs...\n",
      "Opening raw data file /Users/apple/Documents/Research/04. EEG Research/Python_Analysis/ICA/Cleaned EEG Data/Task 3/P6_T3.fif...\n",
      "    Range : 0 ... 88831 =      0.000 ...   346.996 secs\n",
      "Ready.\n",
      "Reading 0 ... 88831  =      0.000 ...   346.996 secs...\n",
      "Opening raw data file /Users/apple/Documents/Research/04. EEG Research/Python_Analysis/ICA/Cleaned EEG Data/Task 3/P7_T3.fif...\n",
      "    Range : 0 ... 90111 =      0.000 ...   351.996 secs\n",
      "Ready.\n",
      "Reading 0 ... 90111  =      0.000 ...   351.996 secs...\n",
      "Opening raw data file /Users/apple/Documents/Research/04. EEG Research/Python_Analysis/ICA/Cleaned EEG Data/Task 3/P8_T3.fif...\n",
      "    Range : 0 ... 162047 =      0.000 ...   632.996 secs\n",
      "Ready.\n",
      "Reading 0 ... 162047  =      0.000 ...   632.996 secs...\n",
      "Opening raw data file /Users/apple/Documents/Research/04. EEG Research/Python_Analysis/ICA/Cleaned EEG Data/Task 3/P9_T3.fif...\n"
     ]
    },
    {
     "name": "stderr",
     "output_type": "stream",
     "text": [
      "/var/folders/jq/xg0f849x4mg5f7y1_tjxk66c0000gn/T/ipykernel_4946/1529551201.py:37: RuntimeWarning: This filename (/Users/apple/Documents/Research/04. EEG Research/Python_Analysis/ICA/Cleaned EEG Data/Task 3/P4_T3.fif) does not conform to MNE naming conventions. All raw files should end with raw.fif, raw_sss.fif, raw_tsss.fif, _meg.fif, _eeg.fif, _ieeg.fif, raw.fif.gz, raw_sss.fif.gz, raw_tsss.fif.gz, _meg.fif.gz, _eeg.fif.gz or _ieeg.fif.gz\n",
      "  fif_tasks = [mne.io.read_raw_fif(os.path.join(directory, f), preload=True) for f in fif_files]\n",
      "/var/folders/jq/xg0f849x4mg5f7y1_tjxk66c0000gn/T/ipykernel_4946/1529551201.py:37: RuntimeWarning: This filename (/Users/apple/Documents/Research/04. EEG Research/Python_Analysis/ICA/Cleaned EEG Data/Task 3/P5_T3.fif) does not conform to MNE naming conventions. All raw files should end with raw.fif, raw_sss.fif, raw_tsss.fif, _meg.fif, _eeg.fif, _ieeg.fif, raw.fif.gz, raw_sss.fif.gz, raw_tsss.fif.gz, _meg.fif.gz, _eeg.fif.gz or _ieeg.fif.gz\n",
      "  fif_tasks = [mne.io.read_raw_fif(os.path.join(directory, f), preload=True) for f in fif_files]\n",
      "/var/folders/jq/xg0f849x4mg5f7y1_tjxk66c0000gn/T/ipykernel_4946/1529551201.py:37: RuntimeWarning: This filename (/Users/apple/Documents/Research/04. EEG Research/Python_Analysis/ICA/Cleaned EEG Data/Task 3/P6_T3.fif) does not conform to MNE naming conventions. All raw files should end with raw.fif, raw_sss.fif, raw_tsss.fif, _meg.fif, _eeg.fif, _ieeg.fif, raw.fif.gz, raw_sss.fif.gz, raw_tsss.fif.gz, _meg.fif.gz, _eeg.fif.gz or _ieeg.fif.gz\n",
      "  fif_tasks = [mne.io.read_raw_fif(os.path.join(directory, f), preload=True) for f in fif_files]\n",
      "/var/folders/jq/xg0f849x4mg5f7y1_tjxk66c0000gn/T/ipykernel_4946/1529551201.py:37: RuntimeWarning: This filename (/Users/apple/Documents/Research/04. EEG Research/Python_Analysis/ICA/Cleaned EEG Data/Task 3/P7_T3.fif) does not conform to MNE naming conventions. All raw files should end with raw.fif, raw_sss.fif, raw_tsss.fif, _meg.fif, _eeg.fif, _ieeg.fif, raw.fif.gz, raw_sss.fif.gz, raw_tsss.fif.gz, _meg.fif.gz, _eeg.fif.gz or _ieeg.fif.gz\n",
      "  fif_tasks = [mne.io.read_raw_fif(os.path.join(directory, f), preload=True) for f in fif_files]\n",
      "/var/folders/jq/xg0f849x4mg5f7y1_tjxk66c0000gn/T/ipykernel_4946/1529551201.py:37: RuntimeWarning: This filename (/Users/apple/Documents/Research/04. EEG Research/Python_Analysis/ICA/Cleaned EEG Data/Task 3/P8_T3.fif) does not conform to MNE naming conventions. All raw files should end with raw.fif, raw_sss.fif, raw_tsss.fif, _meg.fif, _eeg.fif, _ieeg.fif, raw.fif.gz, raw_sss.fif.gz, raw_tsss.fif.gz, _meg.fif.gz, _eeg.fif.gz or _ieeg.fif.gz\n",
      "  fif_tasks = [mne.io.read_raw_fif(os.path.join(directory, f), preload=True) for f in fif_files]\n",
      "/var/folders/jq/xg0f849x4mg5f7y1_tjxk66c0000gn/T/ipykernel_4946/1529551201.py:37: RuntimeWarning: This filename (/Users/apple/Documents/Research/04. EEG Research/Python_Analysis/ICA/Cleaned EEG Data/Task 3/P9_T3.fif) does not conform to MNE naming conventions. All raw files should end with raw.fif, raw_sss.fif, raw_tsss.fif, _meg.fif, _eeg.fif, _ieeg.fif, raw.fif.gz, raw_sss.fif.gz, raw_tsss.fif.gz, _meg.fif.gz, _eeg.fif.gz or _ieeg.fif.gz\n",
      "  fif_tasks = [mne.io.read_raw_fif(os.path.join(directory, f), preload=True) for f in fif_files]\n"
     ]
    },
    {
     "name": "stdout",
     "output_type": "stream",
     "text": [
      "    Range : 0 ... 229119 =      0.000 ...   894.996 secs\n",
      "Ready.\n",
      "Reading 0 ... 229119  =      0.000 ...   894.996 secs...\n",
      "Opening raw data file /Users/apple/Documents/Research/04. EEG Research/Python_Analysis/ICA/Cleaned EEG Data/Task 3/P10_T3.fif...\n",
      "    Range : 0 ... 190207 =      0.000 ...   742.996 secs\n",
      "Ready.\n",
      "Reading 0 ... 190207  =      0.000 ...   742.996 secs...\n",
      "Opening raw data file /Users/apple/Documents/Research/04. EEG Research/Python_Analysis/ICA/Cleaned EEG Data/Task 3/P11_T3.fif...\n",
      "    Range : 0 ... 195583 =      0.000 ...   763.996 secs\n",
      "Ready.\n",
      "Reading 0 ... 195583  =      0.000 ...   763.996 secs...\n",
      "Opening raw data file /Users/apple/Documents/Research/04. EEG Research/Python_Analysis/ICA/Cleaned EEG Data/Task 3/P12_T3.fif...\n",
      "    Range : 0 ... 146687 =      0.000 ...   572.996 secs\n",
      "Ready.\n",
      "Reading 0 ... 146687  =      0.000 ...   572.996 secs...\n",
      "Opening raw data file /Users/apple/Documents/Research/04. EEG Research/Python_Analysis/ICA/Cleaned EEG Data/Task 3/P13_T3.fif...\n",
      "    Range : 0 ... 86527 =      0.000 ...   337.996 secs\n",
      "Ready.\n",
      "Reading 0 ... 86527  =      0.000 ...   337.996 secs...\n",
      "Opening raw data file /Users/apple/Documents/Research/04. EEG Research/Python_Analysis/ICA/Cleaned EEG Data/Task 3/P14_T3.fif...\n",
      "    Range : 0 ... 86271 =      0.000 ...   336.996 secs\n",
      "Ready.\n",
      "Reading 0 ... 86271  =      0.000 ...   336.996 secs...\n"
     ]
    },
    {
     "name": "stderr",
     "output_type": "stream",
     "text": [
      "/var/folders/jq/xg0f849x4mg5f7y1_tjxk66c0000gn/T/ipykernel_4946/1529551201.py:37: RuntimeWarning: This filename (/Users/apple/Documents/Research/04. EEG Research/Python_Analysis/ICA/Cleaned EEG Data/Task 3/P10_T3.fif) does not conform to MNE naming conventions. All raw files should end with raw.fif, raw_sss.fif, raw_tsss.fif, _meg.fif, _eeg.fif, _ieeg.fif, raw.fif.gz, raw_sss.fif.gz, raw_tsss.fif.gz, _meg.fif.gz, _eeg.fif.gz or _ieeg.fif.gz\n",
      "  fif_tasks = [mne.io.read_raw_fif(os.path.join(directory, f), preload=True) for f in fif_files]\n",
      "/var/folders/jq/xg0f849x4mg5f7y1_tjxk66c0000gn/T/ipykernel_4946/1529551201.py:37: RuntimeWarning: This filename (/Users/apple/Documents/Research/04. EEG Research/Python_Analysis/ICA/Cleaned EEG Data/Task 3/P11_T3.fif) does not conform to MNE naming conventions. All raw files should end with raw.fif, raw_sss.fif, raw_tsss.fif, _meg.fif, _eeg.fif, _ieeg.fif, raw.fif.gz, raw_sss.fif.gz, raw_tsss.fif.gz, _meg.fif.gz, _eeg.fif.gz or _ieeg.fif.gz\n",
      "  fif_tasks = [mne.io.read_raw_fif(os.path.join(directory, f), preload=True) for f in fif_files]\n",
      "/var/folders/jq/xg0f849x4mg5f7y1_tjxk66c0000gn/T/ipykernel_4946/1529551201.py:37: RuntimeWarning: This filename (/Users/apple/Documents/Research/04. EEG Research/Python_Analysis/ICA/Cleaned EEG Data/Task 3/P12_T3.fif) does not conform to MNE naming conventions. All raw files should end with raw.fif, raw_sss.fif, raw_tsss.fif, _meg.fif, _eeg.fif, _ieeg.fif, raw.fif.gz, raw_sss.fif.gz, raw_tsss.fif.gz, _meg.fif.gz, _eeg.fif.gz or _ieeg.fif.gz\n",
      "  fif_tasks = [mne.io.read_raw_fif(os.path.join(directory, f), preload=True) for f in fif_files]\n",
      "/var/folders/jq/xg0f849x4mg5f7y1_tjxk66c0000gn/T/ipykernel_4946/1529551201.py:37: RuntimeWarning: This filename (/Users/apple/Documents/Research/04. EEG Research/Python_Analysis/ICA/Cleaned EEG Data/Task 3/P13_T3.fif) does not conform to MNE naming conventions. All raw files should end with raw.fif, raw_sss.fif, raw_tsss.fif, _meg.fif, _eeg.fif, _ieeg.fif, raw.fif.gz, raw_sss.fif.gz, raw_tsss.fif.gz, _meg.fif.gz, _eeg.fif.gz or _ieeg.fif.gz\n",
      "  fif_tasks = [mne.io.read_raw_fif(os.path.join(directory, f), preload=True) for f in fif_files]\n",
      "/var/folders/jq/xg0f849x4mg5f7y1_tjxk66c0000gn/T/ipykernel_4946/1529551201.py:37: RuntimeWarning: This filename (/Users/apple/Documents/Research/04. EEG Research/Python_Analysis/ICA/Cleaned EEG Data/Task 3/P14_T3.fif) does not conform to MNE naming conventions. All raw files should end with raw.fif, raw_sss.fif, raw_tsss.fif, _meg.fif, _eeg.fif, _ieeg.fif, raw.fif.gz, raw_sss.fif.gz, raw_tsss.fif.gz, _meg.fif.gz, _eeg.fif.gz or _ieeg.fif.gz\n",
      "  fif_tasks = [mne.io.read_raw_fif(os.path.join(directory, f), preload=True) for f in fif_files]\n"
     ]
    },
    {
     "name": "stdout",
     "output_type": "stream",
     "text": [
      "Opening raw data file /Users/apple/Documents/Research/04. EEG Research/Python_Analysis/ICA/Cleaned EEG Data/Task 3/P15_T3.fif...\n",
      "    Range : 0 ... 117759 =      0.000 ...   459.996 secs\n",
      "Ready.\n",
      "Reading 0 ... 117759  =      0.000 ...   459.996 secs...\n",
      "Opening raw data file /Users/apple/Documents/Research/04. EEG Research/Python_Analysis/ICA/Cleaned EEG Data/Task 3/P16_T3.fif...\n",
      "    Range : 0 ... 70911 =      0.000 ...   276.996 secs\n",
      "Ready.\n",
      "Reading 0 ... 70911  =      0.000 ...   276.996 secs...\n",
      "Opening raw data file /Users/apple/Documents/Research/04. EEG Research/Python_Analysis/ICA/Cleaned EEG Data/Task 3/P17_T3.fif...\n",
      "    Range : 0 ... 107007 =      0.000 ...   417.996 secs\n",
      "Ready.\n",
      "Reading 0 ... 107007  =      0.000 ...   417.996 secs...\n",
      "Opening raw data file /Users/apple/Documents/Research/04. EEG Research/Python_Analysis/ICA/Cleaned EEG Data/Task 3/P18_T3.fif...\n",
      "    Range : 0 ... 153855 =      0.000 ...   600.996 secs\n",
      "Ready.\n",
      "Reading 0 ... 153855  =      0.000 ...   600.996 secs...\n",
      "Opening raw data file /Users/apple/Documents/Research/04. EEG Research/Python_Analysis/ICA/Cleaned EEG Data/Task 3/P19_T3.fif...\n",
      "    Range : 0 ... 163839 =      0.000 ...   639.996 secs\n",
      "Ready.\n",
      "Reading 0 ... 163839  =      0.000 ...   639.996 secs...\n"
     ]
    },
    {
     "name": "stderr",
     "output_type": "stream",
     "text": [
      "/var/folders/jq/xg0f849x4mg5f7y1_tjxk66c0000gn/T/ipykernel_4946/1529551201.py:37: RuntimeWarning: This filename (/Users/apple/Documents/Research/04. EEG Research/Python_Analysis/ICA/Cleaned EEG Data/Task 3/P15_T3.fif) does not conform to MNE naming conventions. All raw files should end with raw.fif, raw_sss.fif, raw_tsss.fif, _meg.fif, _eeg.fif, _ieeg.fif, raw.fif.gz, raw_sss.fif.gz, raw_tsss.fif.gz, _meg.fif.gz, _eeg.fif.gz or _ieeg.fif.gz\n",
      "  fif_tasks = [mne.io.read_raw_fif(os.path.join(directory, f), preload=True) for f in fif_files]\n",
      "/var/folders/jq/xg0f849x4mg5f7y1_tjxk66c0000gn/T/ipykernel_4946/1529551201.py:37: RuntimeWarning: This filename (/Users/apple/Documents/Research/04. EEG Research/Python_Analysis/ICA/Cleaned EEG Data/Task 3/P16_T3.fif) does not conform to MNE naming conventions. All raw files should end with raw.fif, raw_sss.fif, raw_tsss.fif, _meg.fif, _eeg.fif, _ieeg.fif, raw.fif.gz, raw_sss.fif.gz, raw_tsss.fif.gz, _meg.fif.gz, _eeg.fif.gz or _ieeg.fif.gz\n",
      "  fif_tasks = [mne.io.read_raw_fif(os.path.join(directory, f), preload=True) for f in fif_files]\n",
      "/var/folders/jq/xg0f849x4mg5f7y1_tjxk66c0000gn/T/ipykernel_4946/1529551201.py:37: RuntimeWarning: This filename (/Users/apple/Documents/Research/04. EEG Research/Python_Analysis/ICA/Cleaned EEG Data/Task 3/P17_T3.fif) does not conform to MNE naming conventions. All raw files should end with raw.fif, raw_sss.fif, raw_tsss.fif, _meg.fif, _eeg.fif, _ieeg.fif, raw.fif.gz, raw_sss.fif.gz, raw_tsss.fif.gz, _meg.fif.gz, _eeg.fif.gz or _ieeg.fif.gz\n",
      "  fif_tasks = [mne.io.read_raw_fif(os.path.join(directory, f), preload=True) for f in fif_files]\n",
      "/var/folders/jq/xg0f849x4mg5f7y1_tjxk66c0000gn/T/ipykernel_4946/1529551201.py:37: RuntimeWarning: This filename (/Users/apple/Documents/Research/04. EEG Research/Python_Analysis/ICA/Cleaned EEG Data/Task 3/P18_T3.fif) does not conform to MNE naming conventions. All raw files should end with raw.fif, raw_sss.fif, raw_tsss.fif, _meg.fif, _eeg.fif, _ieeg.fif, raw.fif.gz, raw_sss.fif.gz, raw_tsss.fif.gz, _meg.fif.gz, _eeg.fif.gz or _ieeg.fif.gz\n",
      "  fif_tasks = [mne.io.read_raw_fif(os.path.join(directory, f), preload=True) for f in fif_files]\n",
      "/var/folders/jq/xg0f849x4mg5f7y1_tjxk66c0000gn/T/ipykernel_4946/1529551201.py:37: RuntimeWarning: This filename (/Users/apple/Documents/Research/04. EEG Research/Python_Analysis/ICA/Cleaned EEG Data/Task 3/P19_T3.fif) does not conform to MNE naming conventions. All raw files should end with raw.fif, raw_sss.fif, raw_tsss.fif, _meg.fif, _eeg.fif, _ieeg.fif, raw.fif.gz, raw_sss.fif.gz, raw_tsss.fif.gz, _meg.fif.gz, _eeg.fif.gz or _ieeg.fif.gz\n",
      "  fif_tasks = [mne.io.read_raw_fif(os.path.join(directory, f), preload=True) for f in fif_files]\n"
     ]
    },
    {
     "name": "stdout",
     "output_type": "stream",
     "text": [
      "Opening raw data file /Users/apple/Documents/Research/04. EEG Research/Python_Analysis/ICA/Cleaned EEG Data/Task 3/P20_T3.fif...\n",
      "    Range : 0 ... 135679 =      0.000 ...   529.996 secs\n",
      "Ready.\n",
      "Reading 0 ... 135679  =      0.000 ...   529.996 secs...\n",
      "Opening raw data file /Users/apple/Documents/Research/04. EEG Research/Python_Analysis/ICA/Cleaned EEG Data/Task 3/P21_T3.fif...\n",
      "    Range : 0 ... 190975 =      0.000 ...   745.996 secs\n",
      "Ready.\n",
      "Reading 0 ... 190975  =      0.000 ...   745.996 secs...\n",
      "Opening raw data file /Users/apple/Documents/Research/04. EEG Research/Python_Analysis/ICA/Cleaned EEG Data/Task 3/P22_T3.fif...\n",
      "    Range : 0 ... 144639 =      0.000 ...   564.996 secs\n",
      "Ready.\n",
      "Reading 0 ... 144639  =      0.000 ...   564.996 secs...\n",
      "Opening raw data file /Users/apple/Documents/Research/04. EEG Research/Python_Analysis/ICA/Cleaned EEG Data/Task 3/P23_T3.fif...\n",
      "    Range : 0 ... 177407 =      0.000 ...   692.996 secs\n",
      "Ready.\n",
      "Reading 0 ... 177407  =      0.000 ...   692.996 secs...\n"
     ]
    },
    {
     "name": "stderr",
     "output_type": "stream",
     "text": [
      "/var/folders/jq/xg0f849x4mg5f7y1_tjxk66c0000gn/T/ipykernel_4946/1529551201.py:37: RuntimeWarning: This filename (/Users/apple/Documents/Research/04. EEG Research/Python_Analysis/ICA/Cleaned EEG Data/Task 3/P20_T3.fif) does not conform to MNE naming conventions. All raw files should end with raw.fif, raw_sss.fif, raw_tsss.fif, _meg.fif, _eeg.fif, _ieeg.fif, raw.fif.gz, raw_sss.fif.gz, raw_tsss.fif.gz, _meg.fif.gz, _eeg.fif.gz or _ieeg.fif.gz\n",
      "  fif_tasks = [mne.io.read_raw_fif(os.path.join(directory, f), preload=True) for f in fif_files]\n",
      "/var/folders/jq/xg0f849x4mg5f7y1_tjxk66c0000gn/T/ipykernel_4946/1529551201.py:37: RuntimeWarning: This filename (/Users/apple/Documents/Research/04. EEG Research/Python_Analysis/ICA/Cleaned EEG Data/Task 3/P21_T3.fif) does not conform to MNE naming conventions. All raw files should end with raw.fif, raw_sss.fif, raw_tsss.fif, _meg.fif, _eeg.fif, _ieeg.fif, raw.fif.gz, raw_sss.fif.gz, raw_tsss.fif.gz, _meg.fif.gz, _eeg.fif.gz or _ieeg.fif.gz\n",
      "  fif_tasks = [mne.io.read_raw_fif(os.path.join(directory, f), preload=True) for f in fif_files]\n",
      "/var/folders/jq/xg0f849x4mg5f7y1_tjxk66c0000gn/T/ipykernel_4946/1529551201.py:37: RuntimeWarning: This filename (/Users/apple/Documents/Research/04. EEG Research/Python_Analysis/ICA/Cleaned EEG Data/Task 3/P22_T3.fif) does not conform to MNE naming conventions. All raw files should end with raw.fif, raw_sss.fif, raw_tsss.fif, _meg.fif, _eeg.fif, _ieeg.fif, raw.fif.gz, raw_sss.fif.gz, raw_tsss.fif.gz, _meg.fif.gz, _eeg.fif.gz or _ieeg.fif.gz\n",
      "  fif_tasks = [mne.io.read_raw_fif(os.path.join(directory, f), preload=True) for f in fif_files]\n",
      "/var/folders/jq/xg0f849x4mg5f7y1_tjxk66c0000gn/T/ipykernel_4946/1529551201.py:37: RuntimeWarning: This filename (/Users/apple/Documents/Research/04. EEG Research/Python_Analysis/ICA/Cleaned EEG Data/Task 3/P23_T3.fif) does not conform to MNE naming conventions. All raw files should end with raw.fif, raw_sss.fif, raw_tsss.fif, _meg.fif, _eeg.fif, _ieeg.fif, raw.fif.gz, raw_sss.fif.gz, raw_tsss.fif.gz, _meg.fif.gz, _eeg.fif.gz or _ieeg.fif.gz\n",
      "  fif_tasks = [mne.io.read_raw_fif(os.path.join(directory, f), preload=True) for f in fif_files]\n"
     ]
    },
    {
     "name": "stdout",
     "output_type": "stream",
     "text": [
      "Opening raw data file /Users/apple/Documents/Research/04. EEG Research/Python_Analysis/ICA/Cleaned EEG Data/Task 3/P24_T3.fif...\n",
      "    Range : 0 ... 164863 =      0.000 ...   643.996 secs\n",
      "Ready.\n",
      "Reading 0 ... 164863  =      0.000 ...   643.996 secs...\n",
      "Opening raw data file /Users/apple/Documents/Research/04. EEG Research/Python_Analysis/ICA/Cleaned EEG Data/Task 3/P25_T3.fif...\n",
      "    Range : 0 ... 128255 =      0.000 ...   500.996 secs\n",
      "Ready.\n",
      "Reading 0 ... 128255  =      0.000 ...   500.996 secs...\n",
      "Opening raw data file /Users/apple/Documents/Research/04. EEG Research/Python_Analysis/ICA/Cleaned EEG Data/Task 3/P26_T3.fif...\n",
      "    Range : 0 ... 143615 =      0.000 ...   560.996 secs\n",
      "Ready.\n",
      "Reading 0 ... 143615  =      0.000 ...   560.996 secs...\n",
      "Opening raw data file /Users/apple/Documents/Research/04. EEG Research/Python_Analysis/ICA/Cleaned EEG Data/Task 3/P27_T3.fif...\n",
      "    Range : 0 ... 189439 =      0.000 ...   739.996 secs\n",
      "Ready.\n",
      "Reading 0 ... 189439  =      0.000 ...   739.996 secs...\n"
     ]
    },
    {
     "name": "stderr",
     "output_type": "stream",
     "text": [
      "/var/folders/jq/xg0f849x4mg5f7y1_tjxk66c0000gn/T/ipykernel_4946/1529551201.py:37: RuntimeWarning: This filename (/Users/apple/Documents/Research/04. EEG Research/Python_Analysis/ICA/Cleaned EEG Data/Task 3/P24_T3.fif) does not conform to MNE naming conventions. All raw files should end with raw.fif, raw_sss.fif, raw_tsss.fif, _meg.fif, _eeg.fif, _ieeg.fif, raw.fif.gz, raw_sss.fif.gz, raw_tsss.fif.gz, _meg.fif.gz, _eeg.fif.gz or _ieeg.fif.gz\n",
      "  fif_tasks = [mne.io.read_raw_fif(os.path.join(directory, f), preload=True) for f in fif_files]\n",
      "/var/folders/jq/xg0f849x4mg5f7y1_tjxk66c0000gn/T/ipykernel_4946/1529551201.py:37: RuntimeWarning: This filename (/Users/apple/Documents/Research/04. EEG Research/Python_Analysis/ICA/Cleaned EEG Data/Task 3/P25_T3.fif) does not conform to MNE naming conventions. All raw files should end with raw.fif, raw_sss.fif, raw_tsss.fif, _meg.fif, _eeg.fif, _ieeg.fif, raw.fif.gz, raw_sss.fif.gz, raw_tsss.fif.gz, _meg.fif.gz, _eeg.fif.gz or _ieeg.fif.gz\n",
      "  fif_tasks = [mne.io.read_raw_fif(os.path.join(directory, f), preload=True) for f in fif_files]\n",
      "/var/folders/jq/xg0f849x4mg5f7y1_tjxk66c0000gn/T/ipykernel_4946/1529551201.py:37: RuntimeWarning: This filename (/Users/apple/Documents/Research/04. EEG Research/Python_Analysis/ICA/Cleaned EEG Data/Task 3/P26_T3.fif) does not conform to MNE naming conventions. All raw files should end with raw.fif, raw_sss.fif, raw_tsss.fif, _meg.fif, _eeg.fif, _ieeg.fif, raw.fif.gz, raw_sss.fif.gz, raw_tsss.fif.gz, _meg.fif.gz, _eeg.fif.gz or _ieeg.fif.gz\n",
      "  fif_tasks = [mne.io.read_raw_fif(os.path.join(directory, f), preload=True) for f in fif_files]\n",
      "/var/folders/jq/xg0f849x4mg5f7y1_tjxk66c0000gn/T/ipykernel_4946/1529551201.py:37: RuntimeWarning: This filename (/Users/apple/Documents/Research/04. EEG Research/Python_Analysis/ICA/Cleaned EEG Data/Task 3/P27_T3.fif) does not conform to MNE naming conventions. All raw files should end with raw.fif, raw_sss.fif, raw_tsss.fif, _meg.fif, _eeg.fif, _ieeg.fif, raw.fif.gz, raw_sss.fif.gz, raw_tsss.fif.gz, _meg.fif.gz, _eeg.fif.gz or _ieeg.fif.gz\n",
      "  fif_tasks = [mne.io.read_raw_fif(os.path.join(directory, f), preload=True) for f in fif_files]\n"
     ]
    },
    {
     "name": "stdout",
     "output_type": "stream",
     "text": [
      "Opening raw data file /Users/apple/Documents/Research/04. EEG Research/Python_Analysis/ICA/Cleaned EEG Data/Task 3/P28_T3.fif...\n",
      "    Range : 0 ... 239359 =      0.000 ...   934.996 secs\n",
      "Ready.\n",
      "Reading 0 ... 239359  =      0.000 ...   934.996 secs...\n",
      "Opening raw data file /Users/apple/Documents/Research/04. EEG Research/Python_Analysis/ICA/Cleaned EEG Data/Task 3/P29_T3.fif...\n",
      "    Range : 0 ... 135167 =      0.000 ...   527.996 secs\n",
      "Ready.\n",
      "Reading 0 ... 135167  =      0.000 ...   527.996 secs...\n",
      "Opening raw data file /Users/apple/Documents/Research/04. EEG Research/Python_Analysis/ICA/Cleaned EEG Data/Task 3/P30_T3.fif...\n",
      "    Range : 0 ... 236543 =      0.000 ...   923.996 secs\n",
      "Ready.\n",
      "Reading 0 ... 236543  =      0.000 ...   923.996 secs...\n",
      "Opening raw data file /Users/apple/Documents/Research/04. EEG Research/Python_Analysis/ICA/Cleaned EEG Data/Task 3/P31_T3.fif...\n"
     ]
    },
    {
     "name": "stderr",
     "output_type": "stream",
     "text": [
      "/var/folders/jq/xg0f849x4mg5f7y1_tjxk66c0000gn/T/ipykernel_4946/1529551201.py:37: RuntimeWarning: This filename (/Users/apple/Documents/Research/04. EEG Research/Python_Analysis/ICA/Cleaned EEG Data/Task 3/P28_T3.fif) does not conform to MNE naming conventions. All raw files should end with raw.fif, raw_sss.fif, raw_tsss.fif, _meg.fif, _eeg.fif, _ieeg.fif, raw.fif.gz, raw_sss.fif.gz, raw_tsss.fif.gz, _meg.fif.gz, _eeg.fif.gz or _ieeg.fif.gz\n",
      "  fif_tasks = [mne.io.read_raw_fif(os.path.join(directory, f), preload=True) for f in fif_files]\n",
      "/var/folders/jq/xg0f849x4mg5f7y1_tjxk66c0000gn/T/ipykernel_4946/1529551201.py:37: RuntimeWarning: This filename (/Users/apple/Documents/Research/04. EEG Research/Python_Analysis/ICA/Cleaned EEG Data/Task 3/P29_T3.fif) does not conform to MNE naming conventions. All raw files should end with raw.fif, raw_sss.fif, raw_tsss.fif, _meg.fif, _eeg.fif, _ieeg.fif, raw.fif.gz, raw_sss.fif.gz, raw_tsss.fif.gz, _meg.fif.gz, _eeg.fif.gz or _ieeg.fif.gz\n",
      "  fif_tasks = [mne.io.read_raw_fif(os.path.join(directory, f), preload=True) for f in fif_files]\n",
      "/var/folders/jq/xg0f849x4mg5f7y1_tjxk66c0000gn/T/ipykernel_4946/1529551201.py:37: RuntimeWarning: This filename (/Users/apple/Documents/Research/04. EEG Research/Python_Analysis/ICA/Cleaned EEG Data/Task 3/P30_T3.fif) does not conform to MNE naming conventions. All raw files should end with raw.fif, raw_sss.fif, raw_tsss.fif, _meg.fif, _eeg.fif, _ieeg.fif, raw.fif.gz, raw_sss.fif.gz, raw_tsss.fif.gz, _meg.fif.gz, _eeg.fif.gz or _ieeg.fif.gz\n",
      "  fif_tasks = [mne.io.read_raw_fif(os.path.join(directory, f), preload=True) for f in fif_files]\n",
      "/var/folders/jq/xg0f849x4mg5f7y1_tjxk66c0000gn/T/ipykernel_4946/1529551201.py:37: RuntimeWarning: This filename (/Users/apple/Documents/Research/04. EEG Research/Python_Analysis/ICA/Cleaned EEG Data/Task 3/P31_T3.fif) does not conform to MNE naming conventions. All raw files should end with raw.fif, raw_sss.fif, raw_tsss.fif, _meg.fif, _eeg.fif, _ieeg.fif, raw.fif.gz, raw_sss.fif.gz, raw_tsss.fif.gz, _meg.fif.gz, _eeg.fif.gz or _ieeg.fif.gz\n",
      "  fif_tasks = [mne.io.read_raw_fif(os.path.join(directory, f), preload=True) for f in fif_files]\n"
     ]
    },
    {
     "name": "stdout",
     "output_type": "stream",
     "text": [
      "    Range : 0 ... 89343 =      0.000 ...   348.996 secs\n",
      "Ready.\n",
      "Reading 0 ... 89343  =      0.000 ...   348.996 secs...\n",
      "Opening raw data file /Users/apple/Documents/Research/04. EEG Research/Python_Analysis/ICA/Cleaned EEG Data/Task 3/P32_T3.fif...\n",
      "    Range : 0 ... 70143 =      0.000 ...   273.996 secs\n",
      "Ready.\n",
      "Reading 0 ... 70143  =      0.000 ...   273.996 secs...\n"
     ]
    },
    {
     "name": "stderr",
     "output_type": "stream",
     "text": [
      "/var/folders/jq/xg0f849x4mg5f7y1_tjxk66c0000gn/T/ipykernel_4946/1529551201.py:37: RuntimeWarning: This filename (/Users/apple/Documents/Research/04. EEG Research/Python_Analysis/ICA/Cleaned EEG Data/Task 3/P32_T3.fif) does not conform to MNE naming conventions. All raw files should end with raw.fif, raw_sss.fif, raw_tsss.fif, _meg.fif, _eeg.fif, _ieeg.fif, raw.fif.gz, raw_sss.fif.gz, raw_tsss.fif.gz, _meg.fif.gz, _eeg.fif.gz or _ieeg.fif.gz\n",
      "  fif_tasks = [mne.io.read_raw_fif(os.path.join(directory, f), preload=True) for f in fif_files]\n"
     ]
    }
   ],
   "source": [
    "#Import details for fif files for all tasks\n",
    "directory_fif_task1 = '/Users/apple/Documents/Research/04. EEG Research/Python_Analysis/ICA/Cleaned EEG Data/Task 1'\n",
    "directory_fif_task2 = '/Users/apple/Documents/Research/04. EEG Research/Python_Analysis/ICA/Cleaned EEG Data/Task 2'\n",
    "directory_fif_task3 = '/Users/apple/Documents/Research/04. EEG Research/Python_Analysis/ICA/Cleaned EEG Data/Task 3'\n",
    "fif_task_1 = import_sorted_fif_files(directory_fif_task1)\n",
    "fif_task_2 = import_sorted_fif_files(directory_fif_task2)\n",
    "fif_task_3 = import_sorted_fif_files(directory_fif_task3)"
   ]
  },
  {
   "cell_type": "code",
   "execution_count": 14,
   "id": "2f22c1d5-5d8a-43b6-8da2-8d9c933675e2",
   "metadata": {},
   "outputs": [],
   "source": [
    "# Cropping baseline signal from the full signal and storing in a participant-wise ist\n",
    "\n",
    "i = 0\n",
    "j = 0\n",
    "k = 0\n",
    "\n",
    "fif_1_baseline = []\n",
    "fif_2_baseline = []\n",
    "fif_3_baseline = []\n",
    "\n",
    "for fif in fif_task_1 :\n",
    "    fif_temp = fif_task_1[i].copy()\n",
    "    t1 = 0\n",
    "    t2 = 30\n",
    "    fif_task_baseline = fif_temp.crop(tmin=t1, tmax=t2)\n",
    "    fif_1_baseline.append(fif_task_baseline)\n",
    "    i = i+1\n",
    "\n",
    "for fif in fif_task_2 :\n",
    "    fif_temp = fif_task_2[j].copy()\n",
    "    t1 = 0\n",
    "    t2 = 30\n",
    "    fif_task_baseline = fif_temp.crop(tmin=t1, tmax=t2)\n",
    "    fif_2_baseline.append(fif_task_baseline)\n",
    "    j = j+1\n",
    "\n",
    "for fif in fif_task_3 :\n",
    "    fif_temp = fif_task_3[k].copy()\n",
    "    t1 = 0\n",
    "    t2 = 30\n",
    "    fif_task_baseline = fif_temp.crop(tmin=t1, tmax=t2)\n",
    "    fif_3_baseline.append(fif_task_baseline)\n",
    "    k = k+1"
   ]
  },
  {
   "cell_type": "code",
   "execution_count": 15,
   "id": "b3175aa8-848d-4d6d-8c01-e4273f102b60",
   "metadata": {},
   "outputs": [],
   "source": [
    "# Cropping sketching signal from the full signal and storing in a participant-wise ist\n",
    "\n",
    "i = 0\n",
    "j = 0\n",
    "k = 0\n",
    "\n",
    "fif_1_sketching_signals = []\n",
    "fif_2_sketching_signals = []\n",
    "fif_3_sketching_signals = []\n",
    "\n",
    "for fif in fif_task_1 :\n",
    "    fif_temp = fif_task_1[i].copy()\n",
    "    t1 = 30\n",
    "    t2 = fif_temp.times[-1]\n",
    "    fif_task_signal = fif_temp.crop(tmin=t1, tmax=t2)\n",
    "    fif_1_sketching_signals.append(fif_task_signal)\n",
    "    i = i+1\n",
    "\n",
    "for fif in fif_task_2 :\n",
    "    fif_temp = fif_task_2[j].copy()\n",
    "    t1 = 30\n",
    "    t2 = fif_temp.times[-1]\n",
    "    fif_task_signal = fif_temp.crop(tmin=t1, tmax=t2)\n",
    "    fif_2_sketching_signals.append(fif_task_signal)\n",
    "    j = j+1\n",
    "\n",
    "for fif in fif_task_3 :\n",
    "    fif_temp = fif_task_3[k].copy()\n",
    "    t1 = 30\n",
    "    t2 = fif_temp.times[-1]\n",
    "    fif_task_signal = fif_temp.crop(tmin=t1, tmax=t2)\n",
    "    fif_3_sketching_signals.append(fif_task_signal)\n",
    "    k = k+1"
   ]
  },
  {
   "cell_type": "code",
   "execution_count": 17,
   "id": "7d10613d-95de-46e0-8b50-dcc12d9f848a",
   "metadata": {},
   "outputs": [
    {
     "name": "stdout",
     "output_type": "stream",
     "text": [
      "Not setting metadata\n",
      "6 matching events found\n",
      "No baseline correction applied\n",
      "0 projection items activated\n",
      "Using data from preloaded Raw for 6 events and 1281 original time points ...\n",
      "2 bad epochs dropped\n"
     ]
    },
    {
     "name": "stderr",
     "output_type": "stream",
     "text": [
      "/var/folders/jq/xg0f849x4mg5f7y1_tjxk66c0000gn/T/ipykernel_4946/662386645.py:3: FutureWarning: The current default of copy=False will change to copy=True in 1.7. Set the value of copy explicitly to avoid this warning\n",
      "  epochs_8_data = epochs_8.get_data()\n"
     ]
    },
    {
     "name": "stdout",
     "output_type": "stream",
     "text": [
      "Not setting metadata\n",
      "6 matching events found\n",
      "No baseline correction applied\n",
      "0 projection items activated\n",
      "Using data from preloaded Raw for 6 events and 1281 original time points ...\n",
      "0 bad epochs dropped\n"
     ]
    },
    {
     "name": "stderr",
     "output_type": "stream",
     "text": [
      "/var/folders/jq/xg0f849x4mg5f7y1_tjxk66c0000gn/T/ipykernel_4946/662386645.py:3: FutureWarning: The current default of copy=False will change to copy=True in 1.7. Set the value of copy explicitly to avoid this warning\n",
      "  epochs_8_data = epochs_8.get_data()\n"
     ]
    },
    {
     "name": "stdout",
     "output_type": "stream",
     "text": [
      "Not setting metadata\n",
      "6 matching events found\n",
      "No baseline correction applied\n",
      "0 projection items activated\n",
      "Using data from preloaded Raw for 6 events and 1281 original time points ...\n",
      "1 bad epochs dropped\n"
     ]
    },
    {
     "name": "stderr",
     "output_type": "stream",
     "text": [
      "/var/folders/jq/xg0f849x4mg5f7y1_tjxk66c0000gn/T/ipykernel_4946/662386645.py:3: FutureWarning: The current default of copy=False will change to copy=True in 1.7. Set the value of copy explicitly to avoid this warning\n",
      "  epochs_8_data = epochs_8.get_data()\n"
     ]
    },
    {
     "name": "stdout",
     "output_type": "stream",
     "text": [
      "Not setting metadata\n",
      "6 matching events found\n",
      "No baseline correction applied\n",
      "0 projection items activated\n",
      "Using data from preloaded Raw for 6 events and 1281 original time points ...\n",
      "1 bad epochs dropped\n"
     ]
    },
    {
     "name": "stderr",
     "output_type": "stream",
     "text": [
      "/var/folders/jq/xg0f849x4mg5f7y1_tjxk66c0000gn/T/ipykernel_4946/662386645.py:3: FutureWarning: The current default of copy=False will change to copy=True in 1.7. Set the value of copy explicitly to avoid this warning\n",
      "  epochs_8_data = epochs_8.get_data()\n"
     ]
    },
    {
     "name": "stdout",
     "output_type": "stream",
     "text": [
      "Not setting metadata\n",
      "6 matching events found\n",
      "No baseline correction applied\n",
      "0 projection items activated\n",
      "Using data from preloaded Raw for 6 events and 1281 original time points ...\n",
      "1 bad epochs dropped\n"
     ]
    },
    {
     "name": "stderr",
     "output_type": "stream",
     "text": [
      "/var/folders/jq/xg0f849x4mg5f7y1_tjxk66c0000gn/T/ipykernel_4946/662386645.py:3: FutureWarning: The current default of copy=False will change to copy=True in 1.7. Set the value of copy explicitly to avoid this warning\n",
      "  epochs_8_data = epochs_8.get_data()\n"
     ]
    },
    {
     "name": "stdout",
     "output_type": "stream",
     "text": [
      "Not setting metadata\n",
      "6 matching events found\n",
      "No baseline correction applied\n",
      "0 projection items activated\n",
      "Using data from preloaded Raw for 6 events and 1281 original time points ...\n",
      "2 bad epochs dropped\n"
     ]
    },
    {
     "name": "stderr",
     "output_type": "stream",
     "text": [
      "/var/folders/jq/xg0f849x4mg5f7y1_tjxk66c0000gn/T/ipykernel_4946/662386645.py:3: FutureWarning: The current default of copy=False will change to copy=True in 1.7. Set the value of copy explicitly to avoid this warning\n",
      "  epochs_8_data = epochs_8.get_data()\n"
     ]
    },
    {
     "name": "stdout",
     "output_type": "stream",
     "text": [
      "Not setting metadata\n",
      "6 matching events found\n",
      "No baseline correction applied\n",
      "0 projection items activated\n",
      "Using data from preloaded Raw for 6 events and 1281 original time points ...\n",
      "0 bad epochs dropped\n"
     ]
    },
    {
     "name": "stderr",
     "output_type": "stream",
     "text": [
      "/var/folders/jq/xg0f849x4mg5f7y1_tjxk66c0000gn/T/ipykernel_4946/662386645.py:3: FutureWarning: The current default of copy=False will change to copy=True in 1.7. Set the value of copy explicitly to avoid this warning\n",
      "  epochs_8_data = epochs_8.get_data()\n"
     ]
    },
    {
     "name": "stdout",
     "output_type": "stream",
     "text": [
      "Not setting metadata\n",
      "6 matching events found\n",
      "No baseline correction applied\n",
      "0 projection items activated\n",
      "Using data from preloaded Raw for 6 events and 1281 original time points ...\n",
      "0 bad epochs dropped\n"
     ]
    },
    {
     "name": "stderr",
     "output_type": "stream",
     "text": [
      "/var/folders/jq/xg0f849x4mg5f7y1_tjxk66c0000gn/T/ipykernel_4946/662386645.py:3: FutureWarning: The current default of copy=False will change to copy=True in 1.7. Set the value of copy explicitly to avoid this warning\n",
      "  epochs_8_data = epochs_8.get_data()\n"
     ]
    },
    {
     "name": "stdout",
     "output_type": "stream",
     "text": [
      "Not setting metadata\n",
      "6 matching events found\n",
      "No baseline correction applied\n",
      "0 projection items activated\n",
      "Using data from preloaded Raw for 6 events and 1281 original time points ...\n",
      "2 bad epochs dropped\n"
     ]
    },
    {
     "name": "stderr",
     "output_type": "stream",
     "text": [
      "/var/folders/jq/xg0f849x4mg5f7y1_tjxk66c0000gn/T/ipykernel_4946/662386645.py:3: FutureWarning: The current default of copy=False will change to copy=True in 1.7. Set the value of copy explicitly to avoid this warning\n",
      "  epochs_8_data = epochs_8.get_data()\n"
     ]
    },
    {
     "name": "stdout",
     "output_type": "stream",
     "text": [
      "Not setting metadata\n",
      "6 matching events found\n",
      "No baseline correction applied\n",
      "0 projection items activated\n",
      "Using data from preloaded Raw for 6 events and 1281 original time points ...\n",
      "2 bad epochs dropped\n"
     ]
    },
    {
     "name": "stderr",
     "output_type": "stream",
     "text": [
      "/var/folders/jq/xg0f849x4mg5f7y1_tjxk66c0000gn/T/ipykernel_4946/662386645.py:3: FutureWarning: The current default of copy=False will change to copy=True in 1.7. Set the value of copy explicitly to avoid this warning\n",
      "  epochs_8_data = epochs_8.get_data()\n"
     ]
    },
    {
     "name": "stdout",
     "output_type": "stream",
     "text": [
      "Not setting metadata\n",
      "6 matching events found\n",
      "No baseline correction applied\n",
      "0 projection items activated\n",
      "Using data from preloaded Raw for 6 events and 1281 original time points ...\n",
      "0 bad epochs dropped\n"
     ]
    },
    {
     "name": "stderr",
     "output_type": "stream",
     "text": [
      "/var/folders/jq/xg0f849x4mg5f7y1_tjxk66c0000gn/T/ipykernel_4946/662386645.py:3: FutureWarning: The current default of copy=False will change to copy=True in 1.7. Set the value of copy explicitly to avoid this warning\n",
      "  epochs_8_data = epochs_8.get_data()\n"
     ]
    },
    {
     "name": "stdout",
     "output_type": "stream",
     "text": [
      "Not setting metadata\n",
      "6 matching events found\n",
      "No baseline correction applied\n",
      "0 projection items activated\n",
      "Using data from preloaded Raw for 6 events and 1281 original time points ...\n",
      "0 bad epochs dropped\n"
     ]
    },
    {
     "name": "stderr",
     "output_type": "stream",
     "text": [
      "/var/folders/jq/xg0f849x4mg5f7y1_tjxk66c0000gn/T/ipykernel_4946/662386645.py:3: FutureWarning: The current default of copy=False will change to copy=True in 1.7. Set the value of copy explicitly to avoid this warning\n",
      "  epochs_8_data = epochs_8.get_data()\n"
     ]
    },
    {
     "name": "stdout",
     "output_type": "stream",
     "text": [
      "Not setting metadata\n",
      "6 matching events found\n",
      "No baseline correction applied\n",
      "0 projection items activated\n",
      "Using data from preloaded Raw for 6 events and 1281 original time points ...\n",
      "0 bad epochs dropped\n"
     ]
    },
    {
     "name": "stderr",
     "output_type": "stream",
     "text": [
      "/var/folders/jq/xg0f849x4mg5f7y1_tjxk66c0000gn/T/ipykernel_4946/662386645.py:3: FutureWarning: The current default of copy=False will change to copy=True in 1.7. Set the value of copy explicitly to avoid this warning\n",
      "  epochs_8_data = epochs_8.get_data()\n"
     ]
    },
    {
     "name": "stdout",
     "output_type": "stream",
     "text": [
      "Not setting metadata\n",
      "6 matching events found\n",
      "No baseline correction applied\n",
      "0 projection items activated\n",
      "Using data from preloaded Raw for 6 events and 1281 original time points ...\n",
      "0 bad epochs dropped\n"
     ]
    },
    {
     "name": "stderr",
     "output_type": "stream",
     "text": [
      "/var/folders/jq/xg0f849x4mg5f7y1_tjxk66c0000gn/T/ipykernel_4946/662386645.py:3: FutureWarning: The current default of copy=False will change to copy=True in 1.7. Set the value of copy explicitly to avoid this warning\n",
      "  epochs_8_data = epochs_8.get_data()\n"
     ]
    },
    {
     "name": "stdout",
     "output_type": "stream",
     "text": [
      "Not setting metadata\n",
      "6 matching events found\n",
      "No baseline correction applied\n",
      "0 projection items activated\n",
      "Using data from preloaded Raw for 6 events and 1281 original time points ...\n",
      "0 bad epochs dropped\n"
     ]
    },
    {
     "name": "stderr",
     "output_type": "stream",
     "text": [
      "/var/folders/jq/xg0f849x4mg5f7y1_tjxk66c0000gn/T/ipykernel_4946/662386645.py:3: FutureWarning: The current default of copy=False will change to copy=True in 1.7. Set the value of copy explicitly to avoid this warning\n",
      "  epochs_8_data = epochs_8.get_data()\n"
     ]
    },
    {
     "name": "stdout",
     "output_type": "stream",
     "text": [
      "Not setting metadata\n",
      "6 matching events found\n",
      "No baseline correction applied\n",
      "0 projection items activated\n",
      "Using data from preloaded Raw for 6 events and 1281 original time points ...\n",
      "0 bad epochs dropped\n"
     ]
    },
    {
     "name": "stderr",
     "output_type": "stream",
     "text": [
      "/var/folders/jq/xg0f849x4mg5f7y1_tjxk66c0000gn/T/ipykernel_4946/662386645.py:3: FutureWarning: The current default of copy=False will change to copy=True in 1.7. Set the value of copy explicitly to avoid this warning\n",
      "  epochs_8_data = epochs_8.get_data()\n"
     ]
    },
    {
     "name": "stdout",
     "output_type": "stream",
     "text": [
      "Not setting metadata\n",
      "6 matching events found\n",
      "No baseline correction applied\n",
      "0 projection items activated\n",
      "Using data from preloaded Raw for 6 events and 1281 original time points ...\n",
      "0 bad epochs dropped\n"
     ]
    },
    {
     "name": "stderr",
     "output_type": "stream",
     "text": [
      "/var/folders/jq/xg0f849x4mg5f7y1_tjxk66c0000gn/T/ipykernel_4946/662386645.py:3: FutureWarning: The current default of copy=False will change to copy=True in 1.7. Set the value of copy explicitly to avoid this warning\n",
      "  epochs_8_data = epochs_8.get_data()\n"
     ]
    },
    {
     "name": "stdout",
     "output_type": "stream",
     "text": [
      "Not setting metadata\n",
      "6 matching events found\n",
      "No baseline correction applied\n",
      "0 projection items activated\n",
      "Using data from preloaded Raw for 6 events and 1281 original time points ...\n",
      "0 bad epochs dropped\n"
     ]
    },
    {
     "name": "stderr",
     "output_type": "stream",
     "text": [
      "/var/folders/jq/xg0f849x4mg5f7y1_tjxk66c0000gn/T/ipykernel_4946/662386645.py:3: FutureWarning: The current default of copy=False will change to copy=True in 1.7. Set the value of copy explicitly to avoid this warning\n",
      "  epochs_8_data = epochs_8.get_data()\n"
     ]
    },
    {
     "name": "stdout",
     "output_type": "stream",
     "text": [
      "Not setting metadata\n",
      "6 matching events found\n",
      "No baseline correction applied\n",
      "0 projection items activated\n",
      "Using data from preloaded Raw for 6 events and 1281 original time points ...\n",
      "1 bad epochs dropped\n"
     ]
    },
    {
     "name": "stderr",
     "output_type": "stream",
     "text": [
      "/var/folders/jq/xg0f849x4mg5f7y1_tjxk66c0000gn/T/ipykernel_4946/662386645.py:3: FutureWarning: The current default of copy=False will change to copy=True in 1.7. Set the value of copy explicitly to avoid this warning\n",
      "  epochs_8_data = epochs_8.get_data()\n"
     ]
    },
    {
     "name": "stdout",
     "output_type": "stream",
     "text": [
      "Not setting metadata\n",
      "6 matching events found\n",
      "No baseline correction applied\n",
      "0 projection items activated\n",
      "Using data from preloaded Raw for 6 events and 1281 original time points ...\n",
      "1 bad epochs dropped\n"
     ]
    },
    {
     "name": "stderr",
     "output_type": "stream",
     "text": [
      "/var/folders/jq/xg0f849x4mg5f7y1_tjxk66c0000gn/T/ipykernel_4946/662386645.py:3: FutureWarning: The current default of copy=False will change to copy=True in 1.7. Set the value of copy explicitly to avoid this warning\n",
      "  epochs_8_data = epochs_8.get_data()\n"
     ]
    },
    {
     "name": "stdout",
     "output_type": "stream",
     "text": [
      "Not setting metadata\n",
      "6 matching events found\n",
      "No baseline correction applied\n",
      "0 projection items activated\n",
      "Using data from preloaded Raw for 6 events and 1281 original time points ...\n",
      "2 bad epochs dropped\n"
     ]
    },
    {
     "name": "stderr",
     "output_type": "stream",
     "text": [
      "/var/folders/jq/xg0f849x4mg5f7y1_tjxk66c0000gn/T/ipykernel_4946/662386645.py:3: FutureWarning: The current default of copy=False will change to copy=True in 1.7. Set the value of copy explicitly to avoid this warning\n",
      "  epochs_8_data = epochs_8.get_data()\n"
     ]
    },
    {
     "name": "stdout",
     "output_type": "stream",
     "text": [
      "Not setting metadata\n",
      "6 matching events found\n",
      "No baseline correction applied\n",
      "0 projection items activated\n",
      "Using data from preloaded Raw for 6 events and 1281 original time points ...\n",
      "2 bad epochs dropped\n"
     ]
    },
    {
     "name": "stderr",
     "output_type": "stream",
     "text": [
      "/var/folders/jq/xg0f849x4mg5f7y1_tjxk66c0000gn/T/ipykernel_4946/662386645.py:3: FutureWarning: The current default of copy=False will change to copy=True in 1.7. Set the value of copy explicitly to avoid this warning\n",
      "  epochs_8_data = epochs_8.get_data()\n"
     ]
    },
    {
     "name": "stdout",
     "output_type": "stream",
     "text": [
      "Not setting metadata\n",
      "6 matching events found\n",
      "No baseline correction applied\n",
      "0 projection items activated\n",
      "Using data from preloaded Raw for 6 events and 1281 original time points ...\n",
      "0 bad epochs dropped\n"
     ]
    },
    {
     "name": "stderr",
     "output_type": "stream",
     "text": [
      "/var/folders/jq/xg0f849x4mg5f7y1_tjxk66c0000gn/T/ipykernel_4946/662386645.py:3: FutureWarning: The current default of copy=False will change to copy=True in 1.7. Set the value of copy explicitly to avoid this warning\n",
      "  epochs_8_data = epochs_8.get_data()\n"
     ]
    },
    {
     "name": "stdout",
     "output_type": "stream",
     "text": [
      "Not setting metadata\n",
      "6 matching events found\n",
      "No baseline correction applied\n",
      "0 projection items activated\n",
      "Using data from preloaded Raw for 6 events and 1281 original time points ...\n",
      "0 bad epochs dropped\n"
     ]
    },
    {
     "name": "stderr",
     "output_type": "stream",
     "text": [
      "/var/folders/jq/xg0f849x4mg5f7y1_tjxk66c0000gn/T/ipykernel_4946/662386645.py:3: FutureWarning: The current default of copy=False will change to copy=True in 1.7. Set the value of copy explicitly to avoid this warning\n",
      "  epochs_8_data = epochs_8.get_data()\n"
     ]
    },
    {
     "name": "stdout",
     "output_type": "stream",
     "text": [
      "Not setting metadata\n",
      "6 matching events found\n",
      "No baseline correction applied\n",
      "0 projection items activated\n",
      "Using data from preloaded Raw for 6 events and 1281 original time points ...\n",
      "0 bad epochs dropped\n"
     ]
    },
    {
     "name": "stderr",
     "output_type": "stream",
     "text": [
      "/var/folders/jq/xg0f849x4mg5f7y1_tjxk66c0000gn/T/ipykernel_4946/662386645.py:3: FutureWarning: The current default of copy=False will change to copy=True in 1.7. Set the value of copy explicitly to avoid this warning\n",
      "  epochs_8_data = epochs_8.get_data()\n"
     ]
    },
    {
     "name": "stdout",
     "output_type": "stream",
     "text": [
      "Not setting metadata\n",
      "6 matching events found\n",
      "No baseline correction applied\n",
      "0 projection items activated\n",
      "Using data from preloaded Raw for 6 events and 1281 original time points ...\n",
      "0 bad epochs dropped\n"
     ]
    },
    {
     "name": "stderr",
     "output_type": "stream",
     "text": [
      "/var/folders/jq/xg0f849x4mg5f7y1_tjxk66c0000gn/T/ipykernel_4946/662386645.py:3: FutureWarning: The current default of copy=False will change to copy=True in 1.7. Set the value of copy explicitly to avoid this warning\n",
      "  epochs_8_data = epochs_8.get_data()\n"
     ]
    },
    {
     "name": "stdout",
     "output_type": "stream",
     "text": [
      "Not setting metadata\n",
      "6 matching events found\n",
      "No baseline correction applied\n",
      "0 projection items activated\n",
      "Using data from preloaded Raw for 6 events and 1281 original time points ...\n",
      "0 bad epochs dropped\n"
     ]
    },
    {
     "name": "stderr",
     "output_type": "stream",
     "text": [
      "/var/folders/jq/xg0f849x4mg5f7y1_tjxk66c0000gn/T/ipykernel_4946/662386645.py:3: FutureWarning: The current default of copy=False will change to copy=True in 1.7. Set the value of copy explicitly to avoid this warning\n",
      "  epochs_8_data = epochs_8.get_data()\n"
     ]
    },
    {
     "name": "stdout",
     "output_type": "stream",
     "text": [
      "Not setting metadata\n",
      "6 matching events found\n",
      "No baseline correction applied\n",
      "0 projection items activated\n",
      "Using data from preloaded Raw for 6 events and 1281 original time points ...\n",
      "1 bad epochs dropped\n"
     ]
    },
    {
     "name": "stderr",
     "output_type": "stream",
     "text": [
      "/var/folders/jq/xg0f849x4mg5f7y1_tjxk66c0000gn/T/ipykernel_4946/662386645.py:3: FutureWarning: The current default of copy=False will change to copy=True in 1.7. Set the value of copy explicitly to avoid this warning\n",
      "  epochs_8_data = epochs_8.get_data()\n"
     ]
    },
    {
     "name": "stdout",
     "output_type": "stream",
     "text": [
      "Not setting metadata\n",
      "6 matching events found\n",
      "No baseline correction applied\n",
      "0 projection items activated\n",
      "Using data from preloaded Raw for 6 events and 1281 original time points ...\n",
      "0 bad epochs dropped\n"
     ]
    },
    {
     "name": "stderr",
     "output_type": "stream",
     "text": [
      "/var/folders/jq/xg0f849x4mg5f7y1_tjxk66c0000gn/T/ipykernel_4946/662386645.py:3: FutureWarning: The current default of copy=False will change to copy=True in 1.7. Set the value of copy explicitly to avoid this warning\n",
      "  epochs_8_data = epochs_8.get_data()\n"
     ]
    },
    {
     "name": "stdout",
     "output_type": "stream",
     "text": [
      "Not setting metadata\n",
      "6 matching events found\n",
      "No baseline correction applied\n",
      "0 projection items activated\n",
      "Using data from preloaded Raw for 6 events and 1281 original time points ...\n",
      "0 bad epochs dropped\n"
     ]
    },
    {
     "name": "stderr",
     "output_type": "stream",
     "text": [
      "/var/folders/jq/xg0f849x4mg5f7y1_tjxk66c0000gn/T/ipykernel_4946/662386645.py:3: FutureWarning: The current default of copy=False will change to copy=True in 1.7. Set the value of copy explicitly to avoid this warning\n",
      "  epochs_8_data = epochs_8.get_data()\n"
     ]
    },
    {
     "name": "stdout",
     "output_type": "stream",
     "text": [
      "Not setting metadata\n",
      "6 matching events found\n",
      "No baseline correction applied\n",
      "0 projection items activated\n",
      "Using data from preloaded Raw for 6 events and 1281 original time points ...\n",
      "1 bad epochs dropped\n"
     ]
    },
    {
     "name": "stderr",
     "output_type": "stream",
     "text": [
      "/var/folders/jq/xg0f849x4mg5f7y1_tjxk66c0000gn/T/ipykernel_4946/662386645.py:3: FutureWarning: The current default of copy=False will change to copy=True in 1.7. Set the value of copy explicitly to avoid this warning\n",
      "  epochs_8_data = epochs_8.get_data()\n"
     ]
    },
    {
     "name": "stdout",
     "output_type": "stream",
     "text": [
      "Not setting metadata\n",
      "125 matching events found\n",
      "No baseline correction applied\n",
      "0 projection items activated\n",
      "Using data from preloaded Raw for 125 events and 1281 original time points ...\n",
      "25 bad epochs dropped\n"
     ]
    },
    {
     "name": "stderr",
     "output_type": "stream",
     "text": [
      "/var/folders/jq/xg0f849x4mg5f7y1_tjxk66c0000gn/T/ipykernel_4946/662386645.py:3: FutureWarning: The current default of copy=False will change to copy=True in 1.7. Set the value of copy explicitly to avoid this warning\n",
      "  epochs_8_data = epochs_8.get_data()\n"
     ]
    },
    {
     "name": "stdout",
     "output_type": "stream",
     "text": [
      "Not setting metadata\n",
      "65 matching events found\n",
      "No baseline correction applied\n",
      "0 projection items activated\n",
      "Using data from preloaded Raw for 65 events and 1281 original time points ...\n",
      "9 bad epochs dropped\n"
     ]
    },
    {
     "name": "stderr",
     "output_type": "stream",
     "text": [
      "/var/folders/jq/xg0f849x4mg5f7y1_tjxk66c0000gn/T/ipykernel_4946/662386645.py:3: FutureWarning: The current default of copy=False will change to copy=True in 1.7. Set the value of copy explicitly to avoid this warning\n",
      "  epochs_8_data = epochs_8.get_data()\n"
     ]
    },
    {
     "name": "stdout",
     "output_type": "stream",
     "text": [
      "Not setting metadata\n",
      "28 matching events found\n",
      "No baseline correction applied\n",
      "0 projection items activated\n",
      "Using data from preloaded Raw for 28 events and 1281 original time points ...\n",
      "13 bad epochs dropped\n"
     ]
    },
    {
     "name": "stderr",
     "output_type": "stream",
     "text": [
      "/var/folders/jq/xg0f849x4mg5f7y1_tjxk66c0000gn/T/ipykernel_4946/662386645.py:3: FutureWarning: The current default of copy=False will change to copy=True in 1.7. Set the value of copy explicitly to avoid this warning\n",
      "  epochs_8_data = epochs_8.get_data()\n"
     ]
    },
    {
     "name": "stdout",
     "output_type": "stream",
     "text": [
      "Not setting metadata\n",
      "131 matching events found\n",
      "No baseline correction applied\n",
      "0 projection items activated\n",
      "Using data from preloaded Raw for 131 events and 1281 original time points ...\n",
      "19 bad epochs dropped\n"
     ]
    },
    {
     "name": "stderr",
     "output_type": "stream",
     "text": [
      "/var/folders/jq/xg0f849x4mg5f7y1_tjxk66c0000gn/T/ipykernel_4946/662386645.py:3: FutureWarning: The current default of copy=False will change to copy=True in 1.7. Set the value of copy explicitly to avoid this warning\n",
      "  epochs_8_data = epochs_8.get_data()\n"
     ]
    },
    {
     "name": "stdout",
     "output_type": "stream",
     "text": [
      "Not setting metadata\n",
      "63 matching events found\n",
      "No baseline correction applied\n",
      "0 projection items activated\n",
      "Using data from preloaded Raw for 63 events and 1281 original time points ...\n",
      "19 bad epochs dropped\n"
     ]
    },
    {
     "name": "stderr",
     "output_type": "stream",
     "text": [
      "/var/folders/jq/xg0f849x4mg5f7y1_tjxk66c0000gn/T/ipykernel_4946/662386645.py:3: FutureWarning: The current default of copy=False will change to copy=True in 1.7. Set the value of copy explicitly to avoid this warning\n",
      "  epochs_8_data = epochs_8.get_data()\n"
     ]
    },
    {
     "name": "stdout",
     "output_type": "stream",
     "text": [
      "Not setting metadata\n",
      "64 matching events found\n",
      "No baseline correction applied\n",
      "0 projection items activated\n",
      "Using data from preloaded Raw for 64 events and 1281 original time points ...\n",
      "19 bad epochs dropped\n"
     ]
    },
    {
     "name": "stderr",
     "output_type": "stream",
     "text": [
      "/var/folders/jq/xg0f849x4mg5f7y1_tjxk66c0000gn/T/ipykernel_4946/662386645.py:3: FutureWarning: The current default of copy=False will change to copy=True in 1.7. Set the value of copy explicitly to avoid this warning\n",
      "  epochs_8_data = epochs_8.get_data()\n"
     ]
    },
    {
     "name": "stdout",
     "output_type": "stream",
     "text": [
      "Not setting metadata\n",
      "120 matching events found\n",
      "No baseline correction applied\n",
      "0 projection items activated\n",
      "Using data from preloaded Raw for 120 events and 1281 original time points ...\n",
      "1 bad epochs dropped\n"
     ]
    },
    {
     "name": "stderr",
     "output_type": "stream",
     "text": [
      "/var/folders/jq/xg0f849x4mg5f7y1_tjxk66c0000gn/T/ipykernel_4946/662386645.py:3: FutureWarning: The current default of copy=False will change to copy=True in 1.7. Set the value of copy explicitly to avoid this warning\n",
      "  epochs_8_data = epochs_8.get_data()\n"
     ]
    },
    {
     "name": "stdout",
     "output_type": "stream",
     "text": [
      "Not setting metadata\n",
      "173 matching events found\n",
      "No baseline correction applied\n",
      "0 projection items activated\n",
      "Using data from preloaded Raw for 173 events and 1281 original time points ...\n",
      "6 bad epochs dropped\n"
     ]
    },
    {
     "name": "stderr",
     "output_type": "stream",
     "text": [
      "/var/folders/jq/xg0f849x4mg5f7y1_tjxk66c0000gn/T/ipykernel_4946/662386645.py:3: FutureWarning: The current default of copy=False will change to copy=True in 1.7. Set the value of copy explicitly to avoid this warning\n",
      "  epochs_8_data = epochs_8.get_data()\n"
     ]
    },
    {
     "name": "stdout",
     "output_type": "stream",
     "text": [
      "Not setting metadata\n",
      "142 matching events found\n",
      "No baseline correction applied\n",
      "0 projection items activated\n",
      "Using data from preloaded Raw for 142 events and 1281 original time points ...\n",
      "34 bad epochs dropped\n"
     ]
    },
    {
     "name": "stderr",
     "output_type": "stream",
     "text": [
      "/var/folders/jq/xg0f849x4mg5f7y1_tjxk66c0000gn/T/ipykernel_4946/662386645.py:3: FutureWarning: The current default of copy=False will change to copy=True in 1.7. Set the value of copy explicitly to avoid this warning\n",
      "  epochs_8_data = epochs_8.get_data()\n"
     ]
    },
    {
     "name": "stdout",
     "output_type": "stream",
     "text": [
      "Not setting metadata\n",
      "146 matching events found\n",
      "No baseline correction applied\n",
      "0 projection items activated\n",
      "Using data from preloaded Raw for 146 events and 1281 original time points ...\n",
      "29 bad epochs dropped\n"
     ]
    },
    {
     "name": "stderr",
     "output_type": "stream",
     "text": [
      "/var/folders/jq/xg0f849x4mg5f7y1_tjxk66c0000gn/T/ipykernel_4946/662386645.py:3: FutureWarning: The current default of copy=False will change to copy=True in 1.7. Set the value of copy explicitly to avoid this warning\n",
      "  epochs_8_data = epochs_8.get_data()\n"
     ]
    },
    {
     "name": "stdout",
     "output_type": "stream",
     "text": [
      "Not setting metadata\n",
      "108 matching events found\n",
      "No baseline correction applied\n",
      "0 projection items activated\n",
      "Using data from preloaded Raw for 108 events and 1281 original time points ...\n",
      "21 bad epochs dropped\n"
     ]
    },
    {
     "name": "stderr",
     "output_type": "stream",
     "text": [
      "/var/folders/jq/xg0f849x4mg5f7y1_tjxk66c0000gn/T/ipykernel_4946/662386645.py:3: FutureWarning: The current default of copy=False will change to copy=True in 1.7. Set the value of copy explicitly to avoid this warning\n",
      "  epochs_8_data = epochs_8.get_data()\n"
     ]
    },
    {
     "name": "stdout",
     "output_type": "stream",
     "text": [
      "Not setting metadata\n",
      "61 matching events found\n",
      "No baseline correction applied\n",
      "0 projection items activated\n",
      "Using data from preloaded Raw for 61 events and 1281 original time points ...\n",
      "5 bad epochs dropped\n"
     ]
    },
    {
     "name": "stderr",
     "output_type": "stream",
     "text": [
      "/var/folders/jq/xg0f849x4mg5f7y1_tjxk66c0000gn/T/ipykernel_4946/662386645.py:3: FutureWarning: The current default of copy=False will change to copy=True in 1.7. Set the value of copy explicitly to avoid this warning\n",
      "  epochs_8_data = epochs_8.get_data()\n"
     ]
    },
    {
     "name": "stdout",
     "output_type": "stream",
     "text": [
      "Not setting metadata\n",
      "61 matching events found\n",
      "No baseline correction applied\n",
      "0 projection items activated\n",
      "Using data from preloaded Raw for 61 events and 1281 original time points ...\n",
      "1 bad epochs dropped\n"
     ]
    },
    {
     "name": "stderr",
     "output_type": "stream",
     "text": [
      "/var/folders/jq/xg0f849x4mg5f7y1_tjxk66c0000gn/T/ipykernel_4946/662386645.py:3: FutureWarning: The current default of copy=False will change to copy=True in 1.7. Set the value of copy explicitly to avoid this warning\n",
      "  epochs_8_data = epochs_8.get_data()\n"
     ]
    },
    {
     "name": "stdout",
     "output_type": "stream",
     "text": [
      "Not setting metadata\n",
      "86 matching events found\n",
      "No baseline correction applied\n",
      "0 projection items activated\n",
      "Using data from preloaded Raw for 86 events and 1281 original time points ...\n",
      "17 bad epochs dropped\n"
     ]
    },
    {
     "name": "stderr",
     "output_type": "stream",
     "text": [
      "/var/folders/jq/xg0f849x4mg5f7y1_tjxk66c0000gn/T/ipykernel_4946/662386645.py:3: FutureWarning: The current default of copy=False will change to copy=True in 1.7. Set the value of copy explicitly to avoid this warning\n",
      "  epochs_8_data = epochs_8.get_data()\n"
     ]
    },
    {
     "name": "stdout",
     "output_type": "stream",
     "text": [
      "Not setting metadata\n",
      "49 matching events found\n",
      "No baseline correction applied\n",
      "0 projection items activated\n",
      "Using data from preloaded Raw for 49 events and 1281 original time points ...\n",
      "10 bad epochs dropped\n"
     ]
    },
    {
     "name": "stderr",
     "output_type": "stream",
     "text": [
      "/var/folders/jq/xg0f849x4mg5f7y1_tjxk66c0000gn/T/ipykernel_4946/662386645.py:3: FutureWarning: The current default of copy=False will change to copy=True in 1.7. Set the value of copy explicitly to avoid this warning\n",
      "  epochs_8_data = epochs_8.get_data()\n"
     ]
    },
    {
     "name": "stdout",
     "output_type": "stream",
     "text": [
      "Not setting metadata\n",
      "77 matching events found\n",
      "No baseline correction applied\n",
      "0 projection items activated\n",
      "Using data from preloaded Raw for 77 events and 1281 original time points ...\n",
      "15 bad epochs dropped\n"
     ]
    },
    {
     "name": "stderr",
     "output_type": "stream",
     "text": [
      "/var/folders/jq/xg0f849x4mg5f7y1_tjxk66c0000gn/T/ipykernel_4946/662386645.py:3: FutureWarning: The current default of copy=False will change to copy=True in 1.7. Set the value of copy explicitly to avoid this warning\n",
      "  epochs_8_data = epochs_8.get_data()\n"
     ]
    },
    {
     "name": "stdout",
     "output_type": "stream",
     "text": [
      "Not setting metadata\n",
      "114 matching events found\n",
      "No baseline correction applied\n",
      "0 projection items activated\n",
      "Using data from preloaded Raw for 114 events and 1281 original time points ...\n",
      "16 bad epochs dropped\n"
     ]
    },
    {
     "name": "stderr",
     "output_type": "stream",
     "text": [
      "/var/folders/jq/xg0f849x4mg5f7y1_tjxk66c0000gn/T/ipykernel_4946/662386645.py:3: FutureWarning: The current default of copy=False will change to copy=True in 1.7. Set the value of copy explicitly to avoid this warning\n",
      "  epochs_8_data = epochs_8.get_data()\n"
     ]
    },
    {
     "name": "stdout",
     "output_type": "stream",
     "text": [
      "Not setting metadata\n",
      "122 matching events found\n",
      "No baseline correction applied\n",
      "0 projection items activated\n",
      "Using data from preloaded Raw for 122 events and 1281 original time points ...\n",
      "64 bad epochs dropped\n"
     ]
    },
    {
     "name": "stderr",
     "output_type": "stream",
     "text": [
      "/var/folders/jq/xg0f849x4mg5f7y1_tjxk66c0000gn/T/ipykernel_4946/662386645.py:3: FutureWarning: The current default of copy=False will change to copy=True in 1.7. Set the value of copy explicitly to avoid this warning\n",
      "  epochs_8_data = epochs_8.get_data()\n"
     ]
    },
    {
     "name": "stdout",
     "output_type": "stream",
     "text": [
      "Not setting metadata\n",
      "100 matching events found\n",
      "No baseline correction applied\n",
      "0 projection items activated\n",
      "Using data from preloaded Raw for 100 events and 1281 original time points ...\n",
      "30 bad epochs dropped\n"
     ]
    },
    {
     "name": "stderr",
     "output_type": "stream",
     "text": [
      "/var/folders/jq/xg0f849x4mg5f7y1_tjxk66c0000gn/T/ipykernel_4946/662386645.py:3: FutureWarning: The current default of copy=False will change to copy=True in 1.7. Set the value of copy explicitly to avoid this warning\n",
      "  epochs_8_data = epochs_8.get_data()\n"
     ]
    },
    {
     "name": "stdout",
     "output_type": "stream",
     "text": [
      "Not setting metadata\n",
      "143 matching events found\n",
      "No baseline correction applied\n",
      "0 projection items activated\n",
      "Using data from preloaded Raw for 143 events and 1281 original time points ...\n",
      "11 bad epochs dropped\n"
     ]
    },
    {
     "name": "stderr",
     "output_type": "stream",
     "text": [
      "/var/folders/jq/xg0f849x4mg5f7y1_tjxk66c0000gn/T/ipykernel_4946/662386645.py:3: FutureWarning: The current default of copy=False will change to copy=True in 1.7. Set the value of copy explicitly to avoid this warning\n",
      "  epochs_8_data = epochs_8.get_data()\n"
     ]
    },
    {
     "name": "stdout",
     "output_type": "stream",
     "text": [
      "Not setting metadata\n",
      "107 matching events found\n",
      "No baseline correction applied\n",
      "0 projection items activated\n",
      "Using data from preloaded Raw for 107 events and 1281 original time points ...\n",
      "13 bad epochs dropped\n"
     ]
    },
    {
     "name": "stderr",
     "output_type": "stream",
     "text": [
      "/var/folders/jq/xg0f849x4mg5f7y1_tjxk66c0000gn/T/ipykernel_4946/662386645.py:3: FutureWarning: The current default of copy=False will change to copy=True in 1.7. Set the value of copy explicitly to avoid this warning\n",
      "  epochs_8_data = epochs_8.get_data()\n"
     ]
    },
    {
     "name": "stdout",
     "output_type": "stream",
     "text": [
      "Not setting metadata\n",
      "132 matching events found\n",
      "No baseline correction applied\n",
      "0 projection items activated\n",
      "Using data from preloaded Raw for 132 events and 1281 original time points ...\n",
      "16 bad epochs dropped\n"
     ]
    },
    {
     "name": "stderr",
     "output_type": "stream",
     "text": [
      "/var/folders/jq/xg0f849x4mg5f7y1_tjxk66c0000gn/T/ipykernel_4946/662386645.py:3: FutureWarning: The current default of copy=False will change to copy=True in 1.7. Set the value of copy explicitly to avoid this warning\n",
      "  epochs_8_data = epochs_8.get_data()\n"
     ]
    },
    {
     "name": "stdout",
     "output_type": "stream",
     "text": [
      "Not setting metadata\n",
      "122 matching events found\n",
      "No baseline correction applied\n",
      "0 projection items activated\n",
      "Using data from preloaded Raw for 122 events and 1281 original time points ...\n",
      "8 bad epochs dropped\n"
     ]
    },
    {
     "name": "stderr",
     "output_type": "stream",
     "text": [
      "/var/folders/jq/xg0f849x4mg5f7y1_tjxk66c0000gn/T/ipykernel_4946/662386645.py:3: FutureWarning: The current default of copy=False will change to copy=True in 1.7. Set the value of copy explicitly to avoid this warning\n",
      "  epochs_8_data = epochs_8.get_data()\n"
     ]
    },
    {
     "name": "stdout",
     "output_type": "stream",
     "text": [
      "Not setting metadata\n",
      "94 matching events found\n",
      "No baseline correction applied\n",
      "0 projection items activated\n",
      "Using data from preloaded Raw for 94 events and 1281 original time points ...\n",
      "6 bad epochs dropped\n"
     ]
    },
    {
     "name": "stderr",
     "output_type": "stream",
     "text": [
      "/var/folders/jq/xg0f849x4mg5f7y1_tjxk66c0000gn/T/ipykernel_4946/662386645.py:3: FutureWarning: The current default of copy=False will change to copy=True in 1.7. Set the value of copy explicitly to avoid this warning\n",
      "  epochs_8_data = epochs_8.get_data()\n"
     ]
    },
    {
     "name": "stdout",
     "output_type": "stream",
     "text": [
      "Not setting metadata\n",
      "106 matching events found\n",
      "No baseline correction applied\n",
      "0 projection items activated\n",
      "Using data from preloaded Raw for 106 events and 1281 original time points ...\n",
      "5 bad epochs dropped\n"
     ]
    },
    {
     "name": "stderr",
     "output_type": "stream",
     "text": [
      "/var/folders/jq/xg0f849x4mg5f7y1_tjxk66c0000gn/T/ipykernel_4946/662386645.py:3: FutureWarning: The current default of copy=False will change to copy=True in 1.7. Set the value of copy explicitly to avoid this warning\n",
      "  epochs_8_data = epochs_8.get_data()\n"
     ]
    },
    {
     "name": "stdout",
     "output_type": "stream",
     "text": [
      "Not setting metadata\n",
      "142 matching events found\n",
      "No baseline correction applied\n",
      "0 projection items activated\n",
      "Using data from preloaded Raw for 142 events and 1281 original time points ...\n",
      "9 bad epochs dropped\n"
     ]
    },
    {
     "name": "stderr",
     "output_type": "stream",
     "text": [
      "/var/folders/jq/xg0f849x4mg5f7y1_tjxk66c0000gn/T/ipykernel_4946/662386645.py:3: FutureWarning: The current default of copy=False will change to copy=True in 1.7. Set the value of copy explicitly to avoid this warning\n",
      "  epochs_8_data = epochs_8.get_data()\n"
     ]
    },
    {
     "name": "stdout",
     "output_type": "stream",
     "text": [
      "Not setting metadata\n",
      "181 matching events found\n",
      "No baseline correction applied\n",
      "0 projection items activated\n",
      "Using data from preloaded Raw for 181 events and 1281 original time points ...\n",
      "2 bad epochs dropped\n"
     ]
    },
    {
     "name": "stderr",
     "output_type": "stream",
     "text": [
      "/var/folders/jq/xg0f849x4mg5f7y1_tjxk66c0000gn/T/ipykernel_4946/662386645.py:3: FutureWarning: The current default of copy=False will change to copy=True in 1.7. Set the value of copy explicitly to avoid this warning\n",
      "  epochs_8_data = epochs_8.get_data()\n"
     ]
    },
    {
     "name": "stdout",
     "output_type": "stream",
     "text": [
      "Not setting metadata\n",
      "99 matching events found\n",
      "No baseline correction applied\n",
      "0 projection items activated\n",
      "Using data from preloaded Raw for 99 events and 1281 original time points ...\n",
      "7 bad epochs dropped\n"
     ]
    },
    {
     "name": "stderr",
     "output_type": "stream",
     "text": [
      "/var/folders/jq/xg0f849x4mg5f7y1_tjxk66c0000gn/T/ipykernel_4946/662386645.py:3: FutureWarning: The current default of copy=False will change to copy=True in 1.7. Set the value of copy explicitly to avoid this warning\n",
      "  epochs_8_data = epochs_8.get_data()\n"
     ]
    },
    {
     "name": "stdout",
     "output_type": "stream",
     "text": [
      "Not setting metadata\n",
      "178 matching events found\n",
      "No baseline correction applied\n",
      "0 projection items activated\n",
      "Using data from preloaded Raw for 178 events and 1281 original time points ...\n",
      "6 bad epochs dropped\n"
     ]
    },
    {
     "name": "stderr",
     "output_type": "stream",
     "text": [
      "/var/folders/jq/xg0f849x4mg5f7y1_tjxk66c0000gn/T/ipykernel_4946/662386645.py:3: FutureWarning: The current default of copy=False will change to copy=True in 1.7. Set the value of copy explicitly to avoid this warning\n",
      "  epochs_8_data = epochs_8.get_data()\n"
     ]
    },
    {
     "name": "stdout",
     "output_type": "stream",
     "text": [
      "Not setting metadata\n",
      "63 matching events found\n",
      "No baseline correction applied\n",
      "0 projection items activated\n",
      "Using data from preloaded Raw for 63 events and 1281 original time points ...\n",
      "7 bad epochs dropped\n"
     ]
    },
    {
     "name": "stderr",
     "output_type": "stream",
     "text": [
      "/var/folders/jq/xg0f849x4mg5f7y1_tjxk66c0000gn/T/ipykernel_4946/662386645.py:3: FutureWarning: The current default of copy=False will change to copy=True in 1.7. Set the value of copy explicitly to avoid this warning\n",
      "  epochs_8_data = epochs_8.get_data()\n"
     ]
    },
    {
     "name": "stdout",
     "output_type": "stream",
     "text": [
      "Not setting metadata\n",
      "48 matching events found\n",
      "No baseline correction applied\n",
      "0 projection items activated\n",
      "Using data from preloaded Raw for 48 events and 1281 original time points ...\n",
      "1 bad epochs dropped\n"
     ]
    },
    {
     "name": "stderr",
     "output_type": "stream",
     "text": [
      "/var/folders/jq/xg0f849x4mg5f7y1_tjxk66c0000gn/T/ipykernel_4946/662386645.py:3: FutureWarning: The current default of copy=False will change to copy=True in 1.7. Set the value of copy explicitly to avoid this warning\n",
      "  epochs_8_data = epochs_8.get_data()\n"
     ]
    }
   ],
   "source": [
    "# fif_1_participantwise_abp = []\n",
    "# fif_1_bl_participantwise_abp = []\n",
    "# fif_1_participantwise_abp_df = []\n",
    "# fif_1_bl_participantwise_abp_df = []\n",
    "\n",
    "# fif_2_participantwise_abp = []\n",
    "# fif_2_bl_participantwise_abp = []\n",
    "# fif_2_participantwise_abp_df = []\n",
    "# fif_2_bl_participantwise_abp_df = []\n",
    "\n",
    "# fif_3_participantwise_abp = []\n",
    "# fif_3_bl_participantwise_abp = []\n",
    "# fif_3_participantwise_abp_df = []\n",
    "# fif_3_bl_participantwise_abp_df = []\n",
    "\n",
    "# epoch_duration_abp = 5\n",
    "\n",
    "\n",
    "# j= 0\n",
    "# for fif in fif_3_baseline:\n",
    "#     bl_sketch_temp = fif_3_baseline[j]\n",
    "#     bl_sketch_temp_epochs = epoch_equally(bl_sketch_temp,epoch_duration_abp)\n",
    "#     bl_channelwise_data_temp = concatenate_epochs_into_channels(bl_sketch_temp_epochs)\n",
    "#     bl_abp_list_temp = channelwise_abp(bl_channelwise_data_temp)\n",
    "#     fif_3_bl_participantwise_abp.append(bl_abp_list_temp)\n",
    "\n",
    "#     channel_names = np.array([\"AF3\", \"F7\", \"F3\", \"FC5\", \"FC6\", \"F4\", \"F8\", \"AF4\"])\n",
    "#     bl_abp_df_list_temp = pd.DataFrame(bl_abp_list_temp, columns=['bl_delta_abp','bl_theta_abp','bl_alpha_abp','bl_beta_abp','bl_brain_abp','bl_full_abp'])\n",
    "#     pd.options.display.float_format ='{:.2e}'.format\n",
    "#     bl_abp_df_list_temp['Channel'] = channel_names\n",
    "#     fif_3_bl_participantwise_abp_df.append(bl_abp_df_list_temp)\n",
    "#     j=j+1\n",
    "\n",
    "# i= 0\n",
    "# for fif in fif_3_sketching_signals:\n",
    "#     sketch_temp = fif_3_sketching_signals[i]\n",
    "#     sketch_temp_epochs = epoch_equally(sketch_temp,epoch_duration_abp)\n",
    "#     channelwise_data_temp = concatenate_epochs_into_channels(sketch_temp_epochs)\n",
    "#     abp_list_temp = channelwise_abp(channelwise_data_temp)\n",
    "#     fif_3_participantwise_abp.append(abp_list_temp)\n",
    "\n",
    "#     channel_names = np.array([\"AF3\", \"F7\", \"F3\", \"FC5\", \"FC6\", \"F4\", \"F8\", \"AF4\"])\n",
    "#     abp_df_list_temp = pd.DataFrame(abp_list_temp, columns=['delta_abp','theta_abp','alpha_abp','beta_abp','brain_abp','full_abp'])\n",
    "#     pd.options.display.float_format ='{:.2e}'.format\n",
    "#     abp_df_list_temp['Channel'] = channel_names\n",
    "#     fif_3_participantwise_abp_df.append(abp_df_list_temp)\n",
    "#     i=i+1\n",
    "\n",
    "    "
   ]
  },
  {
   "cell_type": "code",
   "execution_count": 88,
   "id": "5fb33cea-c4ae-425d-b799-9ba113c7ee0c",
   "metadata": {},
   "outputs": [
    {
     "name": "stdout",
     "output_type": "stream",
     "text": [
      "Not setting metadata\n",
      "6 matching events found\n",
      "No baseline correction applied\n",
      "0 projection items activated\n",
      "Using data from preloaded Raw for 6 events and 1281 original time points ...\n",
      "0 bad epochs dropped\n"
     ]
    },
    {
     "name": "stderr",
     "output_type": "stream",
     "text": [
      "/var/folders/jq/xg0f849x4mg5f7y1_tjxk66c0000gn/T/ipykernel_4946/662386645.py:3: FutureWarning: The current default of copy=False will change to copy=True in 1.7. Set the value of copy explicitly to avoid this warning\n",
      "  epochs_8_data = epochs_8.get_data()\n"
     ]
    },
    {
     "name": "stdout",
     "output_type": "stream",
     "text": [
      "Not setting metadata\n",
      "6 matching events found\n",
      "No baseline correction applied\n",
      "0 projection items activated\n",
      "Using data from preloaded Raw for 6 events and 1281 original time points ...\n",
      "0 bad epochs dropped\n"
     ]
    },
    {
     "name": "stderr",
     "output_type": "stream",
     "text": [
      "/var/folders/jq/xg0f849x4mg5f7y1_tjxk66c0000gn/T/ipykernel_4946/662386645.py:3: FutureWarning: The current default of copy=False will change to copy=True in 1.7. Set the value of copy explicitly to avoid this warning\n",
      "  epochs_8_data = epochs_8.get_data()\n"
     ]
    },
    {
     "name": "stdout",
     "output_type": "stream",
     "text": [
      "Not setting metadata\n",
      "6 matching events found\n",
      "No baseline correction applied\n",
      "0 projection items activated\n",
      "Using data from preloaded Raw for 6 events and 1281 original time points ...\n",
      "0 bad epochs dropped\n"
     ]
    },
    {
     "name": "stderr",
     "output_type": "stream",
     "text": [
      "/var/folders/jq/xg0f849x4mg5f7y1_tjxk66c0000gn/T/ipykernel_4946/662386645.py:3: FutureWarning: The current default of copy=False will change to copy=True in 1.7. Set the value of copy explicitly to avoid this warning\n",
      "  epochs_8_data = epochs_8.get_data()\n"
     ]
    },
    {
     "name": "stdout",
     "output_type": "stream",
     "text": [
      "Not setting metadata\n",
      "6 matching events found\n",
      "No baseline correction applied\n",
      "0 projection items activated\n",
      "Using data from preloaded Raw for 6 events and 1281 original time points ...\n",
      "0 bad epochs dropped\n"
     ]
    },
    {
     "name": "stderr",
     "output_type": "stream",
     "text": [
      "/var/folders/jq/xg0f849x4mg5f7y1_tjxk66c0000gn/T/ipykernel_4946/662386645.py:3: FutureWarning: The current default of copy=False will change to copy=True in 1.7. Set the value of copy explicitly to avoid this warning\n",
      "  epochs_8_data = epochs_8.get_data()\n"
     ]
    },
    {
     "name": "stdout",
     "output_type": "stream",
     "text": [
      "Not setting metadata\n",
      "6 matching events found\n",
      "No baseline correction applied\n",
      "0 projection items activated\n",
      "Using data from preloaded Raw for 6 events and 1281 original time points ...\n",
      "0 bad epochs dropped\n"
     ]
    },
    {
     "name": "stderr",
     "output_type": "stream",
     "text": [
      "/var/folders/jq/xg0f849x4mg5f7y1_tjxk66c0000gn/T/ipykernel_4946/662386645.py:3: FutureWarning: The current default of copy=False will change to copy=True in 1.7. Set the value of copy explicitly to avoid this warning\n",
      "  epochs_8_data = epochs_8.get_data()\n"
     ]
    },
    {
     "name": "stdout",
     "output_type": "stream",
     "text": [
      "Not setting metadata\n",
      "6 matching events found\n",
      "No baseline correction applied\n",
      "0 projection items activated\n",
      "Using data from preloaded Raw for 6 events and 1281 original time points ...\n",
      "2 bad epochs dropped\n"
     ]
    },
    {
     "name": "stderr",
     "output_type": "stream",
     "text": [
      "/var/folders/jq/xg0f849x4mg5f7y1_tjxk66c0000gn/T/ipykernel_4946/662386645.py:3: FutureWarning: The current default of copy=False will change to copy=True in 1.7. Set the value of copy explicitly to avoid this warning\n",
      "  epochs_8_data = epochs_8.get_data()\n"
     ]
    },
    {
     "name": "stdout",
     "output_type": "stream",
     "text": [
      "Not setting metadata\n",
      "6 matching events found\n",
      "No baseline correction applied\n",
      "0 projection items activated\n",
      "Using data from preloaded Raw for 6 events and 1281 original time points ...\n",
      "2 bad epochs dropped\n"
     ]
    },
    {
     "name": "stderr",
     "output_type": "stream",
     "text": [
      "/var/folders/jq/xg0f849x4mg5f7y1_tjxk66c0000gn/T/ipykernel_4946/662386645.py:3: FutureWarning: The current default of copy=False will change to copy=True in 1.7. Set the value of copy explicitly to avoid this warning\n",
      "  epochs_8_data = epochs_8.get_data()\n"
     ]
    },
    {
     "name": "stdout",
     "output_type": "stream",
     "text": [
      "Not setting metadata\n",
      "6 matching events found\n",
      "No baseline correction applied\n",
      "0 projection items activated\n",
      "Using data from preloaded Raw for 6 events and 1281 original time points ...\n",
      "1 bad epochs dropped\n"
     ]
    },
    {
     "name": "stderr",
     "output_type": "stream",
     "text": [
      "/var/folders/jq/xg0f849x4mg5f7y1_tjxk66c0000gn/T/ipykernel_4946/662386645.py:3: FutureWarning: The current default of copy=False will change to copy=True in 1.7. Set the value of copy explicitly to avoid this warning\n",
      "  epochs_8_data = epochs_8.get_data()\n"
     ]
    },
    {
     "name": "stdout",
     "output_type": "stream",
     "text": [
      "Not setting metadata\n",
      "6 matching events found\n",
      "No baseline correction applied\n",
      "0 projection items activated\n",
      "Using data from preloaded Raw for 6 events and 1281 original time points ...\n",
      "0 bad epochs dropped\n"
     ]
    },
    {
     "name": "stderr",
     "output_type": "stream",
     "text": [
      "/var/folders/jq/xg0f849x4mg5f7y1_tjxk66c0000gn/T/ipykernel_4946/662386645.py:3: FutureWarning: The current default of copy=False will change to copy=True in 1.7. Set the value of copy explicitly to avoid this warning\n",
      "  epochs_8_data = epochs_8.get_data()\n"
     ]
    },
    {
     "name": "stdout",
     "output_type": "stream",
     "text": [
      "Not setting metadata\n",
      "6 matching events found\n",
      "No baseline correction applied\n",
      "0 projection items activated\n",
      "Using data from preloaded Raw for 6 events and 1281 original time points ...\n",
      "0 bad epochs dropped\n"
     ]
    },
    {
     "name": "stderr",
     "output_type": "stream",
     "text": [
      "/var/folders/jq/xg0f849x4mg5f7y1_tjxk66c0000gn/T/ipykernel_4946/662386645.py:3: FutureWarning: The current default of copy=False will change to copy=True in 1.7. Set the value of copy explicitly to avoid this warning\n",
      "  epochs_8_data = epochs_8.get_data()\n"
     ]
    },
    {
     "name": "stdout",
     "output_type": "stream",
     "text": [
      "Not setting metadata\n",
      "6 matching events found\n",
      "No baseline correction applied\n",
      "0 projection items activated\n",
      "Using data from preloaded Raw for 6 events and 1281 original time points ...\n",
      "1 bad epochs dropped\n"
     ]
    },
    {
     "name": "stderr",
     "output_type": "stream",
     "text": [
      "/var/folders/jq/xg0f849x4mg5f7y1_tjxk66c0000gn/T/ipykernel_4946/662386645.py:3: FutureWarning: The current default of copy=False will change to copy=True in 1.7. Set the value of copy explicitly to avoid this warning\n",
      "  epochs_8_data = epochs_8.get_data()\n"
     ]
    },
    {
     "name": "stdout",
     "output_type": "stream",
     "text": [
      "Not setting metadata\n",
      "6 matching events found\n",
      "No baseline correction applied\n",
      "0 projection items activated\n",
      "Using data from preloaded Raw for 6 events and 1281 original time points ...\n",
      "2 bad epochs dropped\n"
     ]
    },
    {
     "name": "stderr",
     "output_type": "stream",
     "text": [
      "/var/folders/jq/xg0f849x4mg5f7y1_tjxk66c0000gn/T/ipykernel_4946/662386645.py:3: FutureWarning: The current default of copy=False will change to copy=True in 1.7. Set the value of copy explicitly to avoid this warning\n",
      "  epochs_8_data = epochs_8.get_data()\n"
     ]
    },
    {
     "name": "stdout",
     "output_type": "stream",
     "text": [
      "Not setting metadata\n",
      "6 matching events found\n",
      "No baseline correction applied\n",
      "0 projection items activated\n",
      "Using data from preloaded Raw for 6 events and 1281 original time points ...\n",
      "0 bad epochs dropped\n"
     ]
    },
    {
     "name": "stderr",
     "output_type": "stream",
     "text": [
      "/var/folders/jq/xg0f849x4mg5f7y1_tjxk66c0000gn/T/ipykernel_4946/662386645.py:3: FutureWarning: The current default of copy=False will change to copy=True in 1.7. Set the value of copy explicitly to avoid this warning\n",
      "  epochs_8_data = epochs_8.get_data()\n"
     ]
    },
    {
     "name": "stdout",
     "output_type": "stream",
     "text": [
      "Not setting metadata\n",
      "6 matching events found\n",
      "No baseline correction applied\n",
      "0 projection items activated\n",
      "Using data from preloaded Raw for 6 events and 1281 original time points ...\n",
      "2 bad epochs dropped\n"
     ]
    },
    {
     "name": "stderr",
     "output_type": "stream",
     "text": [
      "/var/folders/jq/xg0f849x4mg5f7y1_tjxk66c0000gn/T/ipykernel_4946/662386645.py:3: FutureWarning: The current default of copy=False will change to copy=True in 1.7. Set the value of copy explicitly to avoid this warning\n",
      "  epochs_8_data = epochs_8.get_data()\n"
     ]
    },
    {
     "name": "stdout",
     "output_type": "stream",
     "text": [
      "Not setting metadata\n",
      "6 matching events found\n",
      "No baseline correction applied\n",
      "0 projection items activated\n",
      "Using data from preloaded Raw for 6 events and 1281 original time points ...\n",
      "0 bad epochs dropped\n"
     ]
    },
    {
     "name": "stderr",
     "output_type": "stream",
     "text": [
      "/var/folders/jq/xg0f849x4mg5f7y1_tjxk66c0000gn/T/ipykernel_4946/662386645.py:3: FutureWarning: The current default of copy=False will change to copy=True in 1.7. Set the value of copy explicitly to avoid this warning\n",
      "  epochs_8_data = epochs_8.get_data()\n"
     ]
    },
    {
     "name": "stdout",
     "output_type": "stream",
     "text": [
      "Not setting metadata\n",
      "6 matching events found\n",
      "No baseline correction applied\n",
      "0 projection items activated\n",
      "Using data from preloaded Raw for 6 events and 1281 original time points ...\n",
      "0 bad epochs dropped\n"
     ]
    },
    {
     "name": "stderr",
     "output_type": "stream",
     "text": [
      "/var/folders/jq/xg0f849x4mg5f7y1_tjxk66c0000gn/T/ipykernel_4946/662386645.py:3: FutureWarning: The current default of copy=False will change to copy=True in 1.7. Set the value of copy explicitly to avoid this warning\n",
      "  epochs_8_data = epochs_8.get_data()\n"
     ]
    },
    {
     "name": "stdout",
     "output_type": "stream",
     "text": [
      "Not setting metadata\n",
      "6 matching events found\n",
      "No baseline correction applied\n",
      "0 projection items activated\n",
      "Using data from preloaded Raw for 6 events and 1281 original time points ...\n",
      "0 bad epochs dropped\n"
     ]
    },
    {
     "name": "stderr",
     "output_type": "stream",
     "text": [
      "/var/folders/jq/xg0f849x4mg5f7y1_tjxk66c0000gn/T/ipykernel_4946/662386645.py:3: FutureWarning: The current default of copy=False will change to copy=True in 1.7. Set the value of copy explicitly to avoid this warning\n",
      "  epochs_8_data = epochs_8.get_data()\n"
     ]
    },
    {
     "name": "stdout",
     "output_type": "stream",
     "text": [
      "Not setting metadata\n",
      "6 matching events found\n",
      "No baseline correction applied\n",
      "0 projection items activated\n",
      "Using data from preloaded Raw for 6 events and 1281 original time points ...\n",
      "0 bad epochs dropped\n"
     ]
    },
    {
     "name": "stderr",
     "output_type": "stream",
     "text": [
      "/var/folders/jq/xg0f849x4mg5f7y1_tjxk66c0000gn/T/ipykernel_4946/662386645.py:3: FutureWarning: The current default of copy=False will change to copy=True in 1.7. Set the value of copy explicitly to avoid this warning\n",
      "  epochs_8_data = epochs_8.get_data()\n"
     ]
    },
    {
     "name": "stdout",
     "output_type": "stream",
     "text": [
      "Not setting metadata\n",
      "6 matching events found\n",
      "No baseline correction applied\n",
      "0 projection items activated\n",
      "Using data from preloaded Raw for 6 events and 1281 original time points ...\n",
      "0 bad epochs dropped\n"
     ]
    },
    {
     "name": "stderr",
     "output_type": "stream",
     "text": [
      "/var/folders/jq/xg0f849x4mg5f7y1_tjxk66c0000gn/T/ipykernel_4946/662386645.py:3: FutureWarning: The current default of copy=False will change to copy=True in 1.7. Set the value of copy explicitly to avoid this warning\n",
      "  epochs_8_data = epochs_8.get_data()\n"
     ]
    },
    {
     "name": "stdout",
     "output_type": "stream",
     "text": [
      "Not setting metadata\n",
      "6 matching events found\n",
      "No baseline correction applied\n",
      "0 projection items activated\n",
      "Using data from preloaded Raw for 6 events and 1281 original time points ...\n",
      "1 bad epochs dropped\n"
     ]
    },
    {
     "name": "stderr",
     "output_type": "stream",
     "text": [
      "/var/folders/jq/xg0f849x4mg5f7y1_tjxk66c0000gn/T/ipykernel_4946/662386645.py:3: FutureWarning: The current default of copy=False will change to copy=True in 1.7. Set the value of copy explicitly to avoid this warning\n",
      "  epochs_8_data = epochs_8.get_data()\n"
     ]
    },
    {
     "name": "stdout",
     "output_type": "stream",
     "text": [
      "Not setting metadata\n",
      "6 matching events found\n",
      "No baseline correction applied\n",
      "0 projection items activated\n",
      "Using data from preloaded Raw for 6 events and 1281 original time points ...\n",
      "0 bad epochs dropped\n"
     ]
    },
    {
     "name": "stderr",
     "output_type": "stream",
     "text": [
      "/var/folders/jq/xg0f849x4mg5f7y1_tjxk66c0000gn/T/ipykernel_4946/662386645.py:3: FutureWarning: The current default of copy=False will change to copy=True in 1.7. Set the value of copy explicitly to avoid this warning\n",
      "  epochs_8_data = epochs_8.get_data()\n"
     ]
    },
    {
     "name": "stdout",
     "output_type": "stream",
     "text": [
      "Not setting metadata\n",
      "6 matching events found\n",
      "No baseline correction applied\n",
      "0 projection items activated\n",
      "Using data from preloaded Raw for 6 events and 1281 original time points ...\n",
      "0 bad epochs dropped\n"
     ]
    },
    {
     "name": "stderr",
     "output_type": "stream",
     "text": [
      "/var/folders/jq/xg0f849x4mg5f7y1_tjxk66c0000gn/T/ipykernel_4946/662386645.py:3: FutureWarning: The current default of copy=False will change to copy=True in 1.7. Set the value of copy explicitly to avoid this warning\n",
      "  epochs_8_data = epochs_8.get_data()\n"
     ]
    },
    {
     "name": "stdout",
     "output_type": "stream",
     "text": [
      "Not setting metadata\n",
      "6 matching events found\n",
      "No baseline correction applied\n",
      "0 projection items activated\n",
      "Using data from preloaded Raw for 6 events and 1281 original time points ...\n",
      "0 bad epochs dropped\n"
     ]
    },
    {
     "name": "stderr",
     "output_type": "stream",
     "text": [
      "/var/folders/jq/xg0f849x4mg5f7y1_tjxk66c0000gn/T/ipykernel_4946/662386645.py:3: FutureWarning: The current default of copy=False will change to copy=True in 1.7. Set the value of copy explicitly to avoid this warning\n",
      "  epochs_8_data = epochs_8.get_data()\n"
     ]
    },
    {
     "name": "stdout",
     "output_type": "stream",
     "text": [
      "Not setting metadata\n",
      "6 matching events found\n",
      "No baseline correction applied\n",
      "0 projection items activated\n",
      "Using data from preloaded Raw for 6 events and 1281 original time points ...\n",
      "0 bad epochs dropped\n"
     ]
    },
    {
     "name": "stderr",
     "output_type": "stream",
     "text": [
      "/var/folders/jq/xg0f849x4mg5f7y1_tjxk66c0000gn/T/ipykernel_4946/662386645.py:3: FutureWarning: The current default of copy=False will change to copy=True in 1.7. Set the value of copy explicitly to avoid this warning\n",
      "  epochs_8_data = epochs_8.get_data()\n"
     ]
    },
    {
     "name": "stdout",
     "output_type": "stream",
     "text": [
      "Not setting metadata\n",
      "6 matching events found\n",
      "No baseline correction applied\n",
      "0 projection items activated\n",
      "Using data from preloaded Raw for 6 events and 1281 original time points ...\n",
      "0 bad epochs dropped\n"
     ]
    },
    {
     "name": "stderr",
     "output_type": "stream",
     "text": [
      "/var/folders/jq/xg0f849x4mg5f7y1_tjxk66c0000gn/T/ipykernel_4946/662386645.py:3: FutureWarning: The current default of copy=False will change to copy=True in 1.7. Set the value of copy explicitly to avoid this warning\n",
      "  epochs_8_data = epochs_8.get_data()\n"
     ]
    },
    {
     "name": "stdout",
     "output_type": "stream",
     "text": [
      "Not setting metadata\n",
      "6 matching events found\n",
      "No baseline correction applied\n",
      "0 projection items activated\n",
      "Using data from preloaded Raw for 6 events and 1281 original time points ...\n",
      "0 bad epochs dropped\n"
     ]
    },
    {
     "name": "stderr",
     "output_type": "stream",
     "text": [
      "/var/folders/jq/xg0f849x4mg5f7y1_tjxk66c0000gn/T/ipykernel_4946/662386645.py:3: FutureWarning: The current default of copy=False will change to copy=True in 1.7. Set the value of copy explicitly to avoid this warning\n",
      "  epochs_8_data = epochs_8.get_data()\n"
     ]
    },
    {
     "name": "stdout",
     "output_type": "stream",
     "text": [
      "Not setting metadata\n",
      "6 matching events found\n",
      "No baseline correction applied\n",
      "0 projection items activated\n",
      "Using data from preloaded Raw for 6 events and 1281 original time points ...\n",
      "0 bad epochs dropped\n"
     ]
    },
    {
     "name": "stderr",
     "output_type": "stream",
     "text": [
      "/var/folders/jq/xg0f849x4mg5f7y1_tjxk66c0000gn/T/ipykernel_4946/662386645.py:3: FutureWarning: The current default of copy=False will change to copy=True in 1.7. Set the value of copy explicitly to avoid this warning\n",
      "  epochs_8_data = epochs_8.get_data()\n"
     ]
    },
    {
     "name": "stdout",
     "output_type": "stream",
     "text": [
      "Not setting metadata\n",
      "6 matching events found\n",
      "No baseline correction applied\n",
      "0 projection items activated\n",
      "Using data from preloaded Raw for 6 events and 1281 original time points ...\n",
      "0 bad epochs dropped\n"
     ]
    },
    {
     "name": "stderr",
     "output_type": "stream",
     "text": [
      "/var/folders/jq/xg0f849x4mg5f7y1_tjxk66c0000gn/T/ipykernel_4946/662386645.py:3: FutureWarning: The current default of copy=False will change to copy=True in 1.7. Set the value of copy explicitly to avoid this warning\n",
      "  epochs_8_data = epochs_8.get_data()\n"
     ]
    },
    {
     "name": "stdout",
     "output_type": "stream",
     "text": [
      "Not setting metadata\n",
      "6 matching events found\n",
      "No baseline correction applied\n",
      "0 projection items activated\n",
      "Using data from preloaded Raw for 6 events and 1281 original time points ...\n",
      "0 bad epochs dropped\n"
     ]
    },
    {
     "name": "stderr",
     "output_type": "stream",
     "text": [
      "/var/folders/jq/xg0f849x4mg5f7y1_tjxk66c0000gn/T/ipykernel_4946/662386645.py:3: FutureWarning: The current default of copy=False will change to copy=True in 1.7. Set the value of copy explicitly to avoid this warning\n",
      "  epochs_8_data = epochs_8.get_data()\n"
     ]
    },
    {
     "name": "stdout",
     "output_type": "stream",
     "text": [
      "Not setting metadata\n",
      "6 matching events found\n",
      "No baseline correction applied\n",
      "0 projection items activated\n",
      "Using data from preloaded Raw for 6 events and 1281 original time points ...\n",
      "0 bad epochs dropped\n"
     ]
    },
    {
     "name": "stderr",
     "output_type": "stream",
     "text": [
      "/var/folders/jq/xg0f849x4mg5f7y1_tjxk66c0000gn/T/ipykernel_4946/662386645.py:3: FutureWarning: The current default of copy=False will change to copy=True in 1.7. Set the value of copy explicitly to avoid this warning\n",
      "  epochs_8_data = epochs_8.get_data()\n"
     ]
    },
    {
     "name": "stdout",
     "output_type": "stream",
     "text": [
      "Not setting metadata\n",
      "6 matching events found\n",
      "No baseline correction applied\n",
      "0 projection items activated\n",
      "Using data from preloaded Raw for 6 events and 1281 original time points ...\n",
      "0 bad epochs dropped\n"
     ]
    },
    {
     "name": "stderr",
     "output_type": "stream",
     "text": [
      "/var/folders/jq/xg0f849x4mg5f7y1_tjxk66c0000gn/T/ipykernel_4946/662386645.py:3: FutureWarning: The current default of copy=False will change to copy=True in 1.7. Set the value of copy explicitly to avoid this warning\n",
      "  epochs_8_data = epochs_8.get_data()\n"
     ]
    },
    {
     "name": "stdout",
     "output_type": "stream",
     "text": [
      "Not setting metadata\n",
      "61 matching events found\n",
      "No baseline correction applied\n",
      "0 projection items activated\n",
      "Using data from preloaded Raw for 61 events and 1281 original time points ...\n",
      "3 bad epochs dropped\n"
     ]
    },
    {
     "name": "stderr",
     "output_type": "stream",
     "text": [
      "/var/folders/jq/xg0f849x4mg5f7y1_tjxk66c0000gn/T/ipykernel_4946/662386645.py:3: FutureWarning: The current default of copy=False will change to copy=True in 1.7. Set the value of copy explicitly to avoid this warning\n",
      "  epochs_8_data = epochs_8.get_data()\n"
     ]
    },
    {
     "name": "stdout",
     "output_type": "stream",
     "text": [
      "Not setting metadata\n",
      "20 matching events found\n",
      "No baseline correction applied\n",
      "0 projection items activated\n",
      "Using data from preloaded Raw for 20 events and 1281 original time points ...\n",
      "9 bad epochs dropped\n"
     ]
    },
    {
     "name": "stderr",
     "output_type": "stream",
     "text": [
      "/var/folders/jq/xg0f849x4mg5f7y1_tjxk66c0000gn/T/ipykernel_4946/662386645.py:3: FutureWarning: The current default of copy=False will change to copy=True in 1.7. Set the value of copy explicitly to avoid this warning\n",
      "  epochs_8_data = epochs_8.get_data()\n"
     ]
    },
    {
     "name": "stdout",
     "output_type": "stream",
     "text": [
      "Not setting metadata\n",
      "42 matching events found\n",
      "No baseline correction applied\n",
      "0 projection items activated\n",
      "Using data from preloaded Raw for 42 events and 1281 original time points ...\n",
      "0 bad epochs dropped\n"
     ]
    },
    {
     "name": "stderr",
     "output_type": "stream",
     "text": [
      "/var/folders/jq/xg0f849x4mg5f7y1_tjxk66c0000gn/T/ipykernel_4946/662386645.py:3: FutureWarning: The current default of copy=False will change to copy=True in 1.7. Set the value of copy explicitly to avoid this warning\n",
      "  epochs_8_data = epochs_8.get_data()\n"
     ]
    },
    {
     "name": "stdout",
     "output_type": "stream",
     "text": [
      "Not setting metadata\n",
      "78 matching events found\n",
      "No baseline correction applied\n",
      "0 projection items activated\n",
      "Using data from preloaded Raw for 78 events and 1281 original time points ...\n",
      "17 bad epochs dropped\n"
     ]
    },
    {
     "name": "stderr",
     "output_type": "stream",
     "text": [
      "/var/folders/jq/xg0f849x4mg5f7y1_tjxk66c0000gn/T/ipykernel_4946/662386645.py:3: FutureWarning: The current default of copy=False will change to copy=True in 1.7. Set the value of copy explicitly to avoid this warning\n",
      "  epochs_8_data = epochs_8.get_data()\n"
     ]
    },
    {
     "name": "stdout",
     "output_type": "stream",
     "text": [
      "Not setting metadata\n",
      "36 matching events found\n",
      "No baseline correction applied\n",
      "0 projection items activated\n",
      "Using data from preloaded Raw for 36 events and 1281 original time points ...\n",
      "2 bad epochs dropped\n"
     ]
    },
    {
     "name": "stderr",
     "output_type": "stream",
     "text": [
      "/var/folders/jq/xg0f849x4mg5f7y1_tjxk66c0000gn/T/ipykernel_4946/662386645.py:3: FutureWarning: The current default of copy=False will change to copy=True in 1.7. Set the value of copy explicitly to avoid this warning\n",
      "  epochs_8_data = epochs_8.get_data()\n"
     ]
    },
    {
     "name": "stdout",
     "output_type": "stream",
     "text": [
      "Not setting metadata\n",
      "36 matching events found\n",
      "No baseline correction applied\n",
      "0 projection items activated\n",
      "Using data from preloaded Raw for 36 events and 1281 original time points ...\n",
      "5 bad epochs dropped\n"
     ]
    },
    {
     "name": "stderr",
     "output_type": "stream",
     "text": [
      "/var/folders/jq/xg0f849x4mg5f7y1_tjxk66c0000gn/T/ipykernel_4946/662386645.py:3: FutureWarning: The current default of copy=False will change to copy=True in 1.7. Set the value of copy explicitly to avoid this warning\n",
      "  epochs_8_data = epochs_8.get_data()\n"
     ]
    },
    {
     "name": "stdout",
     "output_type": "stream",
     "text": [
      "Not setting metadata\n",
      "99 matching events found\n",
      "No baseline correction applied\n",
      "0 projection items activated\n",
      "Using data from preloaded Raw for 99 events and 1281 original time points ...\n",
      "3 bad epochs dropped\n"
     ]
    },
    {
     "name": "stderr",
     "output_type": "stream",
     "text": [
      "/var/folders/jq/xg0f849x4mg5f7y1_tjxk66c0000gn/T/ipykernel_4946/662386645.py:3: FutureWarning: The current default of copy=False will change to copy=True in 1.7. Set the value of copy explicitly to avoid this warning\n",
      "  epochs_8_data = epochs_8.get_data()\n"
     ]
    },
    {
     "name": "stdout",
     "output_type": "stream",
     "text": [
      "Not setting metadata\n",
      "51 matching events found\n",
      "No baseline correction applied\n",
      "0 projection items activated\n",
      "Using data from preloaded Raw for 51 events and 1281 original time points ...\n",
      "4 bad epochs dropped\n"
     ]
    },
    {
     "name": "stderr",
     "output_type": "stream",
     "text": [
      "/var/folders/jq/xg0f849x4mg5f7y1_tjxk66c0000gn/T/ipykernel_4946/662386645.py:3: FutureWarning: The current default of copy=False will change to copy=True in 1.7. Set the value of copy explicitly to avoid this warning\n",
      "  epochs_8_data = epochs_8.get_data()\n"
     ]
    },
    {
     "name": "stdout",
     "output_type": "stream",
     "text": [
      "Not setting metadata\n",
      "126 matching events found\n",
      "No baseline correction applied\n",
      "0 projection items activated\n",
      "Using data from preloaded Raw for 126 events and 1281 original time points ...\n",
      "17 bad epochs dropped\n"
     ]
    },
    {
     "name": "stderr",
     "output_type": "stream",
     "text": [
      "/var/folders/jq/xg0f849x4mg5f7y1_tjxk66c0000gn/T/ipykernel_4946/662386645.py:3: FutureWarning: The current default of copy=False will change to copy=True in 1.7. Set the value of copy explicitly to avoid this warning\n",
      "  epochs_8_data = epochs_8.get_data()\n"
     ]
    },
    {
     "name": "stdout",
     "output_type": "stream",
     "text": [
      "Not setting metadata\n",
      "97 matching events found\n",
      "No baseline correction applied\n",
      "0 projection items activated\n",
      "Using data from preloaded Raw for 97 events and 1281 original time points ...\n",
      "0 bad epochs dropped\n"
     ]
    },
    {
     "name": "stderr",
     "output_type": "stream",
     "text": [
      "/var/folders/jq/xg0f849x4mg5f7y1_tjxk66c0000gn/T/ipykernel_4946/662386645.py:3: FutureWarning: The current default of copy=False will change to copy=True in 1.7. Set the value of copy explicitly to avoid this warning\n",
      "  epochs_8_data = epochs_8.get_data()\n"
     ]
    },
    {
     "name": "stdout",
     "output_type": "stream",
     "text": [
      "Not setting metadata\n",
      "46 matching events found\n",
      "No baseline correction applied\n",
      "0 projection items activated\n",
      "Using data from preloaded Raw for 46 events and 1281 original time points ...\n",
      "12 bad epochs dropped\n"
     ]
    },
    {
     "name": "stderr",
     "output_type": "stream",
     "text": [
      "/var/folders/jq/xg0f849x4mg5f7y1_tjxk66c0000gn/T/ipykernel_4946/662386645.py:3: FutureWarning: The current default of copy=False will change to copy=True in 1.7. Set the value of copy explicitly to avoid this warning\n",
      "  epochs_8_data = epochs_8.get_data()\n"
     ]
    },
    {
     "name": "stdout",
     "output_type": "stream",
     "text": [
      "Not setting metadata\n",
      "28 matching events found\n",
      "No baseline correction applied\n",
      "0 projection items activated\n",
      "Using data from preloaded Raw for 28 events and 1281 original time points ...\n",
      "22 bad epochs dropped\n"
     ]
    },
    {
     "name": "stderr",
     "output_type": "stream",
     "text": [
      "/var/folders/jq/xg0f849x4mg5f7y1_tjxk66c0000gn/T/ipykernel_4946/662386645.py:3: FutureWarning: The current default of copy=False will change to copy=True in 1.7. Set the value of copy explicitly to avoid this warning\n",
      "  epochs_8_data = epochs_8.get_data()\n"
     ]
    },
    {
     "name": "stdout",
     "output_type": "stream",
     "text": [
      "Not setting metadata\n",
      "38 matching events found\n",
      "No baseline correction applied\n",
      "0 projection items activated\n",
      "Using data from preloaded Raw for 38 events and 1281 original time points ...\n",
      "11 bad epochs dropped\n"
     ]
    },
    {
     "name": "stderr",
     "output_type": "stream",
     "text": [
      "/var/folders/jq/xg0f849x4mg5f7y1_tjxk66c0000gn/T/ipykernel_4946/662386645.py:3: FutureWarning: The current default of copy=False will change to copy=True in 1.7. Set the value of copy explicitly to avoid this warning\n",
      "  epochs_8_data = epochs_8.get_data()\n"
     ]
    },
    {
     "name": "stdout",
     "output_type": "stream",
     "text": [
      "Not setting metadata\n",
      "76 matching events found\n",
      "No baseline correction applied\n",
      "0 projection items activated\n",
      "Using data from preloaded Raw for 76 events and 1281 original time points ...\n",
      "12 bad epochs dropped\n"
     ]
    },
    {
     "name": "stderr",
     "output_type": "stream",
     "text": [
      "/var/folders/jq/xg0f849x4mg5f7y1_tjxk66c0000gn/T/ipykernel_4946/662386645.py:3: FutureWarning: The current default of copy=False will change to copy=True in 1.7. Set the value of copy explicitly to avoid this warning\n",
      "  epochs_8_data = epochs_8.get_data()\n"
     ]
    },
    {
     "name": "stdout",
     "output_type": "stream",
     "text": [
      "Not setting metadata\n",
      "61 matching events found\n",
      "No baseline correction applied\n",
      "0 projection items activated\n",
      "Using data from preloaded Raw for 61 events and 1281 original time points ...\n",
      "6 bad epochs dropped\n"
     ]
    },
    {
     "name": "stderr",
     "output_type": "stream",
     "text": [
      "/var/folders/jq/xg0f849x4mg5f7y1_tjxk66c0000gn/T/ipykernel_4946/662386645.py:3: FutureWarning: The current default of copy=False will change to copy=True in 1.7. Set the value of copy explicitly to avoid this warning\n",
      "  epochs_8_data = epochs_8.get_data()\n"
     ]
    },
    {
     "name": "stdout",
     "output_type": "stream",
     "text": [
      "Not setting metadata\n",
      "28 matching events found\n",
      "No baseline correction applied\n",
      "0 projection items activated\n",
      "Using data from preloaded Raw for 28 events and 1281 original time points ...\n",
      "0 bad epochs dropped\n"
     ]
    },
    {
     "name": "stderr",
     "output_type": "stream",
     "text": [
      "/var/folders/jq/xg0f849x4mg5f7y1_tjxk66c0000gn/T/ipykernel_4946/662386645.py:3: FutureWarning: The current default of copy=False will change to copy=True in 1.7. Set the value of copy explicitly to avoid this warning\n",
      "  epochs_8_data = epochs_8.get_data()\n"
     ]
    },
    {
     "name": "stdout",
     "output_type": "stream",
     "text": [
      "Not setting metadata\n",
      "39 matching events found\n",
      "No baseline correction applied\n",
      "0 projection items activated\n",
      "Using data from preloaded Raw for 39 events and 1281 original time points ...\n",
      "1 bad epochs dropped\n"
     ]
    },
    {
     "name": "stderr",
     "output_type": "stream",
     "text": [
      "/var/folders/jq/xg0f849x4mg5f7y1_tjxk66c0000gn/T/ipykernel_4946/662386645.py:3: FutureWarning: The current default of copy=False will change to copy=True in 1.7. Set the value of copy explicitly to avoid this warning\n",
      "  epochs_8_data = epochs_8.get_data()\n"
     ]
    },
    {
     "name": "stdout",
     "output_type": "stream",
     "text": [
      "Not setting metadata\n",
      "45 matching events found\n",
      "No baseline correction applied\n",
      "0 projection items activated\n",
      "Using data from preloaded Raw for 45 events and 1281 original time points ...\n",
      "1 bad epochs dropped\n"
     ]
    },
    {
     "name": "stderr",
     "output_type": "stream",
     "text": [
      "/var/folders/jq/xg0f849x4mg5f7y1_tjxk66c0000gn/T/ipykernel_4946/662386645.py:3: FutureWarning: The current default of copy=False will change to copy=True in 1.7. Set the value of copy explicitly to avoid this warning\n",
      "  epochs_8_data = epochs_8.get_data()\n"
     ]
    },
    {
     "name": "stdout",
     "output_type": "stream",
     "text": [
      "Not setting metadata\n",
      "26 matching events found\n",
      "No baseline correction applied\n",
      "0 projection items activated\n",
      "Using data from preloaded Raw for 26 events and 1281 original time points ...\n",
      "2 bad epochs dropped\n"
     ]
    },
    {
     "name": "stderr",
     "output_type": "stream",
     "text": [
      "/var/folders/jq/xg0f849x4mg5f7y1_tjxk66c0000gn/T/ipykernel_4946/662386645.py:3: FutureWarning: The current default of copy=False will change to copy=True in 1.7. Set the value of copy explicitly to avoid this warning\n",
      "  epochs_8_data = epochs_8.get_data()\n"
     ]
    },
    {
     "name": "stdout",
     "output_type": "stream",
     "text": [
      "Not setting metadata\n",
      "53 matching events found\n",
      "No baseline correction applied\n",
      "0 projection items activated\n",
      "Using data from preloaded Raw for 53 events and 1281 original time points ...\n",
      "0 bad epochs dropped\n"
     ]
    },
    {
     "name": "stderr",
     "output_type": "stream",
     "text": [
      "/var/folders/jq/xg0f849x4mg5f7y1_tjxk66c0000gn/T/ipykernel_4946/662386645.py:3: FutureWarning: The current default of copy=False will change to copy=True in 1.7. Set the value of copy explicitly to avoid this warning\n",
      "  epochs_8_data = epochs_8.get_data()\n"
     ]
    },
    {
     "name": "stdout",
     "output_type": "stream",
     "text": [
      "Not setting metadata\n",
      "53 matching events found\n",
      "No baseline correction applied\n",
      "0 projection items activated\n",
      "Using data from preloaded Raw for 53 events and 1281 original time points ...\n",
      "0 bad epochs dropped\n"
     ]
    },
    {
     "name": "stderr",
     "output_type": "stream",
     "text": [
      "/var/folders/jq/xg0f849x4mg5f7y1_tjxk66c0000gn/T/ipykernel_4946/662386645.py:3: FutureWarning: The current default of copy=False will change to copy=True in 1.7. Set the value of copy explicitly to avoid this warning\n",
      "  epochs_8_data = epochs_8.get_data()\n"
     ]
    },
    {
     "name": "stdout",
     "output_type": "stream",
     "text": [
      "Not setting metadata\n",
      "68 matching events found\n",
      "No baseline correction applied\n",
      "0 projection items activated\n",
      "Using data from preloaded Raw for 68 events and 1281 original time points ...\n",
      "7 bad epochs dropped\n"
     ]
    },
    {
     "name": "stderr",
     "output_type": "stream",
     "text": [
      "/var/folders/jq/xg0f849x4mg5f7y1_tjxk66c0000gn/T/ipykernel_4946/662386645.py:3: FutureWarning: The current default of copy=False will change to copy=True in 1.7. Set the value of copy explicitly to avoid this warning\n",
      "  epochs_8_data = epochs_8.get_data()\n"
     ]
    },
    {
     "name": "stdout",
     "output_type": "stream",
     "text": [
      "Not setting metadata\n",
      "94 matching events found\n",
      "No baseline correction applied\n",
      "0 projection items activated\n",
      "Using data from preloaded Raw for 94 events and 1281 original time points ...\n",
      "5 bad epochs dropped\n"
     ]
    },
    {
     "name": "stderr",
     "output_type": "stream",
     "text": [
      "/var/folders/jq/xg0f849x4mg5f7y1_tjxk66c0000gn/T/ipykernel_4946/662386645.py:3: FutureWarning: The current default of copy=False will change to copy=True in 1.7. Set the value of copy explicitly to avoid this warning\n",
      "  epochs_8_data = epochs_8.get_data()\n"
     ]
    },
    {
     "name": "stdout",
     "output_type": "stream",
     "text": [
      "Not setting metadata\n",
      "97 matching events found\n",
      "No baseline correction applied\n",
      "0 projection items activated\n",
      "Using data from preloaded Raw for 97 events and 1281 original time points ...\n",
      "0 bad epochs dropped\n"
     ]
    },
    {
     "name": "stderr",
     "output_type": "stream",
     "text": [
      "/var/folders/jq/xg0f849x4mg5f7y1_tjxk66c0000gn/T/ipykernel_4946/662386645.py:3: FutureWarning: The current default of copy=False will change to copy=True in 1.7. Set the value of copy explicitly to avoid this warning\n",
      "  epochs_8_data = epochs_8.get_data()\n"
     ]
    },
    {
     "name": "stdout",
     "output_type": "stream",
     "text": [
      "Not setting metadata\n",
      "57 matching events found\n",
      "No baseline correction applied\n",
      "0 projection items activated\n",
      "Using data from preloaded Raw for 57 events and 1281 original time points ...\n",
      "1 bad epochs dropped\n"
     ]
    },
    {
     "name": "stderr",
     "output_type": "stream",
     "text": [
      "/var/folders/jq/xg0f849x4mg5f7y1_tjxk66c0000gn/T/ipykernel_4946/662386645.py:3: FutureWarning: The current default of copy=False will change to copy=True in 1.7. Set the value of copy explicitly to avoid this warning\n",
      "  epochs_8_data = epochs_8.get_data()\n"
     ]
    },
    {
     "name": "stdout",
     "output_type": "stream",
     "text": [
      "Not setting metadata\n",
      "69 matching events found\n",
      "No baseline correction applied\n",
      "0 projection items activated\n",
      "Using data from preloaded Raw for 69 events and 1281 original time points ...\n",
      "0 bad epochs dropped\n"
     ]
    },
    {
     "name": "stderr",
     "output_type": "stream",
     "text": [
      "/var/folders/jq/xg0f849x4mg5f7y1_tjxk66c0000gn/T/ipykernel_4946/662386645.py:3: FutureWarning: The current default of copy=False will change to copy=True in 1.7. Set the value of copy explicitly to avoid this warning\n",
      "  epochs_8_data = epochs_8.get_data()\n"
     ]
    },
    {
     "name": "stdout",
     "output_type": "stream",
     "text": [
      "Not setting metadata\n",
      "97 matching events found\n",
      "No baseline correction applied\n",
      "0 projection items activated\n",
      "Using data from preloaded Raw for 97 events and 1281 original time points ...\n",
      "4 bad epochs dropped\n"
     ]
    },
    {
     "name": "stderr",
     "output_type": "stream",
     "text": [
      "/var/folders/jq/xg0f849x4mg5f7y1_tjxk66c0000gn/T/ipykernel_4946/662386645.py:3: FutureWarning: The current default of copy=False will change to copy=True in 1.7. Set the value of copy explicitly to avoid this warning\n",
      "  epochs_8_data = epochs_8.get_data()\n"
     ]
    },
    {
     "name": "stdout",
     "output_type": "stream",
     "text": [
      "Not setting metadata\n",
      "74 matching events found\n",
      "No baseline correction applied\n",
      "0 projection items activated\n",
      "Using data from preloaded Raw for 74 events and 1281 original time points ...\n",
      "10 bad epochs dropped\n"
     ]
    },
    {
     "name": "stderr",
     "output_type": "stream",
     "text": [
      "/var/folders/jq/xg0f849x4mg5f7y1_tjxk66c0000gn/T/ipykernel_4946/662386645.py:3: FutureWarning: The current default of copy=False will change to copy=True in 1.7. Set the value of copy explicitly to avoid this warning\n",
      "  epochs_8_data = epochs_8.get_data()\n"
     ]
    },
    {
     "name": "stdout",
     "output_type": "stream",
     "text": [
      "Not setting metadata\n",
      "32 matching events found\n",
      "No baseline correction applied\n",
      "0 projection items activated\n",
      "Using data from preloaded Raw for 32 events and 1281 original time points ...\n",
      "0 bad epochs dropped\n"
     ]
    },
    {
     "name": "stderr",
     "output_type": "stream",
     "text": [
      "/var/folders/jq/xg0f849x4mg5f7y1_tjxk66c0000gn/T/ipykernel_4946/662386645.py:3: FutureWarning: The current default of copy=False will change to copy=True in 1.7. Set the value of copy explicitly to avoid this warning\n",
      "  epochs_8_data = epochs_8.get_data()\n"
     ]
    },
    {
     "name": "stdout",
     "output_type": "stream",
     "text": [
      "Not setting metadata\n",
      "41 matching events found\n",
      "No baseline correction applied\n",
      "0 projection items activated\n",
      "Using data from preloaded Raw for 41 events and 1281 original time points ...\n",
      "0 bad epochs dropped\n"
     ]
    },
    {
     "name": "stderr",
     "output_type": "stream",
     "text": [
      "/var/folders/jq/xg0f849x4mg5f7y1_tjxk66c0000gn/T/ipykernel_4946/662386645.py:3: FutureWarning: The current default of copy=False will change to copy=True in 1.7. Set the value of copy explicitly to avoid this warning\n",
      "  epochs_8_data = epochs_8.get_data()\n"
     ]
    },
    {
     "name": "stdout",
     "output_type": "stream",
     "text": [
      "Not setting metadata\n",
      "69 matching events found\n",
      "No baseline correction applied\n",
      "0 projection items activated\n",
      "Using data from preloaded Raw for 69 events and 1281 original time points ...\n",
      "0 bad epochs dropped\n"
     ]
    },
    {
     "name": "stderr",
     "output_type": "stream",
     "text": [
      "/var/folders/jq/xg0f849x4mg5f7y1_tjxk66c0000gn/T/ipykernel_4946/662386645.py:3: FutureWarning: The current default of copy=False will change to copy=True in 1.7. Set the value of copy explicitly to avoid this warning\n",
      "  epochs_8_data = epochs_8.get_data()\n"
     ]
    }
   ],
   "source": [
    "# fif_2_participantwise_abp = []\n",
    "# fif_2_bl_participantwise_abp = []\n",
    "# fif_2_participantwise_abp_df = []\n",
    "# fif_2_bl_participantwise_abp_df = []\n",
    "\n",
    "# epoch_duration_abp = 5\n",
    "\n",
    "# #BASELINE TASK 2\n",
    "# j= 0\n",
    "# for fif in fif_2_baseline:\n",
    "#     bl_sketch_temp = fif_2_baseline[j]\n",
    "#     bl_sketch_temp_epochs = epoch_equally(bl_sketch_temp,epoch_duration_abp)\n",
    "#     bl_channelwise_data_temp = concatenate_epochs_into_channels(bl_sketch_temp_epochs)\n",
    "#     bl_abp_list_temp = channelwise_abp(bl_channelwise_data_temp)\n",
    "#     fif_2_bl_participantwise_abp.append(bl_abp_list_temp)\n",
    "\n",
    "#     channel_names = np.array([\"AF3\", \"F7\", \"F3\", \"FC5\", \"FC6\", \"F4\", \"F8\", \"AF4\"])\n",
    "#     bl_abp_df_list_temp = pd.DataFrame(bl_abp_list_temp, columns=['bl_delta_abp','bl_theta_abp','bl_alpha_abp','bl_beta_abp','bl_brain_abp','bl_full_abp'])\n",
    "#     pd.options.display.float_format ='{:.2e}'.format\n",
    "#     bl_abp_df_list_temp['Channel'] = channel_names\n",
    "#     fif_2_bl_participantwise_abp_df.append(bl_abp_df_list_temp)\n",
    "#     j=j+1\n",
    "\n",
    "# #SKETCHING TASK 2\n",
    "# i= 0\n",
    "# for fif in fif_2_sketching_signals:\n",
    "#     sketch_temp = fif_2_sketching_signals[i]\n",
    "#     sketch_temp_epochs = epoch_equally(sketch_temp,epoch_duration_abp)\n",
    "#     channelwise_data_temp = concatenate_epochs_into_channels(sketch_temp_epochs)\n",
    "#     abp_list_temp = channelwise_abp(channelwise_data_temp)\n",
    "#     fif_2_participantwise_abp.append(abp_list_temp)\n",
    "\n",
    "#     channel_names = np.array([\"AF3\", \"F7\", \"F3\", \"FC5\", \"FC6\", \"F4\", \"F8\", \"AF4\"])\n",
    "#     abp_df_list_temp = pd.DataFrame(abp_list_temp, columns=['delta_abp','theta_abp','alpha_abp','beta_abp','brain_abp','full_abp'])\n",
    "#     pd.options.display.float_format ='{:.2e}'.format\n",
    "#     abp_df_list_temp['Channel'] = channel_names\n",
    "#     fif_2_participantwise_abp_df.append(abp_df_list_temp)\n",
    "#     i=i+1"
   ]
  },
  {
   "cell_type": "code",
   "execution_count": 100,
   "id": "e319efcf-5f0b-41c0-a89c-33c9d71a6ba7",
   "metadata": {},
   "outputs": [
    {
     "name": "stdout",
     "output_type": "stream",
     "text": [
      "Not setting metadata\n",
      "6 matching events found\n",
      "No baseline correction applied\n",
      "0 projection items activated\n",
      "Using data from preloaded Raw for 6 events and 1281 original time points ...\n",
      "0 bad epochs dropped\n"
     ]
    },
    {
     "name": "stderr",
     "output_type": "stream",
     "text": [
      "/var/folders/jq/xg0f849x4mg5f7y1_tjxk66c0000gn/T/ipykernel_4946/662386645.py:3: FutureWarning: The current default of copy=False will change to copy=True in 1.7. Set the value of copy explicitly to avoid this warning\n",
      "  epochs_8_data = epochs_8.get_data()\n"
     ]
    },
    {
     "name": "stdout",
     "output_type": "stream",
     "text": [
      "Not setting metadata\n",
      "6 matching events found\n",
      "No baseline correction applied\n",
      "0 projection items activated\n",
      "Using data from preloaded Raw for 6 events and 1281 original time points ...\n",
      "0 bad epochs dropped\n"
     ]
    },
    {
     "name": "stderr",
     "output_type": "stream",
     "text": [
      "/var/folders/jq/xg0f849x4mg5f7y1_tjxk66c0000gn/T/ipykernel_4946/662386645.py:3: FutureWarning: The current default of copy=False will change to copy=True in 1.7. Set the value of copy explicitly to avoid this warning\n",
      "  epochs_8_data = epochs_8.get_data()\n"
     ]
    },
    {
     "name": "stdout",
     "output_type": "stream",
     "text": [
      "Not setting metadata\n",
      "6 matching events found\n",
      "No baseline correction applied\n",
      "0 projection items activated\n",
      "Using data from preloaded Raw for 6 events and 1281 original time points ...\n",
      "0 bad epochs dropped\n"
     ]
    },
    {
     "name": "stderr",
     "output_type": "stream",
     "text": [
      "/var/folders/jq/xg0f849x4mg5f7y1_tjxk66c0000gn/T/ipykernel_4946/662386645.py:3: FutureWarning: The current default of copy=False will change to copy=True in 1.7. Set the value of copy explicitly to avoid this warning\n",
      "  epochs_8_data = epochs_8.get_data()\n"
     ]
    },
    {
     "name": "stdout",
     "output_type": "stream",
     "text": [
      "Not setting metadata\n",
      "6 matching events found\n",
      "No baseline correction applied\n",
      "0 projection items activated\n",
      "Using data from preloaded Raw for 6 events and 1281 original time points ...\n",
      "0 bad epochs dropped\n"
     ]
    },
    {
     "name": "stderr",
     "output_type": "stream",
     "text": [
      "/var/folders/jq/xg0f849x4mg5f7y1_tjxk66c0000gn/T/ipykernel_4946/662386645.py:3: FutureWarning: The current default of copy=False will change to copy=True in 1.7. Set the value of copy explicitly to avoid this warning\n",
      "  epochs_8_data = epochs_8.get_data()\n"
     ]
    },
    {
     "name": "stdout",
     "output_type": "stream",
     "text": [
      "Not setting metadata\n",
      "6 matching events found\n",
      "No baseline correction applied\n",
      "0 projection items activated\n",
      "Using data from preloaded Raw for 6 events and 1281 original time points ...\n",
      "0 bad epochs dropped\n"
     ]
    },
    {
     "name": "stderr",
     "output_type": "stream",
     "text": [
      "/var/folders/jq/xg0f849x4mg5f7y1_tjxk66c0000gn/T/ipykernel_4946/662386645.py:3: FutureWarning: The current default of copy=False will change to copy=True in 1.7. Set the value of copy explicitly to avoid this warning\n",
      "  epochs_8_data = epochs_8.get_data()\n"
     ]
    },
    {
     "name": "stdout",
     "output_type": "stream",
     "text": [
      "Not setting metadata\n",
      "6 matching events found\n",
      "No baseline correction applied\n",
      "0 projection items activated\n",
      "Using data from preloaded Raw for 6 events and 1281 original time points ...\n",
      "1 bad epochs dropped\n"
     ]
    },
    {
     "name": "stderr",
     "output_type": "stream",
     "text": [
      "/var/folders/jq/xg0f849x4mg5f7y1_tjxk66c0000gn/T/ipykernel_4946/662386645.py:3: FutureWarning: The current default of copy=False will change to copy=True in 1.7. Set the value of copy explicitly to avoid this warning\n",
      "  epochs_8_data = epochs_8.get_data()\n"
     ]
    },
    {
     "name": "stdout",
     "output_type": "stream",
     "text": [
      "Not setting metadata\n",
      "6 matching events found\n",
      "No baseline correction applied\n",
      "0 projection items activated\n",
      "Using data from preloaded Raw for 6 events and 1281 original time points ...\n",
      "1 bad epochs dropped\n"
     ]
    },
    {
     "name": "stderr",
     "output_type": "stream",
     "text": [
      "/var/folders/jq/xg0f849x4mg5f7y1_tjxk66c0000gn/T/ipykernel_4946/662386645.py:3: FutureWarning: The current default of copy=False will change to copy=True in 1.7. Set the value of copy explicitly to avoid this warning\n",
      "  epochs_8_data = epochs_8.get_data()\n"
     ]
    },
    {
     "name": "stdout",
     "output_type": "stream",
     "text": [
      "Not setting metadata\n",
      "6 matching events found\n",
      "No baseline correction applied\n",
      "0 projection items activated\n",
      "Using data from preloaded Raw for 6 events and 1281 original time points ...\n",
      "2 bad epochs dropped\n"
     ]
    },
    {
     "name": "stderr",
     "output_type": "stream",
     "text": [
      "/var/folders/jq/xg0f849x4mg5f7y1_tjxk66c0000gn/T/ipykernel_4946/662386645.py:3: FutureWarning: The current default of copy=False will change to copy=True in 1.7. Set the value of copy explicitly to avoid this warning\n",
      "  epochs_8_data = epochs_8.get_data()\n"
     ]
    },
    {
     "name": "stdout",
     "output_type": "stream",
     "text": [
      "Not setting metadata\n",
      "6 matching events found\n",
      "No baseline correction applied\n",
      "0 projection items activated\n",
      "Using data from preloaded Raw for 6 events and 1281 original time points ...\n",
      "0 bad epochs dropped\n"
     ]
    },
    {
     "name": "stderr",
     "output_type": "stream",
     "text": [
      "/var/folders/jq/xg0f849x4mg5f7y1_tjxk66c0000gn/T/ipykernel_4946/662386645.py:3: FutureWarning: The current default of copy=False will change to copy=True in 1.7. Set the value of copy explicitly to avoid this warning\n",
      "  epochs_8_data = epochs_8.get_data()\n"
     ]
    },
    {
     "name": "stdout",
     "output_type": "stream",
     "text": [
      "Not setting metadata\n",
      "6 matching events found\n",
      "No baseline correction applied\n",
      "0 projection items activated\n",
      "Using data from preloaded Raw for 6 events and 1281 original time points ...\n",
      "0 bad epochs dropped\n"
     ]
    },
    {
     "name": "stderr",
     "output_type": "stream",
     "text": [
      "/var/folders/jq/xg0f849x4mg5f7y1_tjxk66c0000gn/T/ipykernel_4946/662386645.py:3: FutureWarning: The current default of copy=False will change to copy=True in 1.7. Set the value of copy explicitly to avoid this warning\n",
      "  epochs_8_data = epochs_8.get_data()\n"
     ]
    },
    {
     "name": "stdout",
     "output_type": "stream",
     "text": [
      "Not setting metadata\n",
      "6 matching events found\n",
      "No baseline correction applied\n",
      "0 projection items activated\n",
      "Using data from preloaded Raw for 6 events and 1281 original time points ...\n",
      "2 bad epochs dropped\n"
     ]
    },
    {
     "name": "stderr",
     "output_type": "stream",
     "text": [
      "/var/folders/jq/xg0f849x4mg5f7y1_tjxk66c0000gn/T/ipykernel_4946/662386645.py:3: FutureWarning: The current default of copy=False will change to copy=True in 1.7. Set the value of copy explicitly to avoid this warning\n",
      "  epochs_8_data = epochs_8.get_data()\n"
     ]
    },
    {
     "name": "stdout",
     "output_type": "stream",
     "text": [
      "Not setting metadata\n",
      "6 matching events found\n",
      "No baseline correction applied\n",
      "0 projection items activated\n",
      "Using data from preloaded Raw for 6 events and 1281 original time points ...\n",
      "3 bad epochs dropped\n"
     ]
    },
    {
     "name": "stderr",
     "output_type": "stream",
     "text": [
      "/var/folders/jq/xg0f849x4mg5f7y1_tjxk66c0000gn/T/ipykernel_4946/662386645.py:3: FutureWarning: The current default of copy=False will change to copy=True in 1.7. Set the value of copy explicitly to avoid this warning\n",
      "  epochs_8_data = epochs_8.get_data()\n"
     ]
    },
    {
     "name": "stdout",
     "output_type": "stream",
     "text": [
      "Not setting metadata\n",
      "6 matching events found\n",
      "No baseline correction applied\n",
      "0 projection items activated\n",
      "Using data from preloaded Raw for 6 events and 1281 original time points ...\n",
      "1 bad epochs dropped\n"
     ]
    },
    {
     "name": "stderr",
     "output_type": "stream",
     "text": [
      "/var/folders/jq/xg0f849x4mg5f7y1_tjxk66c0000gn/T/ipykernel_4946/662386645.py:3: FutureWarning: The current default of copy=False will change to copy=True in 1.7. Set the value of copy explicitly to avoid this warning\n",
      "  epochs_8_data = epochs_8.get_data()\n"
     ]
    },
    {
     "name": "stdout",
     "output_type": "stream",
     "text": [
      "Not setting metadata\n",
      "6 matching events found\n",
      "No baseline correction applied\n",
      "0 projection items activated\n",
      "Using data from preloaded Raw for 6 events and 1281 original time points ...\n",
      "0 bad epochs dropped\n"
     ]
    },
    {
     "name": "stderr",
     "output_type": "stream",
     "text": [
      "/var/folders/jq/xg0f849x4mg5f7y1_tjxk66c0000gn/T/ipykernel_4946/662386645.py:3: FutureWarning: The current default of copy=False will change to copy=True in 1.7. Set the value of copy explicitly to avoid this warning\n",
      "  epochs_8_data = epochs_8.get_data()\n"
     ]
    },
    {
     "name": "stdout",
     "output_type": "stream",
     "text": [
      "Not setting metadata\n",
      "6 matching events found\n",
      "No baseline correction applied\n",
      "0 projection items activated\n",
      "Using data from preloaded Raw for 6 events and 1281 original time points ...\n",
      "2 bad epochs dropped\n"
     ]
    },
    {
     "name": "stderr",
     "output_type": "stream",
     "text": [
      "/var/folders/jq/xg0f849x4mg5f7y1_tjxk66c0000gn/T/ipykernel_4946/662386645.py:3: FutureWarning: The current default of copy=False will change to copy=True in 1.7. Set the value of copy explicitly to avoid this warning\n",
      "  epochs_8_data = epochs_8.get_data()\n"
     ]
    },
    {
     "name": "stdout",
     "output_type": "stream",
     "text": [
      "Not setting metadata\n",
      "6 matching events found\n",
      "No baseline correction applied\n",
      "0 projection items activated\n",
      "Using data from preloaded Raw for 6 events and 1281 original time points ...\n",
      "0 bad epochs dropped\n"
     ]
    },
    {
     "name": "stderr",
     "output_type": "stream",
     "text": [
      "/var/folders/jq/xg0f849x4mg5f7y1_tjxk66c0000gn/T/ipykernel_4946/662386645.py:3: FutureWarning: The current default of copy=False will change to copy=True in 1.7. Set the value of copy explicitly to avoid this warning\n",
      "  epochs_8_data = epochs_8.get_data()\n"
     ]
    },
    {
     "name": "stdout",
     "output_type": "stream",
     "text": [
      "Not setting metadata\n",
      "6 matching events found\n",
      "No baseline correction applied\n",
      "0 projection items activated\n",
      "Using data from preloaded Raw for 6 events and 1281 original time points ...\n",
      "0 bad epochs dropped\n"
     ]
    },
    {
     "name": "stderr",
     "output_type": "stream",
     "text": [
      "/var/folders/jq/xg0f849x4mg5f7y1_tjxk66c0000gn/T/ipykernel_4946/662386645.py:3: FutureWarning: The current default of copy=False will change to copy=True in 1.7. Set the value of copy explicitly to avoid this warning\n",
      "  epochs_8_data = epochs_8.get_data()\n"
     ]
    },
    {
     "name": "stdout",
     "output_type": "stream",
     "text": [
      "Not setting metadata\n",
      "6 matching events found\n",
      "No baseline correction applied\n",
      "0 projection items activated\n",
      "Using data from preloaded Raw for 6 events and 1281 original time points ...\n",
      "0 bad epochs dropped\n"
     ]
    },
    {
     "name": "stderr",
     "output_type": "stream",
     "text": [
      "/var/folders/jq/xg0f849x4mg5f7y1_tjxk66c0000gn/T/ipykernel_4946/662386645.py:3: FutureWarning: The current default of copy=False will change to copy=True in 1.7. Set the value of copy explicitly to avoid this warning\n",
      "  epochs_8_data = epochs_8.get_data()\n"
     ]
    },
    {
     "name": "stdout",
     "output_type": "stream",
     "text": [
      "Not setting metadata\n",
      "6 matching events found\n",
      "No baseline correction applied\n",
      "0 projection items activated\n",
      "Using data from preloaded Raw for 6 events and 1281 original time points ...\n",
      "3 bad epochs dropped\n"
     ]
    },
    {
     "name": "stderr",
     "output_type": "stream",
     "text": [
      "/var/folders/jq/xg0f849x4mg5f7y1_tjxk66c0000gn/T/ipykernel_4946/662386645.py:3: FutureWarning: The current default of copy=False will change to copy=True in 1.7. Set the value of copy explicitly to avoid this warning\n",
      "  epochs_8_data = epochs_8.get_data()\n"
     ]
    },
    {
     "name": "stdout",
     "output_type": "stream",
     "text": [
      "Not setting metadata\n",
      "6 matching events found\n",
      "No baseline correction applied\n",
      "0 projection items activated\n",
      "Using data from preloaded Raw for 6 events and 1281 original time points ...\n",
      "0 bad epochs dropped\n"
     ]
    },
    {
     "name": "stderr",
     "output_type": "stream",
     "text": [
      "/var/folders/jq/xg0f849x4mg5f7y1_tjxk66c0000gn/T/ipykernel_4946/662386645.py:3: FutureWarning: The current default of copy=False will change to copy=True in 1.7. Set the value of copy explicitly to avoid this warning\n",
      "  epochs_8_data = epochs_8.get_data()\n"
     ]
    },
    {
     "name": "stdout",
     "output_type": "stream",
     "text": [
      "Not setting metadata\n",
      "6 matching events found\n",
      "No baseline correction applied\n",
      "0 projection items activated\n",
      "Using data from preloaded Raw for 6 events and 1281 original time points ...\n",
      "0 bad epochs dropped\n"
     ]
    },
    {
     "name": "stderr",
     "output_type": "stream",
     "text": [
      "/var/folders/jq/xg0f849x4mg5f7y1_tjxk66c0000gn/T/ipykernel_4946/662386645.py:3: FutureWarning: The current default of copy=False will change to copy=True in 1.7. Set the value of copy explicitly to avoid this warning\n",
      "  epochs_8_data = epochs_8.get_data()\n"
     ]
    },
    {
     "name": "stdout",
     "output_type": "stream",
     "text": [
      "Not setting metadata\n",
      "6 matching events found\n",
      "No baseline correction applied\n",
      "0 projection items activated\n",
      "Using data from preloaded Raw for 6 events and 1281 original time points ...\n",
      "0 bad epochs dropped\n"
     ]
    },
    {
     "name": "stderr",
     "output_type": "stream",
     "text": [
      "/var/folders/jq/xg0f849x4mg5f7y1_tjxk66c0000gn/T/ipykernel_4946/662386645.py:3: FutureWarning: The current default of copy=False will change to copy=True in 1.7. Set the value of copy explicitly to avoid this warning\n",
      "  epochs_8_data = epochs_8.get_data()\n"
     ]
    },
    {
     "name": "stdout",
     "output_type": "stream",
     "text": [
      "Not setting metadata\n",
      "6 matching events found\n",
      "No baseline correction applied\n",
      "0 projection items activated\n",
      "Using data from preloaded Raw for 6 events and 1281 original time points ...\n",
      "0 bad epochs dropped\n"
     ]
    },
    {
     "name": "stderr",
     "output_type": "stream",
     "text": [
      "/var/folders/jq/xg0f849x4mg5f7y1_tjxk66c0000gn/T/ipykernel_4946/662386645.py:3: FutureWarning: The current default of copy=False will change to copy=True in 1.7. Set the value of copy explicitly to avoid this warning\n",
      "  epochs_8_data = epochs_8.get_data()\n"
     ]
    },
    {
     "name": "stdout",
     "output_type": "stream",
     "text": [
      "Not setting metadata\n",
      "6 matching events found\n",
      "No baseline correction applied\n",
      "0 projection items activated\n",
      "Using data from preloaded Raw for 6 events and 1281 original time points ...\n",
      "0 bad epochs dropped\n"
     ]
    },
    {
     "name": "stderr",
     "output_type": "stream",
     "text": [
      "/var/folders/jq/xg0f849x4mg5f7y1_tjxk66c0000gn/T/ipykernel_4946/662386645.py:3: FutureWarning: The current default of copy=False will change to copy=True in 1.7. Set the value of copy explicitly to avoid this warning\n",
      "  epochs_8_data = epochs_8.get_data()\n"
     ]
    },
    {
     "name": "stdout",
     "output_type": "stream",
     "text": [
      "Not setting metadata\n",
      "6 matching events found\n",
      "No baseline correction applied\n",
      "0 projection items activated\n",
      "Using data from preloaded Raw for 6 events and 1281 original time points ...\n",
      "1 bad epochs dropped\n"
     ]
    },
    {
     "name": "stderr",
     "output_type": "stream",
     "text": [
      "/var/folders/jq/xg0f849x4mg5f7y1_tjxk66c0000gn/T/ipykernel_4946/662386645.py:3: FutureWarning: The current default of copy=False will change to copy=True in 1.7. Set the value of copy explicitly to avoid this warning\n",
      "  epochs_8_data = epochs_8.get_data()\n"
     ]
    },
    {
     "name": "stdout",
     "output_type": "stream",
     "text": [
      "Not setting metadata\n",
      "6 matching events found\n",
      "No baseline correction applied\n",
      "0 projection items activated\n",
      "Using data from preloaded Raw for 6 events and 1281 original time points ...\n",
      "0 bad epochs dropped\n"
     ]
    },
    {
     "name": "stderr",
     "output_type": "stream",
     "text": [
      "/var/folders/jq/xg0f849x4mg5f7y1_tjxk66c0000gn/T/ipykernel_4946/662386645.py:3: FutureWarning: The current default of copy=False will change to copy=True in 1.7. Set the value of copy explicitly to avoid this warning\n",
      "  epochs_8_data = epochs_8.get_data()\n"
     ]
    },
    {
     "name": "stdout",
     "output_type": "stream",
     "text": [
      "Not setting metadata\n",
      "6 matching events found\n",
      "No baseline correction applied\n",
      "0 projection items activated\n",
      "Using data from preloaded Raw for 6 events and 1281 original time points ...\n",
      "0 bad epochs dropped\n"
     ]
    },
    {
     "name": "stderr",
     "output_type": "stream",
     "text": [
      "/var/folders/jq/xg0f849x4mg5f7y1_tjxk66c0000gn/T/ipykernel_4946/662386645.py:3: FutureWarning: The current default of copy=False will change to copy=True in 1.7. Set the value of copy explicitly to avoid this warning\n",
      "  epochs_8_data = epochs_8.get_data()\n"
     ]
    },
    {
     "name": "stdout",
     "output_type": "stream",
     "text": [
      "Not setting metadata\n",
      "6 matching events found\n",
      "No baseline correction applied\n",
      "0 projection items activated\n",
      "Using data from preloaded Raw for 6 events and 1281 original time points ...\n",
      "1 bad epochs dropped\n"
     ]
    },
    {
     "name": "stderr",
     "output_type": "stream",
     "text": [
      "/var/folders/jq/xg0f849x4mg5f7y1_tjxk66c0000gn/T/ipykernel_4946/662386645.py:3: FutureWarning: The current default of copy=False will change to copy=True in 1.7. Set the value of copy explicitly to avoid this warning\n",
      "  epochs_8_data = epochs_8.get_data()\n"
     ]
    },
    {
     "name": "stdout",
     "output_type": "stream",
     "text": [
      "Not setting metadata\n",
      "6 matching events found\n",
      "No baseline correction applied\n",
      "0 projection items activated\n",
      "Using data from preloaded Raw for 6 events and 1281 original time points ...\n",
      "0 bad epochs dropped\n"
     ]
    },
    {
     "name": "stderr",
     "output_type": "stream",
     "text": [
      "/var/folders/jq/xg0f849x4mg5f7y1_tjxk66c0000gn/T/ipykernel_4946/662386645.py:3: FutureWarning: The current default of copy=False will change to copy=True in 1.7. Set the value of copy explicitly to avoid this warning\n",
      "  epochs_8_data = epochs_8.get_data()\n"
     ]
    },
    {
     "name": "stdout",
     "output_type": "stream",
     "text": [
      "Not setting metadata\n",
      "6 matching events found\n",
      "No baseline correction applied\n",
      "0 projection items activated\n",
      "Using data from preloaded Raw for 6 events and 1281 original time points ...\n",
      "0 bad epochs dropped\n"
     ]
    },
    {
     "name": "stderr",
     "output_type": "stream",
     "text": [
      "/var/folders/jq/xg0f849x4mg5f7y1_tjxk66c0000gn/T/ipykernel_4946/662386645.py:3: FutureWarning: The current default of copy=False will change to copy=True in 1.7. Set the value of copy explicitly to avoid this warning\n",
      "  epochs_8_data = epochs_8.get_data()\n"
     ]
    },
    {
     "name": "stdout",
     "output_type": "stream",
     "text": [
      "Not setting metadata\n",
      "6 matching events found\n",
      "No baseline correction applied\n",
      "0 projection items activated\n",
      "Using data from preloaded Raw for 6 events and 1281 original time points ...\n",
      "0 bad epochs dropped\n"
     ]
    },
    {
     "name": "stderr",
     "output_type": "stream",
     "text": [
      "/var/folders/jq/xg0f849x4mg5f7y1_tjxk66c0000gn/T/ipykernel_4946/662386645.py:3: FutureWarning: The current default of copy=False will change to copy=True in 1.7. Set the value of copy explicitly to avoid this warning\n",
      "  epochs_8_data = epochs_8.get_data()\n"
     ]
    },
    {
     "name": "stdout",
     "output_type": "stream",
     "text": [
      "Not setting metadata\n",
      "13 matching events found\n",
      "No baseline correction applied\n",
      "0 projection items activated\n",
      "Using data from preloaded Raw for 13 events and 1281 original time points ...\n",
      "0 bad epochs dropped\n"
     ]
    },
    {
     "name": "stderr",
     "output_type": "stream",
     "text": [
      "/var/folders/jq/xg0f849x4mg5f7y1_tjxk66c0000gn/T/ipykernel_4946/662386645.py:3: FutureWarning: The current default of copy=False will change to copy=True in 1.7. Set the value of copy explicitly to avoid this warning\n",
      "  epochs_8_data = epochs_8.get_data()\n"
     ]
    },
    {
     "name": "stdout",
     "output_type": "stream",
     "text": [
      "Not setting metadata\n",
      "11 matching events found\n",
      "No baseline correction applied\n",
      "0 projection items activated\n",
      "Using data from preloaded Raw for 11 events and 1281 original time points ...\n",
      "2 bad epochs dropped\n"
     ]
    },
    {
     "name": "stderr",
     "output_type": "stream",
     "text": [
      "/var/folders/jq/xg0f849x4mg5f7y1_tjxk66c0000gn/T/ipykernel_4946/662386645.py:3: FutureWarning: The current default of copy=False will change to copy=True in 1.7. Set the value of copy explicitly to avoid this warning\n",
      "  epochs_8_data = epochs_8.get_data()\n"
     ]
    },
    {
     "name": "stdout",
     "output_type": "stream",
     "text": [
      "Not setting metadata\n",
      "10 matching events found\n",
      "No baseline correction applied\n",
      "0 projection items activated\n",
      "Using data from preloaded Raw for 10 events and 1281 original time points ...\n",
      "0 bad epochs dropped\n"
     ]
    },
    {
     "name": "stderr",
     "output_type": "stream",
     "text": [
      "/var/folders/jq/xg0f849x4mg5f7y1_tjxk66c0000gn/T/ipykernel_4946/662386645.py:3: FutureWarning: The current default of copy=False will change to copy=True in 1.7. Set the value of copy explicitly to avoid this warning\n",
      "  epochs_8_data = epochs_8.get_data()\n"
     ]
    },
    {
     "name": "stdout",
     "output_type": "stream",
     "text": [
      "Not setting metadata\n",
      "15 matching events found\n",
      "No baseline correction applied\n",
      "0 projection items activated\n",
      "Using data from preloaded Raw for 15 events and 1281 original time points ...\n",
      "0 bad epochs dropped\n"
     ]
    },
    {
     "name": "stderr",
     "output_type": "stream",
     "text": [
      "/var/folders/jq/xg0f849x4mg5f7y1_tjxk66c0000gn/T/ipykernel_4946/662386645.py:3: FutureWarning: The current default of copy=False will change to copy=True in 1.7. Set the value of copy explicitly to avoid this warning\n",
      "  epochs_8_data = epochs_8.get_data()\n"
     ]
    },
    {
     "name": "stdout",
     "output_type": "stream",
     "text": [
      "Not setting metadata\n",
      "15 matching events found\n",
      "No baseline correction applied\n",
      "0 projection items activated\n",
      "Using data from preloaded Raw for 15 events and 1281 original time points ...\n",
      "0 bad epochs dropped\n"
     ]
    },
    {
     "name": "stderr",
     "output_type": "stream",
     "text": [
      "/var/folders/jq/xg0f849x4mg5f7y1_tjxk66c0000gn/T/ipykernel_4946/662386645.py:3: FutureWarning: The current default of copy=False will change to copy=True in 1.7. Set the value of copy explicitly to avoid this warning\n",
      "  epochs_8_data = epochs_8.get_data()\n"
     ]
    },
    {
     "name": "stdout",
     "output_type": "stream",
     "text": [
      "Not setting metadata\n",
      "16 matching events found\n",
      "No baseline correction applied\n",
      "0 projection items activated\n",
      "Using data from preloaded Raw for 16 events and 1281 original time points ...\n",
      "2 bad epochs dropped\n"
     ]
    },
    {
     "name": "stderr",
     "output_type": "stream",
     "text": [
      "/var/folders/jq/xg0f849x4mg5f7y1_tjxk66c0000gn/T/ipykernel_4946/662386645.py:3: FutureWarning: The current default of copy=False will change to copy=True in 1.7. Set the value of copy explicitly to avoid this warning\n",
      "  epochs_8_data = epochs_8.get_data()\n"
     ]
    },
    {
     "name": "stdout",
     "output_type": "stream",
     "text": [
      "Not setting metadata\n",
      "8 matching events found\n",
      "No baseline correction applied\n",
      "0 projection items activated\n",
      "Using data from preloaded Raw for 8 events and 1281 original time points ...\n",
      "3 bad epochs dropped\n"
     ]
    },
    {
     "name": "stderr",
     "output_type": "stream",
     "text": [
      "/var/folders/jq/xg0f849x4mg5f7y1_tjxk66c0000gn/T/ipykernel_4946/662386645.py:3: FutureWarning: The current default of copy=False will change to copy=True in 1.7. Set the value of copy explicitly to avoid this warning\n",
      "  epochs_8_data = epochs_8.get_data()\n"
     ]
    },
    {
     "name": "stdout",
     "output_type": "stream",
     "text": [
      "Not setting metadata\n",
      "6 matching events found\n",
      "No baseline correction applied\n",
      "0 projection items activated\n",
      "Using data from preloaded Raw for 6 events and 1281 original time points ...\n",
      "1 bad epochs dropped\n"
     ]
    },
    {
     "name": "stderr",
     "output_type": "stream",
     "text": [
      "/var/folders/jq/xg0f849x4mg5f7y1_tjxk66c0000gn/T/ipykernel_4946/662386645.py:3: FutureWarning: The current default of copy=False will change to copy=True in 1.7. Set the value of copy explicitly to avoid this warning\n",
      "  epochs_8_data = epochs_8.get_data()\n"
     ]
    },
    {
     "name": "stdout",
     "output_type": "stream",
     "text": [
      "Not setting metadata\n",
      "11 matching events found\n",
      "No baseline correction applied\n",
      "0 projection items activated\n",
      "Using data from preloaded Raw for 11 events and 1281 original time points ...\n",
      "0 bad epochs dropped\n"
     ]
    },
    {
     "name": "stderr",
     "output_type": "stream",
     "text": [
      "/var/folders/jq/xg0f849x4mg5f7y1_tjxk66c0000gn/T/ipykernel_4946/662386645.py:3: FutureWarning: The current default of copy=False will change to copy=True in 1.7. Set the value of copy explicitly to avoid this warning\n",
      "  epochs_8_data = epochs_8.get_data()\n"
     ]
    },
    {
     "name": "stdout",
     "output_type": "stream",
     "text": [
      "Not setting metadata\n",
      "8 matching events found\n",
      "No baseline correction applied\n",
      "0 projection items activated\n",
      "Using data from preloaded Raw for 8 events and 1281 original time points ...\n",
      "1 bad epochs dropped\n"
     ]
    },
    {
     "name": "stderr",
     "output_type": "stream",
     "text": [
      "/var/folders/jq/xg0f849x4mg5f7y1_tjxk66c0000gn/T/ipykernel_4946/662386645.py:3: FutureWarning: The current default of copy=False will change to copy=True in 1.7. Set the value of copy explicitly to avoid this warning\n",
      "  epochs_8_data = epochs_8.get_data()\n"
     ]
    },
    {
     "name": "stdout",
     "output_type": "stream",
     "text": [
      "Not setting metadata\n",
      "12 matching events found\n",
      "No baseline correction applied\n",
      "0 projection items activated\n",
      "Using data from preloaded Raw for 12 events and 1281 original time points ...\n",
      "2 bad epochs dropped\n"
     ]
    },
    {
     "name": "stderr",
     "output_type": "stream",
     "text": [
      "/var/folders/jq/xg0f849x4mg5f7y1_tjxk66c0000gn/T/ipykernel_4946/662386645.py:3: FutureWarning: The current default of copy=False will change to copy=True in 1.7. Set the value of copy explicitly to avoid this warning\n",
      "  epochs_8_data = epochs_8.get_data()\n"
     ]
    },
    {
     "name": "stdout",
     "output_type": "stream",
     "text": [
      "Not setting metadata\n",
      "10 matching events found\n",
      "No baseline correction applied\n",
      "0 projection items activated\n",
      "Using data from preloaded Raw for 10 events and 1281 original time points ...\n",
      "4 bad epochs dropped\n"
     ]
    },
    {
     "name": "stderr",
     "output_type": "stream",
     "text": [
      "/var/folders/jq/xg0f849x4mg5f7y1_tjxk66c0000gn/T/ipykernel_4946/662386645.py:3: FutureWarning: The current default of copy=False will change to copy=True in 1.7. Set the value of copy explicitly to avoid this warning\n",
      "  epochs_8_data = epochs_8.get_data()\n"
     ]
    },
    {
     "name": "stdout",
     "output_type": "stream",
     "text": [
      "Not setting metadata\n",
      "10 matching events found\n",
      "No baseline correction applied\n",
      "0 projection items activated\n",
      "Using data from preloaded Raw for 10 events and 1281 original time points ...\n",
      "2 bad epochs dropped\n"
     ]
    },
    {
     "name": "stderr",
     "output_type": "stream",
     "text": [
      "/var/folders/jq/xg0f849x4mg5f7y1_tjxk66c0000gn/T/ipykernel_4946/662386645.py:3: FutureWarning: The current default of copy=False will change to copy=True in 1.7. Set the value of copy explicitly to avoid this warning\n",
      "  epochs_8_data = epochs_8.get_data()\n"
     ]
    },
    {
     "name": "stdout",
     "output_type": "stream",
     "text": [
      "Not setting metadata\n",
      "12 matching events found\n",
      "No baseline correction applied\n",
      "0 projection items activated\n",
      "Using data from preloaded Raw for 12 events and 1281 original time points ...\n",
      "3 bad epochs dropped\n"
     ]
    },
    {
     "name": "stderr",
     "output_type": "stream",
     "text": [
      "/var/folders/jq/xg0f849x4mg5f7y1_tjxk66c0000gn/T/ipykernel_4946/662386645.py:3: FutureWarning: The current default of copy=False will change to copy=True in 1.7. Set the value of copy explicitly to avoid this warning\n",
      "  epochs_8_data = epochs_8.get_data()\n"
     ]
    },
    {
     "name": "stdout",
     "output_type": "stream",
     "text": [
      "Not setting metadata\n",
      "11 matching events found\n",
      "No baseline correction applied\n",
      "0 projection items activated\n",
      "Using data from preloaded Raw for 11 events and 1281 original time points ...\n",
      "0 bad epochs dropped\n"
     ]
    },
    {
     "name": "stderr",
     "output_type": "stream",
     "text": [
      "/var/folders/jq/xg0f849x4mg5f7y1_tjxk66c0000gn/T/ipykernel_4946/662386645.py:3: FutureWarning: The current default of copy=False will change to copy=True in 1.7. Set the value of copy explicitly to avoid this warning\n",
      "  epochs_8_data = epochs_8.get_data()\n"
     ]
    },
    {
     "name": "stdout",
     "output_type": "stream",
     "text": [
      "Not setting metadata\n",
      "8 matching events found\n",
      "No baseline correction applied\n",
      "0 projection items activated\n",
      "Using data from preloaded Raw for 8 events and 1281 original time points ...\n",
      "0 bad epochs dropped\n"
     ]
    },
    {
     "name": "stderr",
     "output_type": "stream",
     "text": [
      "/var/folders/jq/xg0f849x4mg5f7y1_tjxk66c0000gn/T/ipykernel_4946/662386645.py:3: FutureWarning: The current default of copy=False will change to copy=True in 1.7. Set the value of copy explicitly to avoid this warning\n",
      "  epochs_8_data = epochs_8.get_data()\n"
     ]
    },
    {
     "name": "stdout",
     "output_type": "stream",
     "text": [
      "Not setting metadata\n",
      "13 matching events found\n",
      "No baseline correction applied\n",
      "0 projection items activated\n",
      "Using data from preloaded Raw for 13 events and 1281 original time points ...\n",
      "2 bad epochs dropped\n"
     ]
    },
    {
     "name": "stderr",
     "output_type": "stream",
     "text": [
      "/var/folders/jq/xg0f849x4mg5f7y1_tjxk66c0000gn/T/ipykernel_4946/662386645.py:3: FutureWarning: The current default of copy=False will change to copy=True in 1.7. Set the value of copy explicitly to avoid this warning\n",
      "  epochs_8_data = epochs_8.get_data()\n"
     ]
    },
    {
     "name": "stdout",
     "output_type": "stream",
     "text": [
      "Not setting metadata\n",
      "10 matching events found\n",
      "No baseline correction applied\n",
      "0 projection items activated\n",
      "Using data from preloaded Raw for 10 events and 1281 original time points ...\n",
      "0 bad epochs dropped\n"
     ]
    },
    {
     "name": "stderr",
     "output_type": "stream",
     "text": [
      "/var/folders/jq/xg0f849x4mg5f7y1_tjxk66c0000gn/T/ipykernel_4946/662386645.py:3: FutureWarning: The current default of copy=False will change to copy=True in 1.7. Set the value of copy explicitly to avoid this warning\n",
      "  epochs_8_data = epochs_8.get_data()\n"
     ]
    },
    {
     "name": "stdout",
     "output_type": "stream",
     "text": [
      "Not setting metadata\n",
      "8 matching events found\n",
      "No baseline correction applied\n",
      "0 projection items activated\n",
      "Using data from preloaded Raw for 8 events and 1281 original time points ...\n",
      "2 bad epochs dropped\n"
     ]
    },
    {
     "name": "stderr",
     "output_type": "stream",
     "text": [
      "/var/folders/jq/xg0f849x4mg5f7y1_tjxk66c0000gn/T/ipykernel_4946/662386645.py:3: FutureWarning: The current default of copy=False will change to copy=True in 1.7. Set the value of copy explicitly to avoid this warning\n",
      "  epochs_8_data = epochs_8.get_data()\n"
     ]
    },
    {
     "name": "stdout",
     "output_type": "stream",
     "text": [
      "Not setting metadata\n",
      "8 matching events found\n",
      "No baseline correction applied\n",
      "0 projection items activated\n",
      "Using data from preloaded Raw for 8 events and 1281 original time points ...\n",
      "0 bad epochs dropped\n"
     ]
    },
    {
     "name": "stderr",
     "output_type": "stream",
     "text": [
      "/var/folders/jq/xg0f849x4mg5f7y1_tjxk66c0000gn/T/ipykernel_4946/662386645.py:3: FutureWarning: The current default of copy=False will change to copy=True in 1.7. Set the value of copy explicitly to avoid this warning\n",
      "  epochs_8_data = epochs_8.get_data()\n"
     ]
    },
    {
     "name": "stdout",
     "output_type": "stream",
     "text": [
      "Not setting metadata\n",
      "7 matching events found\n",
      "No baseline correction applied\n",
      "0 projection items activated\n",
      "Using data from preloaded Raw for 7 events and 1281 original time points ...\n",
      "2 bad epochs dropped\n"
     ]
    },
    {
     "name": "stderr",
     "output_type": "stream",
     "text": [
      "/var/folders/jq/xg0f849x4mg5f7y1_tjxk66c0000gn/T/ipykernel_4946/662386645.py:3: FutureWarning: The current default of copy=False will change to copy=True in 1.7. Set the value of copy explicitly to avoid this warning\n",
      "  epochs_8_data = epochs_8.get_data()\n"
     ]
    },
    {
     "name": "stdout",
     "output_type": "stream",
     "text": [
      "Not setting metadata\n",
      "6 matching events found\n",
      "No baseline correction applied\n",
      "0 projection items activated\n",
      "Using data from preloaded Raw for 6 events and 1281 original time points ...\n",
      "0 bad epochs dropped\n"
     ]
    },
    {
     "name": "stderr",
     "output_type": "stream",
     "text": [
      "/var/folders/jq/xg0f849x4mg5f7y1_tjxk66c0000gn/T/ipykernel_4946/662386645.py:3: FutureWarning: The current default of copy=False will change to copy=True in 1.7. Set the value of copy explicitly to avoid this warning\n",
      "  epochs_8_data = epochs_8.get_data()\n"
     ]
    },
    {
     "name": "stdout",
     "output_type": "stream",
     "text": [
      "Not setting metadata\n",
      "7 matching events found\n",
      "No baseline correction applied\n",
      "0 projection items activated\n",
      "Using data from preloaded Raw for 7 events and 1281 original time points ...\n",
      "1 bad epochs dropped\n"
     ]
    },
    {
     "name": "stderr",
     "output_type": "stream",
     "text": [
      "/var/folders/jq/xg0f849x4mg5f7y1_tjxk66c0000gn/T/ipykernel_4946/662386645.py:3: FutureWarning: The current default of copy=False will change to copy=True in 1.7. Set the value of copy explicitly to avoid this warning\n",
      "  epochs_8_data = epochs_8.get_data()\n"
     ]
    },
    {
     "name": "stdout",
     "output_type": "stream",
     "text": [
      "Not setting metadata\n",
      "9 matching events found\n",
      "No baseline correction applied\n",
      "0 projection items activated\n",
      "Using data from preloaded Raw for 9 events and 1281 original time points ...\n",
      "1 bad epochs dropped\n"
     ]
    },
    {
     "name": "stderr",
     "output_type": "stream",
     "text": [
      "/var/folders/jq/xg0f849x4mg5f7y1_tjxk66c0000gn/T/ipykernel_4946/662386645.py:3: FutureWarning: The current default of copy=False will change to copy=True in 1.7. Set the value of copy explicitly to avoid this warning\n",
      "  epochs_8_data = epochs_8.get_data()\n"
     ]
    },
    {
     "name": "stdout",
     "output_type": "stream",
     "text": [
      "Not setting metadata\n",
      "9 matching events found\n",
      "No baseline correction applied\n",
      "0 projection items activated\n",
      "Using data from preloaded Raw for 9 events and 1281 original time points ...\n",
      "4 bad epochs dropped\n"
     ]
    },
    {
     "name": "stderr",
     "output_type": "stream",
     "text": [
      "/var/folders/jq/xg0f849x4mg5f7y1_tjxk66c0000gn/T/ipykernel_4946/662386645.py:3: FutureWarning: The current default of copy=False will change to copy=True in 1.7. Set the value of copy explicitly to avoid this warning\n",
      "  epochs_8_data = epochs_8.get_data()\n"
     ]
    },
    {
     "name": "stdout",
     "output_type": "stream",
     "text": [
      "Not setting metadata\n",
      "7 matching events found\n",
      "No baseline correction applied\n",
      "0 projection items activated\n",
      "Using data from preloaded Raw for 7 events and 1281 original time points ...\n",
      "0 bad epochs dropped\n"
     ]
    },
    {
     "name": "stderr",
     "output_type": "stream",
     "text": [
      "/var/folders/jq/xg0f849x4mg5f7y1_tjxk66c0000gn/T/ipykernel_4946/662386645.py:3: FutureWarning: The current default of copy=False will change to copy=True in 1.7. Set the value of copy explicitly to avoid this warning\n",
      "  epochs_8_data = epochs_8.get_data()\n"
     ]
    },
    {
     "name": "stdout",
     "output_type": "stream",
     "text": [
      "Not setting metadata\n",
      "10 matching events found\n",
      "No baseline correction applied\n",
      "0 projection items activated\n",
      "Using data from preloaded Raw for 10 events and 1281 original time points ...\n",
      "0 bad epochs dropped\n"
     ]
    },
    {
     "name": "stderr",
     "output_type": "stream",
     "text": [
      "/var/folders/jq/xg0f849x4mg5f7y1_tjxk66c0000gn/T/ipykernel_4946/662386645.py:3: FutureWarning: The current default of copy=False will change to copy=True in 1.7. Set the value of copy explicitly to avoid this warning\n",
      "  epochs_8_data = epochs_8.get_data()\n"
     ]
    },
    {
     "name": "stdout",
     "output_type": "stream",
     "text": [
      "Not setting metadata\n",
      "10 matching events found\n",
      "No baseline correction applied\n",
      "0 projection items activated\n",
      "Using data from preloaded Raw for 10 events and 1281 original time points ...\n",
      "1 bad epochs dropped\n"
     ]
    },
    {
     "name": "stderr",
     "output_type": "stream",
     "text": [
      "/var/folders/jq/xg0f849x4mg5f7y1_tjxk66c0000gn/T/ipykernel_4946/662386645.py:3: FutureWarning: The current default of copy=False will change to copy=True in 1.7. Set the value of copy explicitly to avoid this warning\n",
      "  epochs_8_data = epochs_8.get_data()\n"
     ]
    },
    {
     "name": "stdout",
     "output_type": "stream",
     "text": [
      "Not setting metadata\n",
      "6 matching events found\n",
      "No baseline correction applied\n",
      "0 projection items activated\n",
      "Using data from preloaded Raw for 6 events and 1281 original time points ...\n",
      "0 bad epochs dropped\n"
     ]
    },
    {
     "name": "stderr",
     "output_type": "stream",
     "text": [
      "/var/folders/jq/xg0f849x4mg5f7y1_tjxk66c0000gn/T/ipykernel_4946/662386645.py:3: FutureWarning: The current default of copy=False will change to copy=True in 1.7. Set the value of copy explicitly to avoid this warning\n",
      "  epochs_8_data = epochs_8.get_data()\n"
     ]
    },
    {
     "name": "stdout",
     "output_type": "stream",
     "text": [
      "Not setting metadata\n",
      "8 matching events found\n",
      "No baseline correction applied\n",
      "0 projection items activated\n",
      "Using data from preloaded Raw for 8 events and 1281 original time points ...\n",
      "1 bad epochs dropped\n"
     ]
    },
    {
     "name": "stderr",
     "output_type": "stream",
     "text": [
      "/var/folders/jq/xg0f849x4mg5f7y1_tjxk66c0000gn/T/ipykernel_4946/662386645.py:3: FutureWarning: The current default of copy=False will change to copy=True in 1.7. Set the value of copy explicitly to avoid this warning\n",
      "  epochs_8_data = epochs_8.get_data()\n"
     ]
    },
    {
     "name": "stdout",
     "output_type": "stream",
     "text": [
      "Not setting metadata\n",
      "8 matching events found\n",
      "No baseline correction applied\n",
      "0 projection items activated\n",
      "Using data from preloaded Raw for 8 events and 1281 original time points ...\n",
      "1 bad epochs dropped\n"
     ]
    },
    {
     "name": "stderr",
     "output_type": "stream",
     "text": [
      "/var/folders/jq/xg0f849x4mg5f7y1_tjxk66c0000gn/T/ipykernel_4946/662386645.py:3: FutureWarning: The current default of copy=False will change to copy=True in 1.7. Set the value of copy explicitly to avoid this warning\n",
      "  epochs_8_data = epochs_8.get_data()\n"
     ]
    }
   ],
   "source": [
    "fif_1_participantwise_abp = []\n",
    "fif_1_bl_participantwise_abp = []\n",
    "fif_1_participantwise_abp_df = []\n",
    "fif_1_bl_participantwise_abp_df = []\n",
    "\n",
    "epoch_duration_abp = 5\n",
    "\n",
    "#BASELINE TASK 2\n",
    "j= 0\n",
    "for fif in fif_1_baseline:\n",
    "    bl_sketch_temp = fif_1_baseline[j]\n",
    "    bl_sketch_temp_epochs = epoch_equally(bl_sketch_temp,epoch_duration_abp)\n",
    "    bl_channelwise_data_temp = concatenate_epochs_into_channels(bl_sketch_temp_epochs)\n",
    "    bl_abp_list_temp = channelwise_abp(bl_channelwise_data_temp)\n",
    "    fif_1_bl_participantwise_abp.append(bl_abp_list_temp)\n",
    "\n",
    "    channel_names = np.array([\"AF3\", \"F7\", \"F3\", \"FC5\", \"FC6\", \"F4\", \"F8\", \"AF4\"])\n",
    "    bl_abp_df_list_temp = pd.DataFrame(bl_abp_list_temp, columns=['bl_delta_abp','bl_theta_abp','bl_alpha_abp','bl_beta_abp','bl_brain_abp','bl_full_abp'])\n",
    "    pd.options.display.float_format ='{:.2e}'.format\n",
    "    bl_abp_df_list_temp['Channel'] = channel_names\n",
    "    fif_1_bl_participantwise_abp_df.append(bl_abp_df_list_temp)\n",
    "    j=j+1\n",
    "\n",
    "#SKETCHING TASK 2\n",
    "i= 0\n",
    "for fif in fif_1_sketching_signals:\n",
    "    sketch_temp = fif_1_sketching_signals[i]\n",
    "    sketch_temp_epochs = epoch_equally(sketch_temp,epoch_duration_abp)\n",
    "    channelwise_data_temp = concatenate_epochs_into_channels(sketch_temp_epochs)\n",
    "    abp_list_temp = channelwise_abp(channelwise_data_temp)\n",
    "    fif_1_participantwise_abp.append(abp_list_temp)\n",
    "\n",
    "    channel_names = np.array([\"AF3\", \"F7\", \"F3\", \"FC5\", \"FC6\", \"F4\", \"F8\", \"AF4\"])\n",
    "    abp_df_list_temp = pd.DataFrame(abp_list_temp, columns=['delta_abp','theta_abp','alpha_abp','beta_abp','brain_abp','full_abp'])\n",
    "    pd.options.display.float_format ='{:.2e}'.format\n",
    "    abp_df_list_temp['Channel'] = channel_names\n",
    "    fif_1_participantwise_abp_df.append(abp_df_list_temp)\n",
    "    i=i+1"
   ]
  },
  {
   "cell_type": "code",
   "execution_count": 22,
   "id": "db069b16-b753-40c8-b1a0-df69a76b5477",
   "metadata": {},
   "outputs": [],
   "source": [
    "# m=0\n",
    "# concatenated_bl_abp_list =[]\n",
    "# for file in fif_3_bl_participantwise_abp_df :\n",
    "#     temp_df = pd.concat([fif_3_bl_participantwise_abp_df[m],fif_3_participantwise_abp_df[m]], axis = 1)\n",
    "#     concatenated_bl_abp_list.append(temp_df)\n",
    "#     m = m+1"
   ]
  },
  {
   "cell_type": "code",
   "execution_count": 92,
   "id": "d4336a8d-6eff-417d-890f-1a2815b29c3c",
   "metadata": {},
   "outputs": [],
   "source": [
    "# m=0\n",
    "# fif_2_concatenated_bl_abp_list =[]\n",
    "# for file in fif_2_bl_participantwise_abp_df :\n",
    "#     temp_df = pd.concat([fif_2_bl_participantwise_abp_df[m],fif_2_participantwise_abp_df[m]], axis = 1)\n",
    "#     fif_2_concatenated_bl_abp_list.append(temp_df)\n",
    "#     m = m+1"
   ]
  },
  {
   "cell_type": "code",
   "execution_count": 101,
   "id": "3025b8d4-6b5b-4de5-a915-5a0968839892",
   "metadata": {},
   "outputs": [],
   "source": [
    "m=0\n",
    "fif_1_concatenated_bl_abp_list =[]\n",
    "for file in fif_1_bl_participantwise_abp_df :\n",
    "    temp_df = pd.concat([fif_1_bl_participantwise_abp_df[m],fif_1_participantwise_abp_df[m]], axis = 1)\n",
    "    fif_1_concatenated_bl_abp_list.append(temp_df)\n",
    "    m = m+1"
   ]
  },
  {
   "cell_type": "code",
   "execution_count": 90,
   "id": "dbd96b97-e8f0-486d-8fc6-6dd255e28809",
   "metadata": {},
   "outputs": [
    {
     "data": {
      "text/plain": [
       "[array([[3.07568029e-11, 2.01804649e-11, 8.68959677e-11, 1.55140158e-11,\n",
       "         1.54016989e-10, 1.62366386e-10],\n",
       "        [9.04305891e-12, 5.95528016e-12, 2.57839172e-11, 4.54341989e-12,\n",
       "         4.55218596e-11, 4.79607458e-11],\n",
       "        [2.21847417e-11, 1.44783945e-11, 6.25701280e-11, 1.10412657e-11,\n",
       "         1.10702130e-10, 1.18895454e-10],\n",
       "        [1.94625838e-11, 1.25795136e-11, 5.29906059e-11, 9.95891281e-12,\n",
       "         9.54177096e-11, 1.00989133e-10],\n",
       "        [1.12628336e-11, 7.42727593e-12, 3.22238220e-11, 5.64987797e-12,\n",
       "         5.68076898e-11, 5.98421524e-11],\n",
       "        [6.17828404e-11, 4.00294037e-11, 1.69215854e-10, 3.15453246e-11,\n",
       "         3.03925735e-10, 3.21434602e-10],\n",
       "        [2.30366673e-11, 1.52012824e-11, 6.60166879e-11, 1.15474220e-11,\n",
       "         1.16300381e-10, 1.22506317e-10],\n",
       "        [3.29593763e-11, 2.17279096e-11, 9.42210774e-11, 1.65399849e-11,\n",
       "         1.66162381e-10, 1.75043742e-10]]),\n",
       " array([[4.43173715e-11, 1.12988981e-11, 1.49158466e-11, 1.19797556e-11,\n",
       "         8.27705979e-11, 9.32945404e-11],\n",
       "        [1.88604548e-11, 4.21631768e-12, 4.54948851e-12, 4.79932660e-12,\n",
       "         3.25251315e-11, 3.85467032e-11],\n",
       "        [2.98205630e-11, 1.03811974e-11, 1.13868809e-11, 9.12497278e-12,\n",
       "         6.09262985e-11, 6.59003715e-11],\n",
       "        [1.07571858e-11, 2.76702305e-12, 3.65920242e-12, 2.91577937e-12,\n",
       "         2.01619557e-11, 2.26856917e-11],\n",
       "        [4.72790760e-12, 1.25828346e-12, 1.47670733e-12, 1.56329549e-12,\n",
       "         9.05928053e-12, 1.04844951e-11],\n",
       "        [2.15801336e-11, 7.16555107e-12, 8.73227129e-12, 6.97551929e-12,\n",
       "         4.45869473e-11, 4.88237697e-11],\n",
       "        [7.26517856e-12, 1.65942223e-12, 1.83538935e-12, 1.88373567e-12,\n",
       "         1.26820424e-11, 1.49891219e-11],\n",
       "        [4.08630731e-11, 9.81919740e-12, 1.27713162e-11, 1.08623219e-11,\n",
       "         7.45503068e-11, 8.51717055e-11]]),\n",
       " array([[2.17023151e-11, 5.27875153e-12, 4.04435815e-12, 6.15408256e-12,\n",
       "         3.72665389e-11, 4.30835405e-11],\n",
       "        [6.12888774e-12, 2.29344528e-12, 4.31113786e-12, 4.84720723e-12,\n",
       "         1.76287199e-11, 2.23714714e-11],\n",
       "        [2.97913769e-11, 8.89535391e-12, 6.48205013e-12, 1.03758530e-11,\n",
       "         5.56715212e-11, 6.35120110e-11],\n",
       "        [2.55830490e-11, 5.71607123e-12, 7.64416756e-12, 9.41946253e-12,\n",
       "         4.85379070e-11, 5.99977985e-11],\n",
       "        [1.08682440e-11, 3.37505282e-12, 1.85955469e-12, 3.06029364e-12,\n",
       "         1.91960646e-11, 2.15680715e-11],\n",
       "        [4.56783083e-11, 9.99871626e-12, 5.17506608e-12, 9.59237450e-12,\n",
       "         7.05995662e-11, 7.99449217e-11],\n",
       "        [1.62679531e-10, 3.84606714e-11, 6.01992681e-12, 9.67673963e-12,\n",
       "         2.17041825e-10, 2.47234621e-10],\n",
       "        [3.14730273e-11, 8.17625918e-12, 3.50529895e-12, 6.45492372e-12,\n",
       "         4.97040275e-11, 5.48007253e-11]]),\n",
       " array([[1.06218691e-10, 4.19849001e-11, 3.33863776e-11, 2.57817056e-11,\n",
       "         2.08258375e-10, 2.35943143e-10],\n",
       "        [5.69343170e-11, 2.14720486e-11, 2.11665499e-11, 1.71793590e-11,\n",
       "         1.17170906e-10, 1.33772122e-10],\n",
       "        [4.66620994e-11, 2.13756526e-11, 2.57760851e-11, 1.99795339e-11,\n",
       "         1.14171140e-10, 1.31230524e-10],\n",
       "        [4.48607766e-11, 1.66866397e-11, 1.84935218e-11, 1.68931133e-11,\n",
       "         9.72715957e-11, 1.12890755e-10],\n",
       "        [3.79268038e-10, 1.50758190e-10, 8.81995582e-11, 6.43278346e-11,\n",
       "         6.85921831e-10, 7.50917504e-10],\n",
       "        [8.51501542e-11, 3.44240075e-11, 3.99088717e-11, 3.70322431e-11,\n",
       "         1.97249773e-10, 2.32059498e-10],\n",
       "        [7.26921494e-11, 2.51158780e-11, 2.91198291e-11, 3.12392149e-11,\n",
       "         1.58702436e-10, 1.87240657e-10],\n",
       "        [6.67866499e-11, 2.78639099e-11, 2.98833817e-11, 2.30428057e-11,\n",
       "         1.48101775e-10, 1.69211298e-10]]),\n",
       " array([[9.52315766e-11, 2.15099883e-11, 1.80351844e-11, 2.96166405e-11,\n",
       "         1.64900322e-10, 1.92425799e-10],\n",
       "        [7.20913817e-11, 1.23853330e-11, 9.47311165e-12, 1.76870644e-11,\n",
       "         1.11893914e-10, 1.31807928e-10],\n",
       "        [9.92739910e-11, 2.29910173e-11, 1.77980519e-11, 3.03493567e-11,\n",
       "         1.71004438e-10, 1.97903382e-10],\n",
       "        [7.97025270e-11, 1.40904500e-11, 1.00505797e-11, 2.20343841e-11,\n",
       "         1.26256383e-10, 1.46497063e-10],\n",
       "        [1.22455707e-10, 2.29607464e-11, 1.81772294e-11, 3.29641218e-11,\n",
       "         1.97084994e-10, 2.29689096e-10],\n",
       "        [1.93369766e-10, 3.60972818e-11, 3.41608421e-11, 4.61664281e-11,\n",
       "         3.10456911e-10, 3.69864464e-10],\n",
       "        [1.30037085e-10, 2.28196062e-11, 1.72660128e-11, 3.29308523e-11,\n",
       "         2.03564975e-10, 2.37736722e-10],\n",
       "        [1.15284763e-10, 2.29584492e-11, 1.90840044e-11, 3.13058734e-11,\n",
       "         1.89137605e-10, 2.21032852e-10]]),\n",
       " array([[2.29590990e-11, 1.21643627e-11, 2.06468549e-11, 1.34177296e-11,\n",
       "         6.96058506e-11, 7.96967280e-11],\n",
       "        [2.59983126e-11, 1.69195416e-11, 2.50326777e-11, 1.52983933e-11,\n",
       "         8.36380402e-11, 9.74286812e-11],\n",
       "        [4.50669668e-11, 2.41514380e-11, 3.20381987e-11, 2.47081744e-11,\n",
       "         1.26707023e-10, 1.48231973e-10],\n",
       "        [4.05140031e-11, 2.02293832e-11, 3.29297562e-11, 2.35292008e-11,\n",
       "         1.17797407e-10, 1.38934655e-10],\n",
       "        [3.59298619e-11, 2.11035283e-11, 3.29051494e-11, 2.49716050e-11,\n",
       "         1.15705650e-10, 1.30154055e-10],\n",
       "        [2.15989908e-10, 3.88819965e-11, 4.35175652e-11, 3.08014984e-11,\n",
       "         3.31030287e-10, 3.89065907e-10],\n",
       "        [3.85134487e-11, 2.01994659e-11, 3.43413874e-11, 2.08985701e-11,\n",
       "         1.14585624e-10, 1.31315285e-10],\n",
       "        [6.12917419e-11, 1.92129373e-11, 2.74290315e-11, 2.00382326e-11,\n",
       "         1.28813343e-10, 1.47263540e-10]]),\n",
       " array([[1.29888978e-11, 9.97270879e-12, 1.60700098e-11, 1.50472013e-11,\n",
       "         5.44497371e-11, 6.11669090e-11],\n",
       "        [1.06599066e-11, 8.40454635e-12, 1.35032590e-11, 1.24718312e-11,\n",
       "         4.53452801e-11, 5.09047219e-11],\n",
       "        [2.06351896e-11, 1.76500252e-11, 2.75307465e-11, 2.53845962e-11,\n",
       "         9.17839512e-11, 1.03658656e-10],\n",
       "        [1.08287456e-11, 7.88153629e-12, 1.27067366e-11, 1.23616692e-11,\n",
       "         4.40832487e-11, 4.96924361e-11],\n",
       "        [1.88268974e-11, 1.52577822e-11, 2.43781401e-11, 2.23089177e-11,\n",
       "         8.13123987e-11, 9.13075046e-11],\n",
       "        [2.12943122e-11, 1.44443212e-11, 2.30943606e-11, 2.40324979e-11,\n",
       "         8.34469874e-11, 9.47941947e-11],\n",
       "        [1.34229776e-11, 1.03709805e-11, 1.67031882e-11, 1.55837480e-11,\n",
       "         5.64646920e-11, 6.34156955e-11],\n",
       "        [1.65432524e-11, 1.30900437e-11, 2.10193758e-11, 1.93842964e-11,\n",
       "         7.05116240e-11, 7.91544433e-11]]),\n",
       " array([[6.76222306e-11, 1.35540909e-11, 2.24457109e-11, 2.09538499e-11,\n",
       "         1.24955595e-10, 1.80320741e-10],\n",
       "        [4.73520338e-11, 9.48123193e-12, 1.56623913e-11, 1.47870172e-11,\n",
       "         8.75544425e-11, 1.26510220e-10],\n",
       "        [9.35967129e-11, 1.91254255e-11, 3.25798857e-11, 2.78391708e-11,\n",
       "         1.73556963e-10, 2.46946375e-10],\n",
       "        [4.10261246e-11, 8.19040641e-12, 1.32926572e-11, 1.39395928e-11,\n",
       "         7.67282780e-11, 1.11947723e-10],\n",
       "        [8.95376094e-11, 1.83531451e-11, 3.13725598e-11, 2.66347595e-11,\n",
       "         1.66285100e-10, 2.36205036e-10],\n",
       "        [7.51089354e-11, 1.51432462e-11, 2.42151116e-11, 2.94177134e-11,\n",
       "         1.44504768e-10, 2.12875025e-10],\n",
       "        [4.96743773e-11, 9.92337505e-12, 1.62741666e-11, 1.59509944e-11,\n",
       "         9.21276875e-11, 1.33633354e-10],\n",
       "        [7.08873851e-11, 1.41808188e-11, 2.33689921e-11, 2.23245389e-11,\n",
       "         1.31177591e-10, 1.89785019e-10]]),\n",
       " array([[4.55819438e-11, 2.08031602e-11, 2.44306180e-11, 1.59057426e-11,\n",
       "         1.07198067e-10, 1.16510054e-10],\n",
       "        [4.66881238e-11, 1.47064373e-11, 1.51170825e-11, 1.38684946e-11,\n",
       "         9.08192819e-11, 1.01040814e-10],\n",
       "        [4.86145459e-11, 2.45278305e-11, 2.76694860e-11, 1.81374414e-11,\n",
       "         1.19449221e-10, 1.30197548e-10],\n",
       "        [3.74320972e-11, 1.50243390e-11, 1.73988442e-11, 1.27683536e-11,\n",
       "         8.30059542e-11, 9.10726357e-11],\n",
       "        [5.47253556e-11, 1.99356548e-11, 2.21434058e-11, 1.72118919e-11,\n",
       "         1.14510842e-10, 1.25943658e-10],\n",
       "        [5.26674701e-11, 2.99688804e-11, 3.60169314e-11, 2.20786528e-11,\n",
       "         1.41387479e-10, 1.53679564e-10],\n",
       "        [5.10892607e-11, 1.68014247e-11, 1.76066313e-11, 1.62405598e-11,\n",
       "         1.02242926e-10, 1.14052984e-10],\n",
       "        [4.96108662e-11, 2.14328475e-11, 2.47363689e-11, 1.66227322e-11,\n",
       "         1.12892128e-10, 1.22898679e-10]]),\n",
       " array([[3.89491178e-12, 2.12995283e-12, 2.57017921e-12, 1.45091797e-12,\n",
       "         1.00774105e-11, 1.17754578e-11],\n",
       "        [1.41458310e-12, 1.05219387e-12, 2.59940696e-12, 1.15712290e-12,\n",
       "         6.24805372e-12, 7.23973395e-12],\n",
       "        [2.90988324e-11, 9.57647070e-12, 1.21268067e-11, 5.98431475e-12,\n",
       "         5.69734424e-11, 6.25566202e-11],\n",
       "        [8.15986389e-12, 4.70896032e-12, 7.97920412e-12, 4.80821592e-12,\n",
       "         2.57374097e-11, 3.06000479e-11],\n",
       "        [3.14448652e-12, 1.43206104e-12, 2.60328536e-12, 1.87124507e-12,\n",
       "         9.08167985e-12, 1.14877932e-11],\n",
       "        [1.80535279e-11, 1.17514319e-11, 1.91267506e-11, 9.86758473e-12,\n",
       "         5.90327869e-11, 6.91066967e-11],\n",
       "        [2.27890992e-12, 1.00653402e-12, 1.23544978e-12, 8.85534175e-13,\n",
       "         5.42982631e-12, 6.96963015e-12],\n",
       "        [1.09257511e-11, 4.27956738e-12, 4.57670560e-12, 3.62965992e-12,\n",
       "         2.34958999e-11, 2.65355668e-11]]),\n",
       " array([[2.27155793e-11, 9.49407974e-12, 1.60268022e-11, 1.51469865e-11,\n",
       "         6.39285921e-11, 7.34093397e-11],\n",
       "        [2.54205622e-11, 9.07189050e-12, 1.27940868e-11, 1.49640713e-11,\n",
       "         6.27821343e-11, 7.22341188e-11],\n",
       "        [2.50611559e-11, 1.09495768e-11, 1.79488990e-11, 1.73876036e-11,\n",
       "         7.19166785e-11, 8.17856162e-11],\n",
       "        [2.65659349e-11, 8.87959046e-12, 1.43152405e-11, 1.42911202e-11,\n",
       "         6.46219980e-11, 7.51465909e-11],\n",
       "        [3.65333913e-11, 1.64056490e-11, 2.84453731e-11, 2.61960210e-11,\n",
       "         1.08446866e-10, 1.23562741e-10],\n",
       "        [4.26631191e-11, 2.06955779e-11, 3.86049877e-11, 3.40643391e-11,\n",
       "         1.37071930e-10, 1.56766986e-10],\n",
       "        [2.81086115e-11, 1.13821659e-11, 1.81442783e-11, 1.77539187e-11,\n",
       "         7.60271864e-11, 8.65153743e-11],\n",
       "        [3.16500904e-11, 1.26071563e-11, 1.92692220e-11, 1.98021771e-11,\n",
       "         8.40268384e-11, 9.56076020e-11]]),\n",
       " array([[2.70428230e-11, 1.01638000e-11, 1.10879184e-11, 1.75758292e-11,\n",
       "         6.60974398e-11, 7.26438065e-11],\n",
       "        [4.01101705e-12, 9.61741056e-13, 1.09109792e-12, 1.56702310e-12,\n",
       "         7.65482675e-12, 8.49288764e-12],\n",
       "        [2.73832635e-12, 1.74823388e-12, 2.04156909e-12, 3.52167291e-12,\n",
       "         1.01019483e-11, 1.14858894e-11],\n",
       "        [7.52156286e-12, 4.34867452e-12, 5.05058436e-12, 8.47373522e-12,\n",
       "         2.55238654e-11, 2.88648004e-11],\n",
       "        [1.27393012e-11, 7.53385464e-12, 7.89408803e-12, 1.42809044e-11,\n",
       "         4.26444092e-11, 4.78519981e-11],\n",
       "        [2.57607103e-11, 1.13059367e-11, 1.18929106e-11, 1.99766843e-11,\n",
       "         6.92040716e-11, 7.61932012e-11],\n",
       "        [2.37332657e-11, 1.38496006e-11, 1.35847021e-11, 2.60633081e-11,\n",
       "         7.75993944e-11, 8.86835085e-11],\n",
       "        [3.84626281e-11, 1.18946938e-11, 1.36428099e-11, 2.22538380e-11,\n",
       "         8.65564428e-11, 9.58442348e-11]]),\n",
       " array([[2.51422656e-11, 1.76219676e-11, 2.89994400e-11, 2.06836298e-11,\n",
       "         9.29502785e-11, 1.01859268e-10],\n",
       "        [1.98113343e-11, 8.54664672e-12, 1.78988717e-11, 1.19262223e-11,\n",
       "         5.84451272e-11, 6.53943039e-11],\n",
       "        [4.67037127e-11, 3.20620933e-11, 3.84813417e-11, 2.07636270e-11,\n",
       "         1.38740591e-10, 1.46713237e-10],\n",
       "        [1.60297146e-11, 9.45565186e-12, 1.65694459e-11, 1.39325467e-11,\n",
       "         5.62602694e-11, 6.33891453e-11],\n",
       "        [2.01204420e-11, 1.40645550e-11, 2.60978557e-11, 1.54342883e-11,\n",
       "         7.61246369e-11, 8.29640957e-11],\n",
       "        [3.98185763e-11, 3.12069851e-11, 4.49905917e-11, 2.40923761e-11,\n",
       "         1.41017284e-10, 1.51577444e-10],\n",
       "        [1.98629242e-11, 1.16533924e-11, 2.34811834e-11, 1.65484471e-11,\n",
       "         7.18907809e-11, 7.97718173e-11],\n",
       "        [2.27942711e-11, 1.69991088e-11, 2.92033909e-11, 1.57436178e-11,\n",
       "         8.52148617e-11, 9.23337448e-11]]),\n",
       " array([[1.56092765e-11, 8.64457791e-12, 2.36032676e-11, 2.05323050e-11,\n",
       "         6.87329607e-11, 8.10136859e-11],\n",
       "        [1.60769352e-11, 8.89442569e-12, 1.63745375e-11, 1.60943066e-11,\n",
       "         5.76832390e-11, 6.90499399e-11],\n",
       "        [1.29973421e-11, 7.54441672e-12, 2.24456887e-11, 1.87044728e-11,\n",
       "         6.19744388e-11, 7.36999154e-11],\n",
       "        [8.35081518e-12, 6.31942201e-12, 1.89433210e-11, 1.58250294e-11,\n",
       "         4.96693245e-11, 5.82887614e-11],\n",
       "        [5.91831461e-11, 1.87918713e-11, 3.62938948e-11, 3.63866337e-11,\n",
       "         1.51510827e-10, 1.80432700e-10],\n",
       "        [1.60230817e-11, 1.09992804e-11, 2.88188844e-11, 2.53954058e-11,\n",
       "         8.16381841e-11, 9.58042658e-11],\n",
       "        [1.82744853e-11, 1.35126904e-11, 3.72874431e-11, 3.18633355e-11,\n",
       "         1.01382603e-10, 1.19419163e-10],\n",
       "        [2.03923683e-11, 1.17120424e-11, 3.14883576e-11, 2.75006572e-11,\n",
       "         9.15402323e-11, 1.07953679e-10]]),\n",
       " array([[7.79433025e-12, 4.84523762e-12, 1.04712763e-11, 1.01778660e-11,\n",
       "         3.34163130e-11, 4.01643371e-11],\n",
       "        [7.55070581e-12, 5.25364244e-12, 9.93907677e-12, 8.58424177e-12,\n",
       "         3.14354203e-11, 3.73950453e-11],\n",
       "        [1.91684234e-11, 1.10917748e-11, 2.26196720e-11, 1.73161166e-11,\n",
       "         7.04698912e-11, 8.06340073e-11],\n",
       "        [1.03303794e-11, 6.73482523e-12, 1.37816736e-11, 1.13541422e-11,\n",
       "         4.23437335e-11, 5.05171841e-11],\n",
       "        [2.22780895e-11, 1.42168084e-11, 3.27386787e-11, 2.53264354e-11,\n",
       "         9.48475056e-11, 1.11188061e-10],\n",
       "        [2.80111289e-11, 1.56868577e-11, 3.56721847e-11, 2.74493985e-11,\n",
       "         1.07204107e-10, 1.23743857e-10],\n",
       "        [4.34323500e-11, 1.60188498e-11, 1.99742172e-11, 2.26928852e-11,\n",
       "         1.02418339e-10, 1.19995814e-10],\n",
       "        [1.64648150e-11, 9.30258128e-12, 2.09086053e-11, 1.55607806e-11,\n",
       "         6.24046497e-11, 7.27570705e-11]]),\n",
       " array([[1.49000486e-11, 6.26711043e-12, 9.32670777e-12, 9.18398717e-12,\n",
       "         3.98460734e-11, 4.75273561e-11],\n",
       "        [1.28273693e-11, 5.22250991e-12, 5.21823725e-12, 7.39021521e-12,\n",
       "         3.08343957e-11, 3.73372579e-11],\n",
       "        [2.13558964e-11, 1.07290551e-11, 1.79859380e-11, 1.46169909e-11,\n",
       "         6.49843807e-11, 7.56932501e-11],\n",
       "        [2.45327050e-11, 9.91387459e-12, 1.15656160e-11, 1.36253442e-11,\n",
       "         5.99406476e-11, 7.20544983e-11],\n",
       "        [4.50501812e-11, 1.80497676e-11, 1.87758949e-11, 2.66604938e-11,\n",
       "         1.09039109e-10, 1.35267595e-10],\n",
       "        [5.45125738e-11, 2.18872216e-11, 2.42772412e-11, 3.09676065e-11,\n",
       "         1.32341681e-10, 1.59485432e-10],\n",
       "        [3.01109429e-11, 1.22533153e-11, 1.09109929e-11, 1.80685604e-11,\n",
       "         7.17581705e-11, 8.82863675e-11],\n",
       "        [3.64633437e-11, 1.49700612e-11, 1.58092506e-11, 1.99495706e-11,\n",
       "         8.76648597e-11, 1.05335157e-10]]),\n",
       " array([[1.32228312e-11, 8.36551966e-12, 2.53251162e-11, 1.06556278e-11,\n",
       "         5.77570183e-11, 6.39558862e-11],\n",
       "        [8.34306569e-12, 4.35147139e-12, 1.94517099e-11, 1.01662271e-11,\n",
       "         4.24885179e-11, 4.84855691e-11],\n",
       "        [2.79896393e-11, 1.84222781e-11, 5.09702460e-11, 1.87990336e-11,\n",
       "         1.16552864e-10, 1.25630359e-10],\n",
       "        [1.19483520e-11, 6.34682095e-12, 2.76067175e-11, 1.58898157e-11,\n",
       "         6.20378596e-11, 7.23020802e-11],\n",
       "        [1.04109876e-11, 5.24107357e-12, 2.30627652e-11, 1.16263258e-11,\n",
       "         5.05536631e-11, 5.72638167e-11],\n",
       "        [2.13941558e-11, 1.31810333e-11, 3.79076899e-11, 1.70664578e-11,\n",
       "         8.98353136e-11, 1.00878238e-10],\n",
       "        [7.78913802e-12, 4.05007485e-12, 1.81658338e-11, 1.04345710e-11,\n",
       "         4.06082952e-11, 4.71570227e-11],\n",
       "        [1.19833153e-11, 6.75474126e-12, 2.77907567e-11, 1.25589409e-11,\n",
       "         5.93152429e-11, 6.61258208e-11]]),\n",
       " array([[5.01024878e-10, 3.78755862e-11, 4.63541225e-11, 4.48657101e-11,\n",
       "         6.31456683e-10, 7.33678895e-10],\n",
       "        [4.45028626e-10, 3.58415887e-11, 4.01536141e-11, 4.04868944e-11,\n",
       "         5.62696584e-10, 6.58585158e-10],\n",
       "        [4.25083834e-10, 3.34228172e-11, 3.98213132e-11, 3.88607973e-11,\n",
       "         5.38325230e-10, 6.26701684e-10],\n",
       "        [4.90622094e-10, 3.17402106e-11, 3.77891155e-11, 4.44013160e-11,\n",
       "         6.05782618e-10, 7.06921729e-10],\n",
       "        [8.12930445e-10, 5.87025088e-11, 6.82059144e-11, 6.83604788e-11,\n",
       "         1.01029356e-09, 1.17701796e-09],\n",
       "        [6.00661381e-10, 5.49765720e-11, 3.78943938e-11, 4.18669699e-11,\n",
       "         7.36920606e-10, 8.57676117e-10],\n",
       "        [8.49939678e-10, 4.93676982e-11, 6.14835263e-11, 6.82060863e-11,\n",
       "         1.03059071e-09, 1.25221045e-09],\n",
       "        [7.06579309e-10, 5.06372331e-11, 5.21710321e-11, 5.51256701e-11,\n",
       "         8.66254353e-10, 1.00975038e-09]]),\n",
       " array([[7.76661860e-11, 1.54712888e-11, 2.61403316e-11, 2.16797764e-11,\n",
       "         1.41362347e-10, 1.73648219e-10],\n",
       "        [5.41961203e-11, 1.31421097e-11, 1.93204191e-11, 1.87845783e-11,\n",
       "         1.05745495e-10, 1.35168684e-10],\n",
       "        [7.37666840e-11, 1.36573952e-11, 2.31921486e-11, 1.89109814e-11,\n",
       "         1.29891088e-10, 1.58572430e-10],\n",
       "        [3.80692992e-11, 8.08255948e-12, 1.33940008e-11, 1.16327301e-11,\n",
       "         7.13836761e-11, 8.88184613e-11],\n",
       "        [2.08354213e-10, 2.79573297e-11, 4.70366385e-11, 4.20534806e-11,\n",
       "         3.26161508e-10, 3.99325695e-10],\n",
       "        [1.67121208e-10, 4.56490186e-11, 7.05600536e-11, 5.19112131e-11,\n",
       "         3.36343745e-10, 3.97178756e-10],\n",
       "        [9.31712768e-11, 2.27459384e-11, 3.45890094e-11, 3.24902607e-11,\n",
       "         1.83531230e-10, 2.33086903e-10],\n",
       "        [1.06716536e-10, 2.59792772e-11, 4.28314087e-11, 3.36032497e-11,\n",
       "         2.09789594e-10, 2.54494068e-10]]),\n",
       " array([[5.79219410e-11, 2.99033481e-11, 2.44818174e-11, 3.40290099e-11,\n",
       "         1.47630421e-10, 1.63128835e-10],\n",
       "        [3.95285234e-11, 2.35893185e-11, 1.93207195e-11, 2.50767459e-11,\n",
       "         1.08379905e-10, 1.19229784e-10],\n",
       "        [6.10780223e-11, 4.17060189e-11, 3.33740900e-11, 5.00225146e-11,\n",
       "         1.87522324e-10, 2.05107716e-10],\n",
       "        [4.66187239e-11, 2.13424837e-11, 1.72433600e-11, 2.15895641e-11,\n",
       "         1.07501813e-10, 1.19583481e-10],\n",
       "        [8.12879640e-11, 4.65673413e-11, 3.82833412e-11, 5.30026621e-11,\n",
       "         2.21177191e-10, 2.44666733e-10],\n",
       "        [1.08538073e-10, 6.03067486e-11, 4.91298362e-11, 7.49889145e-11,\n",
       "         2.95513537e-10, 3.25682023e-10],\n",
       "        [7.28939330e-11, 4.11819554e-11, 3.37286436e-11, 4.62876520e-11,\n",
       "         1.95878049e-10, 2.16780713e-10],\n",
       "        [6.60265383e-11, 4.20935712e-11, 3.46188502e-11, 4.72450195e-11,\n",
       "         1.91511188e-10, 2.09600266e-10]]),\n",
       " array([[3.01438526e-11, 1.12852367e-11, 4.48065363e-11, 1.56209667e-11,\n",
       "         1.02190726e-10, 1.31016222e-10],\n",
       "        [1.83323318e-11, 7.91741028e-12, 2.91943957e-11, 1.11447938e-11,\n",
       "         6.68262852e-11, 8.45314739e-11],\n",
       "        [2.84414982e-11, 1.25186561e-11, 4.66876386e-11, 1.63598096e-11,\n",
       "         1.04392622e-10, 1.27990808e-10],\n",
       "        [2.83829445e-11, 1.13937286e-11, 4.08101813e-11, 1.70894184e-11,\n",
       "         9.79959046e-11, 1.27281992e-10],\n",
       "        [7.60359338e-11, 2.74475351e-11, 1.40044303e-10, 3.81746251e-11,\n",
       "         2.82592517e-10, 3.51267206e-10],\n",
       "        [7.06794503e-11, 2.63013862e-11, 1.32284138e-10, 3.87090075e-11,\n",
       "         2.68772807e-10, 3.30229425e-10],\n",
       "        [6.93884043e-11, 2.46195457e-11, 1.23452206e-10, 3.38548114e-11,\n",
       "         2.52108108e-10, 3.15659186e-10],\n",
       "        [6.91157966e-11, 2.38019440e-11, 1.16643198e-10, 3.34863130e-11,\n",
       "         2.43798414e-10, 3.07475291e-10]]),\n",
       " array([[5.65148970e-11, 3.57277320e-11, 6.06997823e-11, 3.16821360e-11,\n",
       "         1.85086349e-10, 2.17307019e-10],\n",
       "        [5.80629050e-11, 3.14222474e-11, 5.01326467e-11, 2.65325697e-11,\n",
       "         1.66561187e-10, 1.94910329e-10],\n",
       "        [4.77593983e-11, 3.86392982e-11, 7.14936137e-11, 3.80343676e-11,\n",
       "         1.96439323e-10, 2.33942907e-10],\n",
       "        [3.39983031e-11, 2.23029478e-11, 3.84094537e-11, 2.00304787e-11,\n",
       "         1.15029360e-10, 1.35221023e-10],\n",
       "        [7.10729125e-11, 5.54143732e-11, 1.01245428e-10, 5.34181550e-11,\n",
       "         2.81878458e-10, 3.34497979e-10],\n",
       "        [1.37994161e-10, 6.74978179e-11, 1.02719651e-10, 5.53694924e-11,\n",
       "         3.64477155e-10, 4.26189916e-10],\n",
       "        [1.09428811e-10, 5.88522337e-11, 9.36378819e-11, 4.96025726e-11,\n",
       "         3.12291531e-10, 3.65416299e-10],\n",
       "        [7.82508864e-11, 5.01047751e-11, 8.55300303e-11, 4.46240972e-11,\n",
       "         2.59157270e-10, 3.04395557e-10]]),\n",
       " array([[4.95017276e-11, 1.14168575e-11, 1.42454822e-11, 2.21128925e-11,\n",
       "         9.76564888e-11, 1.46115786e-10],\n",
       "        [2.41071520e-11, 8.73781875e-12, 1.12683344e-11, 1.88960319e-11,\n",
       "         6.33592249e-11, 8.66920221e-11],\n",
       "        [2.85878557e-11, 1.52716783e-11, 1.77884741e-11, 2.55775492e-11,\n",
       "         8.76460411e-11, 1.08174595e-10],\n",
       "        [8.24500971e-11, 9.95063383e-12, 1.23511123e-11, 1.99269436e-11,\n",
       "         1.25015161e-10, 2.11368038e-10],\n",
       "        [4.29349898e-11, 1.52828786e-11, 1.96350578e-11, 3.19148474e-11,\n",
       "         1.10343319e-10, 1.51448636e-10],\n",
       "        [1.54201671e-10, 2.15568575e-11, 2.53941832e-11, 3.84396168e-11,\n",
       "         2.40220844e-10, 3.96103779e-10],\n",
       "        [4.51537265e-11, 1.45139967e-11, 1.84294661e-11, 3.26315142e-11,\n",
       "         1.11359622e-10, 1.55536379e-10],\n",
       "        [6.45505397e-11, 1.35625864e-11, 1.70261151e-11, 2.67356788e-11,\n",
       "         1.22335770e-10, 1.86600137e-10]]),\n",
       " array([[1.38819437e-11, 9.61742751e-12, 5.40466552e-11, 1.39924331e-11,\n",
       "         9.18985601e-11, 9.85680007e-11],\n",
       "        [9.55576211e-12, 6.51482409e-12, 3.67346910e-11, 9.57900359e-12,\n",
       "         6.26279227e-11, 6.71846876e-11],\n",
       "        [2.88391744e-11, 1.82551295e-11, 1.02731242e-10, 2.84096862e-11,\n",
       "         1.78904844e-10, 1.92619459e-10],\n",
       "        [1.22982523e-11, 8.56304594e-12, 4.80590339e-11, 1.24189092e-11,\n",
       "         8.16599213e-11, 8.75850896e-11],\n",
       "        [2.67027756e-11, 1.72610651e-11, 9.75109819e-11, 2.63976369e-11,\n",
       "         1.68510755e-10, 1.81147998e-10],\n",
       "        [3.87637166e-11, 2.87488269e-11, 1.57213993e-10, 4.02528564e-11,\n",
       "         2.66050650e-10, 2.85760850e-10],\n",
       "        [1.78249437e-11, 1.23902653e-11, 6.95700730e-11, 1.79885940e-11,\n",
       "         1.18237859e-10, 1.26817413e-10],\n",
       "        [1.96055048e-11, 1.33876588e-11, 7.54669987e-11, 1.96633644e-11,\n",
       "         1.28624279e-10, 1.37979317e-10]]),\n",
       " array([[3.84515278e-11, 2.43669042e-11, 1.72859601e-11, 2.17927244e-11,\n",
       "         1.02260286e-10, 1.11058761e-10],\n",
       "        [3.73665025e-11, 2.40763408e-11, 1.99325646e-11, 2.39025724e-11,\n",
       "         1.05680326e-10, 1.14445873e-10],\n",
       "        [3.08590102e-11, 1.76838085e-11, 1.56451060e-11, 1.83980039e-11,\n",
       "         8.29148476e-11, 9.08154359e-11],\n",
       "        [1.61827616e-11, 1.01096991e-11, 8.67805124e-12, 1.02939965e-11,\n",
       "         4.54409474e-11, 4.93511412e-11],\n",
       "        [6.57311308e-11, 4.23448027e-11, 3.50697340e-11, 4.20499221e-11,\n",
       "         1.85903494e-10, 2.01326279e-10],\n",
       "        [5.69825039e-11, 3.62252871e-11, 2.58899033e-11, 3.25571974e-11,\n",
       "         1.52197027e-10, 1.65226838e-10],\n",
       "        [8.06653366e-11, 5.24707995e-11, 4.20642316e-11, 5.09469797e-11,\n",
       "         2.26997874e-10, 2.45641850e-10],\n",
       "        [5.81905664e-11, 3.49484902e-11, 3.06046024e-11, 3.60930056e-11,\n",
       "         1.60467675e-10, 1.74941621e-10]]),\n",
       " array([[2.84811612e-11, 6.46836798e-12, 5.84219486e-12, 1.12935606e-11,\n",
       "         5.22376684e-11, 6.12170804e-11],\n",
       "        [1.49157627e-11, 3.38752487e-12, 3.05959408e-12, 5.91450850e-12,\n",
       "         2.73571945e-11, 3.20597688e-11],\n",
       "        [7.21549230e-11, 1.63871336e-11, 1.48007701e-11, 2.86114036e-11,\n",
       "         1.32340283e-10, 1.55088962e-10],\n",
       "        [2.40279912e-11, 5.45700673e-12, 4.92873890e-12, 9.52775668e-12,\n",
       "         4.40700514e-11, 5.16454880e-11],\n",
       "        [5.35112919e-11, 1.21529710e-11, 1.09764975e-11, 2.12186930e-11,\n",
       "         9.81457568e-11, 1.15016555e-10],\n",
       "        [1.04343214e-10, 2.36974294e-11, 2.14033897e-11, 4.13749426e-11,\n",
       "         1.91377247e-10, 2.24274105e-10],\n",
       "        [3.72183051e-11, 8.45266425e-12, 7.63440050e-12, 1.47580775e-11,\n",
       "         6.82625779e-11, 7.99965971e-11],\n",
       "        [6.83295526e-11, 1.55183522e-11, 1.40160915e-11, 2.70945393e-11,\n",
       "         1.25324122e-10, 1.46866755e-10]]),\n",
       " array([[1.44239585e-11, 5.91100170e-12, 2.51845522e-11, 6.20623261e-12,\n",
       "         5.18050300e-11, 5.85705004e-11],\n",
       "        [1.40783082e-11, 5.68960850e-12, 2.55529212e-11, 7.34605999e-12,\n",
       "         5.27636642e-11, 5.78581623e-11],\n",
       "        [2.56205095e-11, 1.27465587e-11, 5.33296129e-11, 1.35492855e-11,\n",
       "         1.05448714e-10, 1.15409623e-10],\n",
       "        [1.51602206e-11, 6.85939940e-12, 2.88444604e-11, 9.37113317e-12,\n",
       "         6.03439895e-11, 6.71448564e-11],\n",
       "        [2.15559027e-11, 9.65598067e-12, 3.17860978e-11, 1.13876188e-11,\n",
       "         7.45306961e-11, 8.56441842e-11],\n",
       "        [1.05248010e-10, 2.08675360e-11, 5.30665413e-11, 2.10409102e-11,\n",
       "         2.00531423e-10, 2.55642955e-10],\n",
       "        [1.53027802e-11, 7.00778397e-12, 2.76090508e-11, 9.13398224e-12,\n",
       "         5.91588437e-11, 6.64698196e-11],\n",
       "        [1.92269754e-11, 9.02700157e-12, 2.65211153e-11, 1.08848091e-11,\n",
       "         6.58014785e-11, 7.61023640e-11]]),\n",
       " array([[3.15536059e-11, 1.90301842e-11, 4.49189428e-11, 2.24174652e-11,\n",
       "         1.18556726e-10, 1.31864148e-10],\n",
       "        [2.97072631e-11, 1.34881203e-11, 3.42391895e-11, 1.78007193e-11,\n",
       "         9.57038142e-11, 1.08922787e-10],\n",
       "        [3.97987082e-11, 3.24219508e-11, 7.32079627e-11, 4.05281118e-11,\n",
       "         1.86841404e-10, 2.02519551e-10],\n",
       "        [2.93224556e-11, 1.55260704e-11, 3.81060096e-11, 1.99135387e-11,\n",
       "         1.03378711e-10, 1.16975000e-10],\n",
       "        [5.23213766e-11, 2.46910602e-11, 6.91822285e-11, 3.66164895e-11,\n",
       "         1.83685294e-10, 2.07888377e-10],\n",
       "        [6.90241820e-11, 4.47324946e-11, 1.08617275e-10, 5.51907959e-11,\n",
       "         2.78742037e-10, 3.05883746e-10],\n",
       "        [3.94726918e-11, 1.74987744e-11, 4.51531798e-11, 2.21877418e-11,\n",
       "         1.24947690e-10, 1.42060824e-10],\n",
       "        [3.97567048e-11, 2.13781943e-11, 5.75393710e-11, 2.67506582e-11,\n",
       "         1.46106871e-10, 1.63620226e-10]]),\n",
       " array([[1.10530777e-11, 6.39780398e-12, 6.86450169e-12, 6.64730710e-12,\n",
       "         3.10578268e-11, 3.39821483e-11],\n",
       "        [1.21831693e-11, 7.17949717e-12, 7.70283806e-12, 7.64404904e-12,\n",
       "         3.48136393e-11, 3.79557546e-11],\n",
       "        [5.31987326e-12, 2.32450331e-12, 2.50742025e-12, 2.80241810e-12,\n",
       "         1.29991791e-11, 1.53213938e-11],\n",
       "        [1.31717515e-11, 6.50656044e-12, 7.24328213e-12, 7.30155682e-12,\n",
       "         3.43457228e-11, 3.89929953e-11],\n",
       "        [2.84172889e-11, 1.68780574e-11, 1.77233587e-11, 1.80389698e-11,\n",
       "         8.12915427e-11, 8.88142605e-11],\n",
       "        [7.64160581e-12, 3.81356996e-12, 5.27077855e-12, 5.64773043e-12,\n",
       "         2.24552652e-11, 2.44575765e-11],\n",
       "        [2.38813575e-11, 1.41481064e-11, 1.42331697e-11, 1.61092002e-11,\n",
       "         6.85536805e-11, 7.57127877e-11],\n",
       "        [2.08882773e-11, 1.24561667e-11, 1.31267433e-11, 1.37069722e-11,\n",
       "         6.03502065e-11, 6.59138627e-11]]),\n",
       " array([[1.89500683e-11, 1.02368512e-11, 9.06404388e-12, 1.16639349e-11,\n",
       "         5.01429196e-11, 5.68967071e-11],\n",
       "        [1.43909471e-11, 7.90665224e-12, 7.70098594e-12, 1.04620395e-11,\n",
       "         4.06487083e-11, 4.68051742e-11],\n",
       "        [2.67288111e-11, 1.33605098e-11, 1.05381839e-11, 1.42990612e-11,\n",
       "         6.52445337e-11, 7.36061948e-11],\n",
       "        [1.28806852e-11, 5.05653841e-12, 3.82322919e-12, 6.20954396e-12,\n",
       "         2.80785031e-11, 3.32227117e-11],\n",
       "        [2.03355628e-11, 1.16665120e-11, 1.10009048e-11, 1.50844713e-11,\n",
       "         5.83730767e-11, 6.71541149e-11],\n",
       "        [3.05820351e-11, 1.57410791e-11, 1.31671746e-11, 1.66157154e-11,\n",
       "         7.64334573e-11, 8.61855954e-11],\n",
       "        [2.22848731e-11, 1.23222498e-11, 1.20257226e-11, 1.57343984e-11,\n",
       "         6.26508777e-11, 7.18099544e-11],\n",
       "        [1.89602858e-11, 1.07298041e-11, 1.00155965e-11, 1.32654587e-11,\n",
       "         5.32249427e-11, 6.08444358e-11]]),\n",
       " array([[7.34900727e-12, 2.17012072e-12, 2.38321633e-12, 2.59480625e-12,\n",
       "         1.45625284e-11, 1.63252877e-11],\n",
       "        [3.25529482e-11, 7.72382466e-12, 1.01899997e-11, 1.03452528e-11,\n",
       "         6.11180093e-11, 7.09161168e-11],\n",
       "        [2.82765728e-11, 1.22341387e-11, 1.09353448e-11, 1.46882253e-11,\n",
       "         6.64277294e-11, 7.34855559e-11],\n",
       "        [1.85756956e-11, 4.85772888e-12, 4.91155396e-12, 6.55412969e-12,\n",
       "         3.50463601e-11, 3.97499741e-11],\n",
       "        [2.20683139e-11, 7.43770261e-12, 7.05868089e-12, 8.85935831e-12,\n",
       "         4.56123596e-11, 5.05583357e-11],\n",
       "        [4.80844600e-11, 1.66597132e-11, 1.47619353e-11, 2.20029884e-11,\n",
       "         1.01872908e-10, 1.13439638e-10],\n",
       "        [4.21564593e-11, 9.99594885e-12, 1.30434846e-11, 1.33661832e-11,\n",
       "         7.89565302e-11, 9.15877247e-11],\n",
       "        [8.83372575e-11, 2.92269938e-11, 2.75098440e-11, 3.53714083e-11,\n",
       "         1.81174731e-10, 2.00948413e-10]])]"
      ]
     },
     "execution_count": 90,
     "metadata": {},
     "output_type": "execute_result"
    }
   ],
   "source": [
    "# for calculating relative powers :\n",
    "\n",
    "fif_2_bl_participantwise_abp\n"
   ]
  },
  {
   "cell_type": "code",
   "execution_count": 36,
   "id": "c7cdd6ed-ed0e-4eff-ba60-0c5e750fd8ca",
   "metadata": {},
   "outputs": [],
   "source": [
    "dfc_temp_np = concatenated_bl_abp_list[0].to_numpy()"
   ]
  },
  {
   "cell_type": "code",
   "execution_count": 40,
   "id": "dc2b3252-aa56-498e-9af2-e9572649df9f",
   "metadata": {},
   "outputs": [
    {
     "data": {
      "text/plain": [
       "3.0797532665834947e-11"
      ]
     },
     "execution_count": 40,
     "metadata": {},
     "output_type": "execute_result"
    }
   ],
   "source": [
    "dfc_temp_np[0][0]"
   ]
  },
  {
   "cell_type": "code",
   "execution_count": 54,
   "id": "2476130c-df34-4cd9-8eac-c9868a6b12df",
   "metadata": {},
   "outputs": [],
   "source": [
    "# p=0\n",
    "# dfc_r_list = []\n",
    "\n",
    "# for df in concatenated_bl_abp_list : \n",
    "#     dfc_temp = concatenated_bl_abp_list[p]\n",
    "#     dfc_temp_np = concatenated_bl_abp_list[p].to_numpy()\n",
    "    \n",
    "#     bl_r_brain_delta=[]\n",
    "#     bl_r_brain_theta=[]\n",
    "#     bl_r_brain_alpha=[]\n",
    "#     bl_r_brain_beta=[]\n",
    "    \n",
    "#     r_brain_delta=[]\n",
    "#     r_brain_theta=[]\n",
    "#     r_brain_alpha=[]\n",
    "#     r_brain_beta=[]\n",
    "    \n",
    "#     o =0\n",
    "#     for channel in dfc_temp_np :\n",
    "#         bl_r_brain_delta_temp = (dfc_temp_np[o][0]/ dfc_temp_np[o][4])*100\n",
    "#         bl_r_brain_delta.append(bl_r_brain_delta_temp)\n",
    "#         bl_r_brain_theta_temp = (dfc_temp_np[o][1]/ dfc_temp_np[o][4])*100\n",
    "#         bl_r_brain_theta.append(bl_r_brain_theta_temp)\n",
    "#         bl_r_brain_alpha_temp = (dfc_temp_np[o][2]/ dfc_temp_np[o][4])*100\n",
    "#         bl_r_brain_alpha.append(bl_r_brain_alpha_temp)\n",
    "#         bl_r_brain_beta_temp = (dfc_temp_np[o][3]/ dfc_temp_np[o][4])*100\n",
    "#         bl_r_brain_beta.append(bl_r_brain_beta_temp)\n",
    "    \n",
    "#         r_brain_delta_temp = (dfc_temp_np[o][7]/ dfc_temp_np[o][11])*100\n",
    "#         r_brain_delta.append(r_brain_delta_temp)\n",
    "#         r_brain_theta_temp = (dfc_temp_np[o][8]/ dfc_temp_np[o][11])*100\n",
    "#         r_brain_theta.append(r_brain_theta_temp)\n",
    "#         r_brain_alpha_temp = (dfc_temp_np[o][9]/ dfc_temp_np[o][11])*100\n",
    "#         r_brain_alpha.append(r_brain_alpha_temp)\n",
    "#         r_brain_beta_temp = (dfc_temp_np[o][10]/ dfc_temp_np[o][11])*100\n",
    "#         r_brain_beta.append(r_brain_beta_temp)\n",
    "#         o=o+1\n",
    "\n",
    "#     dfc_temp['bl_r_brain_delta'] = bl_r_brain_delta\n",
    "#     dfc_temp['bl_r_brain_theta'] = bl_r_brain_theta\n",
    "#     dfc_temp['bl_r_brain_alpha'] = bl_r_brain_alpha\n",
    "#     dfc_temp['bl_r_brain_beta'] = bl_r_brain_beta\n",
    "#     dfc_temp['r_brain_delta'] = r_brain_delta\n",
    "#     dfc_temp['r_brain_theta'] = r_brain_theta\n",
    "#     dfc_temp['r_brain_alpha'] = r_brain_alpha\n",
    "#     dfc_temp['r_brain_beta'] = r_brain_beta\n",
    "#     dfc_r_list.append(dfc_temp)\n",
    "#     p=p+1\n"
   ]
  },
  {
   "cell_type": "code",
   "execution_count": 93,
   "id": "1e91237a-3a60-44d9-9953-49d2829c5bd6",
   "metadata": {},
   "outputs": [],
   "source": [
    "# p=0\n",
    "# fif_2_dfc_r_list = []\n",
    "\n",
    "# for df in fif_2_concatenated_bl_abp_list : \n",
    "#     dfc_temp = fif_2_concatenated_bl_abp_list[p]\n",
    "#     dfc_temp_np = fif_2_concatenated_bl_abp_list[p].to_numpy()\n",
    "    \n",
    "#     bl_r_brain_delta=[]\n",
    "#     bl_r_brain_theta=[]\n",
    "#     bl_r_brain_alpha=[]\n",
    "#     bl_r_brain_beta=[]\n",
    "    \n",
    "#     r_brain_delta=[]\n",
    "#     r_brain_theta=[]\n",
    "#     r_brain_alpha=[]\n",
    "#     r_brain_beta=[]\n",
    "    \n",
    "#     o =0\n",
    "#     for channel in dfc_temp_np :\n",
    "#         bl_r_brain_delta_temp = (dfc_temp_np[o][0]/ dfc_temp_np[o][4])*100\n",
    "#         bl_r_brain_delta.append(bl_r_brain_delta_temp)\n",
    "#         bl_r_brain_theta_temp = (dfc_temp_np[o][1]/ dfc_temp_np[o][4])*100\n",
    "#         bl_r_brain_theta.append(bl_r_brain_theta_temp)\n",
    "#         bl_r_brain_alpha_temp = (dfc_temp_np[o][2]/ dfc_temp_np[o][4])*100\n",
    "#         bl_r_brain_alpha.append(bl_r_brain_alpha_temp)\n",
    "#         bl_r_brain_beta_temp = (dfc_temp_np[o][3]/ dfc_temp_np[o][4])*100\n",
    "#         bl_r_brain_beta.append(bl_r_brain_beta_temp)\n",
    "    \n",
    "#         r_brain_delta_temp = (dfc_temp_np[o][7]/ dfc_temp_np[o][11])*100\n",
    "#         r_brain_delta.append(r_brain_delta_temp)\n",
    "#         r_brain_theta_temp = (dfc_temp_np[o][8]/ dfc_temp_np[o][11])*100\n",
    "#         r_brain_theta.append(r_brain_theta_temp)\n",
    "#         r_brain_alpha_temp = (dfc_temp_np[o][9]/ dfc_temp_np[o][11])*100\n",
    "#         r_brain_alpha.append(r_brain_alpha_temp)\n",
    "#         r_brain_beta_temp = (dfc_temp_np[o][10]/ dfc_temp_np[o][11])*100\n",
    "#         r_brain_beta.append(r_brain_beta_temp)\n",
    "#         o=o+1\n",
    "\n",
    "#     dfc_temp['bl_r_brain_delta'] = bl_r_brain_delta\n",
    "#     dfc_temp['bl_r_brain_theta'] = bl_r_brain_theta\n",
    "#     dfc_temp['bl_r_brain_alpha'] = bl_r_brain_alpha\n",
    "#     dfc_temp['bl_r_brain_beta'] = bl_r_brain_beta\n",
    "#     dfc_temp['r_brain_delta'] = r_brain_delta\n",
    "#     dfc_temp['r_brain_theta'] = r_brain_theta\n",
    "#     dfc_temp['r_brain_alpha'] = r_brain_alpha\n",
    "#     dfc_temp['r_brain_beta'] = r_brain_beta\n",
    "#     fif_2_dfc_r_list.append(dfc_temp)\n",
    "#     p=p+1\n"
   ]
  },
  {
   "cell_type": "code",
   "execution_count": 102,
   "id": "36ada607-551a-4afd-b06f-e28d41e0ebac",
   "metadata": {},
   "outputs": [],
   "source": [
    "p=0\n",
    "fif_1_dfc_r_list = []\n",
    "\n",
    "for df in fif_1_concatenated_bl_abp_list : \n",
    "    dfc_temp = fif_1_concatenated_bl_abp_list[p]\n",
    "    dfc_temp_np = fif_1_concatenated_bl_abp_list[p].to_numpy()\n",
    "    \n",
    "    bl_r_brain_delta=[]\n",
    "    bl_r_brain_theta=[]\n",
    "    bl_r_brain_alpha=[]\n",
    "    bl_r_brain_beta=[]\n",
    "    \n",
    "    r_brain_delta=[]\n",
    "    r_brain_theta=[]\n",
    "    r_brain_alpha=[]\n",
    "    r_brain_beta=[]\n",
    "    \n",
    "    o =0\n",
    "    for channel in dfc_temp_np :\n",
    "        bl_r_brain_delta_temp = (dfc_temp_np[o][0]/ dfc_temp_np[o][4])*100\n",
    "        bl_r_brain_delta.append(bl_r_brain_delta_temp)\n",
    "        bl_r_brain_theta_temp = (dfc_temp_np[o][1]/ dfc_temp_np[o][4])*100\n",
    "        bl_r_brain_theta.append(bl_r_brain_theta_temp)\n",
    "        bl_r_brain_alpha_temp = (dfc_temp_np[o][2]/ dfc_temp_np[o][4])*100\n",
    "        bl_r_brain_alpha.append(bl_r_brain_alpha_temp)\n",
    "        bl_r_brain_beta_temp = (dfc_temp_np[o][3]/ dfc_temp_np[o][4])*100\n",
    "        bl_r_brain_beta.append(bl_r_brain_beta_temp)\n",
    "    \n",
    "        r_brain_delta_temp = (dfc_temp_np[o][7]/ dfc_temp_np[o][11])*100\n",
    "        r_brain_delta.append(r_brain_delta_temp)\n",
    "        r_brain_theta_temp = (dfc_temp_np[o][8]/ dfc_temp_np[o][11])*100\n",
    "        r_brain_theta.append(r_brain_theta_temp)\n",
    "        r_brain_alpha_temp = (dfc_temp_np[o][9]/ dfc_temp_np[o][11])*100\n",
    "        r_brain_alpha.append(r_brain_alpha_temp)\n",
    "        r_brain_beta_temp = (dfc_temp_np[o][10]/ dfc_temp_np[o][11])*100\n",
    "        r_brain_beta.append(r_brain_beta_temp)\n",
    "        o=o+1\n",
    "\n",
    "    dfc_temp['bl_r_brain_delta'] = bl_r_brain_delta\n",
    "    dfc_temp['bl_r_brain_theta'] = bl_r_brain_theta\n",
    "    dfc_temp['bl_r_brain_alpha'] = bl_r_brain_alpha\n",
    "    dfc_temp['bl_r_brain_beta'] = bl_r_brain_beta\n",
    "    dfc_temp['r_brain_delta'] = r_brain_delta\n",
    "    dfc_temp['r_brain_theta'] = r_brain_theta\n",
    "    dfc_temp['r_brain_alpha'] = r_brain_alpha\n",
    "    dfc_temp['r_brain_beta'] = r_brain_beta\n",
    "    fif_1_dfc_r_list.append(dfc_temp)\n",
    "    p=p+1\n"
   ]
  },
  {
   "cell_type": "code",
   "execution_count": 94,
   "id": "c40bd4f3-6ccb-4d2d-a1d8-e52c6b2801dd",
   "metadata": {},
   "outputs": [
    {
     "data": {
      "text/html": [
       "<div>\n",
       "<style scoped>\n",
       "    .dataframe tbody tr th:only-of-type {\n",
       "        vertical-align: middle;\n",
       "    }\n",
       "\n",
       "    .dataframe tbody tr th {\n",
       "        vertical-align: top;\n",
       "    }\n",
       "\n",
       "    .dataframe thead th {\n",
       "        text-align: right;\n",
       "    }\n",
       "</style>\n",
       "<table border=\"1\" class=\"dataframe\">\n",
       "  <thead>\n",
       "    <tr style=\"text-align: right;\">\n",
       "      <th></th>\n",
       "      <th>bl_delta_abp</th>\n",
       "      <th>bl_theta_abp</th>\n",
       "      <th>bl_alpha_abp</th>\n",
       "      <th>bl_beta_abp</th>\n",
       "      <th>bl_brain_abp</th>\n",
       "      <th>bl_full_abp</th>\n",
       "      <th>Channel</th>\n",
       "      <th>delta_abp</th>\n",
       "      <th>theta_abp</th>\n",
       "      <th>alpha_abp</th>\n",
       "      <th>...</th>\n",
       "      <th>full_abp</th>\n",
       "      <th>Channel</th>\n",
       "      <th>bl_r_brain_delta</th>\n",
       "      <th>bl_r_brain_theta</th>\n",
       "      <th>bl_r_brain_alpha</th>\n",
       "      <th>bl_r_brain_beta</th>\n",
       "      <th>r_brain_delta</th>\n",
       "      <th>r_brain_theta</th>\n",
       "      <th>r_brain_alpha</th>\n",
       "      <th>r_brain_beta</th>\n",
       "    </tr>\n",
       "  </thead>\n",
       "  <tbody>\n",
       "    <tr>\n",
       "      <th>0</th>\n",
       "      <td>3.08e-11</td>\n",
       "      <td>2.02e-11</td>\n",
       "      <td>8.69e-11</td>\n",
       "      <td>1.55e-11</td>\n",
       "      <td>1.54e-10</td>\n",
       "      <td>1.62e-10</td>\n",
       "      <td>AF3</td>\n",
       "      <td>7.42e-11</td>\n",
       "      <td>2.63e-11</td>\n",
       "      <td>2.20e-11</td>\n",
       "      <td>...</td>\n",
       "      <td>1.69e-10</td>\n",
       "      <td>AF3</td>\n",
       "      <td>2.00e+01</td>\n",
       "      <td>1.31e+01</td>\n",
       "      <td>5.64e+01</td>\n",
       "      <td>1.01e+01</td>\n",
       "      <td>5.08e+01</td>\n",
       "      <td>1.80e+01</td>\n",
       "      <td>1.51e+01</td>\n",
       "      <td>1.60e+01</td>\n",
       "    </tr>\n",
       "    <tr>\n",
       "      <th>1</th>\n",
       "      <td>9.04e-12</td>\n",
       "      <td>5.96e-12</td>\n",
       "      <td>2.58e-11</td>\n",
       "      <td>4.54e-12</td>\n",
       "      <td>4.55e-11</td>\n",
       "      <td>4.80e-11</td>\n",
       "      <td>F7</td>\n",
       "      <td>2.17e-11</td>\n",
       "      <td>7.75e-12</td>\n",
       "      <td>6.49e-12</td>\n",
       "      <td>...</td>\n",
       "      <td>4.95e-11</td>\n",
       "      <td>F7</td>\n",
       "      <td>1.99e+01</td>\n",
       "      <td>1.31e+01</td>\n",
       "      <td>5.66e+01</td>\n",
       "      <td>9.98e+00</td>\n",
       "      <td>5.07e+01</td>\n",
       "      <td>1.81e+01</td>\n",
       "      <td>1.52e+01</td>\n",
       "      <td>1.60e+01</td>\n",
       "    </tr>\n",
       "    <tr>\n",
       "      <th>2</th>\n",
       "      <td>2.22e-11</td>\n",
       "      <td>1.45e-11</td>\n",
       "      <td>6.26e-11</td>\n",
       "      <td>1.10e-11</td>\n",
       "      <td>1.11e-10</td>\n",
       "      <td>1.19e-10</td>\n",
       "      <td>F3</td>\n",
       "      <td>4.87e-11</td>\n",
       "      <td>1.97e-11</td>\n",
       "      <td>1.55e-11</td>\n",
       "      <td>...</td>\n",
       "      <td>1.18e-10</td>\n",
       "      <td>F3</td>\n",
       "      <td>2.00e+01</td>\n",
       "      <td>1.31e+01</td>\n",
       "      <td>5.65e+01</td>\n",
       "      <td>9.97e+00</td>\n",
       "      <td>4.88e+01</td>\n",
       "      <td>1.98e+01</td>\n",
       "      <td>1.55e+01</td>\n",
       "      <td>1.59e+01</td>\n",
       "    </tr>\n",
       "    <tr>\n",
       "      <th>3</th>\n",
       "      <td>1.95e-11</td>\n",
       "      <td>1.26e-11</td>\n",
       "      <td>5.30e-11</td>\n",
       "      <td>9.96e-12</td>\n",
       "      <td>9.54e-11</td>\n",
       "      <td>1.01e-10</td>\n",
       "      <td>FC5</td>\n",
       "      <td>4.75e-11</td>\n",
       "      <td>1.64e-11</td>\n",
       "      <td>1.39e-11</td>\n",
       "      <td>...</td>\n",
       "      <td>1.07e-10</td>\n",
       "      <td>FC5</td>\n",
       "      <td>2.04e+01</td>\n",
       "      <td>1.32e+01</td>\n",
       "      <td>5.55e+01</td>\n",
       "      <td>1.04e+01</td>\n",
       "      <td>5.12e+01</td>\n",
       "      <td>1.77e+01</td>\n",
       "      <td>1.49e+01</td>\n",
       "      <td>1.61e+01</td>\n",
       "    </tr>\n",
       "    <tr>\n",
       "      <th>4</th>\n",
       "      <td>1.13e-11</td>\n",
       "      <td>7.43e-12</td>\n",
       "      <td>3.22e-11</td>\n",
       "      <td>5.65e-12</td>\n",
       "      <td>5.68e-11</td>\n",
       "      <td>5.98e-11</td>\n",
       "      <td>FC6</td>\n",
       "      <td>2.70e-11</td>\n",
       "      <td>9.67e-12</td>\n",
       "      <td>8.08e-12</td>\n",
       "      <td>...</td>\n",
       "      <td>6.16e-11</td>\n",
       "      <td>FC6</td>\n",
       "      <td>1.98e+01</td>\n",
       "      <td>1.31e+01</td>\n",
       "      <td>5.67e+01</td>\n",
       "      <td>9.95e+00</td>\n",
       "      <td>5.07e+01</td>\n",
       "      <td>1.82e+01</td>\n",
       "      <td>1.52e+01</td>\n",
       "      <td>1.60e+01</td>\n",
       "    </tr>\n",
       "    <tr>\n",
       "      <th>5</th>\n",
       "      <td>6.18e-11</td>\n",
       "      <td>4.00e-11</td>\n",
       "      <td>1.69e-10</td>\n",
       "      <td>3.15e-11</td>\n",
       "      <td>3.04e-10</td>\n",
       "      <td>3.21e-10</td>\n",
       "      <td>F4</td>\n",
       "      <td>1.51e-10</td>\n",
       "      <td>5.23e-11</td>\n",
       "      <td>4.41e-11</td>\n",
       "      <td>...</td>\n",
       "      <td>3.39e-10</td>\n",
       "      <td>F4</td>\n",
       "      <td>2.03e+01</td>\n",
       "      <td>1.32e+01</td>\n",
       "      <td>5.57e+01</td>\n",
       "      <td>1.04e+01</td>\n",
       "      <td>5.11e+01</td>\n",
       "      <td>1.78e+01</td>\n",
       "      <td>1.50e+01</td>\n",
       "      <td>1.61e+01</td>\n",
       "    </tr>\n",
       "    <tr>\n",
       "      <th>6</th>\n",
       "      <td>2.30e-11</td>\n",
       "      <td>1.52e-11</td>\n",
       "      <td>6.60e-11</td>\n",
       "      <td>1.15e-11</td>\n",
       "      <td>1.16e-10</td>\n",
       "      <td>1.23e-10</td>\n",
       "      <td>F8</td>\n",
       "      <td>5.51e-11</td>\n",
       "      <td>1.98e-11</td>\n",
       "      <td>1.65e-11</td>\n",
       "      <td>...</td>\n",
       "      <td>1.26e-10</td>\n",
       "      <td>F8</td>\n",
       "      <td>1.98e+01</td>\n",
       "      <td>1.31e+01</td>\n",
       "      <td>5.68e+01</td>\n",
       "      <td>9.93e+00</td>\n",
       "      <td>5.06e+01</td>\n",
       "      <td>1.82e+01</td>\n",
       "      <td>1.52e+01</td>\n",
       "      <td>1.60e+01</td>\n",
       "    </tr>\n",
       "    <tr>\n",
       "      <th>7</th>\n",
       "      <td>3.30e-11</td>\n",
       "      <td>2.17e-11</td>\n",
       "      <td>9.42e-11</td>\n",
       "      <td>1.65e-11</td>\n",
       "      <td>1.66e-10</td>\n",
       "      <td>1.75e-10</td>\n",
       "      <td>AF4</td>\n",
       "      <td>7.90e-11</td>\n",
       "      <td>2.83e-11</td>\n",
       "      <td>2.36e-11</td>\n",
       "      <td>...</td>\n",
       "      <td>1.80e-10</td>\n",
       "      <td>AF4</td>\n",
       "      <td>1.98e+01</td>\n",
       "      <td>1.31e+01</td>\n",
       "      <td>5.67e+01</td>\n",
       "      <td>9.95e+00</td>\n",
       "      <td>5.07e+01</td>\n",
       "      <td>1.81e+01</td>\n",
       "      <td>1.52e+01</td>\n",
       "      <td>1.60e+01</td>\n",
       "    </tr>\n",
       "  </tbody>\n",
       "</table>\n",
       "<p>8 rows × 22 columns</p>\n",
       "</div>"
      ],
      "text/plain": [
       "   bl_delta_abp  bl_theta_abp  bl_alpha_abp  bl_beta_abp  bl_brain_abp  \\\n",
       "0      3.08e-11      2.02e-11      8.69e-11     1.55e-11      1.54e-10   \n",
       "1      9.04e-12      5.96e-12      2.58e-11     4.54e-12      4.55e-11   \n",
       "2      2.22e-11      1.45e-11      6.26e-11     1.10e-11      1.11e-10   \n",
       "3      1.95e-11      1.26e-11      5.30e-11     9.96e-12      9.54e-11   \n",
       "4      1.13e-11      7.43e-12      3.22e-11     5.65e-12      5.68e-11   \n",
       "5      6.18e-11      4.00e-11      1.69e-10     3.15e-11      3.04e-10   \n",
       "6      2.30e-11      1.52e-11      6.60e-11     1.15e-11      1.16e-10   \n",
       "7      3.30e-11      2.17e-11      9.42e-11     1.65e-11      1.66e-10   \n",
       "\n",
       "   bl_full_abp  Channel  delta_abp  theta_abp  alpha_abp  ...  full_abp  \\\n",
       "0     1.62e-10      AF3   7.42e-11   2.63e-11   2.20e-11  ...  1.69e-10   \n",
       "1     4.80e-11       F7   2.17e-11   7.75e-12   6.49e-12  ...  4.95e-11   \n",
       "2     1.19e-10       F3   4.87e-11   1.97e-11   1.55e-11  ...  1.18e-10   \n",
       "3     1.01e-10      FC5   4.75e-11   1.64e-11   1.39e-11  ...  1.07e-10   \n",
       "4     5.98e-11      FC6   2.70e-11   9.67e-12   8.08e-12  ...  6.16e-11   \n",
       "5     3.21e-10       F4   1.51e-10   5.23e-11   4.41e-11  ...  3.39e-10   \n",
       "6     1.23e-10       F8   5.51e-11   1.98e-11   1.65e-11  ...  1.26e-10   \n",
       "7     1.75e-10      AF4   7.90e-11   2.83e-11   2.36e-11  ...  1.80e-10   \n",
       "\n",
       "   Channel  bl_r_brain_delta bl_r_brain_theta  bl_r_brain_alpha  \\\n",
       "0      AF3          2.00e+01         1.31e+01          5.64e+01   \n",
       "1       F7          1.99e+01         1.31e+01          5.66e+01   \n",
       "2       F3          2.00e+01         1.31e+01          5.65e+01   \n",
       "3      FC5          2.04e+01         1.32e+01          5.55e+01   \n",
       "4      FC6          1.98e+01         1.31e+01          5.67e+01   \n",
       "5       F4          2.03e+01         1.32e+01          5.57e+01   \n",
       "6       F8          1.98e+01         1.31e+01          5.68e+01   \n",
       "7      AF4          1.98e+01         1.31e+01          5.67e+01   \n",
       "\n",
       "   bl_r_brain_beta  r_brain_delta  r_brain_theta  r_brain_alpha  r_brain_beta  \n",
       "0         1.01e+01       5.08e+01       1.80e+01       1.51e+01      1.60e+01  \n",
       "1         9.98e+00       5.07e+01       1.81e+01       1.52e+01      1.60e+01  \n",
       "2         9.97e+00       4.88e+01       1.98e+01       1.55e+01      1.59e+01  \n",
       "3         1.04e+01       5.12e+01       1.77e+01       1.49e+01      1.61e+01  \n",
       "4         9.95e+00       5.07e+01       1.82e+01       1.52e+01      1.60e+01  \n",
       "5         1.04e+01       5.11e+01       1.78e+01       1.50e+01      1.61e+01  \n",
       "6         9.93e+00       5.06e+01       1.82e+01       1.52e+01      1.60e+01  \n",
       "7         9.95e+00       5.07e+01       1.81e+01       1.52e+01      1.60e+01  \n",
       "\n",
       "[8 rows x 22 columns]"
      ]
     },
     "execution_count": 94,
     "metadata": {},
     "output_type": "execute_result"
    }
   ],
   "source": [
    "fif_2_dfc_r_list[0]"
   ]
  },
  {
   "cell_type": "code",
   "execution_count": 96,
   "id": "1221582e-5294-4d43-b044-687f75666db7",
   "metadata": {},
   "outputs": [],
   "source": [
    "# fif_2_dfc_r_list_np = np.array(fif_2_dfc_r_list)\n",
    "# fif_2_af3_all_participants = fif_2_dfc_r_list_np[:,0,:]\n",
    "# fif_2_f7_all_participants = fif_2_dfc_r_list_np[:,1,:]\n",
    "# fif_2_f3_all_participants = fif_2_dfc_r_list_np[:,2,:]\n",
    "# fif_2_fc5_all_participants = fif_2_dfc_r_list_np[:,3,:]\n",
    "# fif_2_fc6_all_participants = fif_2_dfc_r_list_np[:,4,:]\n",
    "# fif_2_f4_all_participants = fif_2_dfc_r_list_np[:,5,:]\n",
    "# fif_2_f8_all_participants = fif_2_dfc_r_list_np[:,6,:]\n",
    "# fif_2_af4_all_participants = fif_2_dfc_r_list_np[:,7,:]"
   ]
  },
  {
   "cell_type": "code",
   "execution_count": 103,
   "id": "58dacdc3-3dc4-4ef3-856c-f3d9764b7637",
   "metadata": {},
   "outputs": [],
   "source": [
    "fif_1_dfc_r_list_np = np.array(fif_1_dfc_r_list)\n",
    "fif_1_af3_all_participants = fif_1_dfc_r_list_np[:,0,:]\n",
    "fif_1_f7_all_participants = fif_1_dfc_r_list_np[:,1,:]\n",
    "fif_1_f3_all_participants = fif_1_dfc_r_list_np[:,2,:]\n",
    "fif_1_fc5_all_participants = fif_1_dfc_r_list_np[:,3,:]\n",
    "fif_1_fc6_all_participants = fif_1_dfc_r_list_np[:,4,:]\n",
    "fif_1_f4_all_participants = fif_1_dfc_r_list_np[:,5,:]\n",
    "fif_1_f8_all_participants = fif_1_dfc_r_list_np[:,6,:]\n",
    "fif_1_af4_all_participants = fif_1_dfc_r_list_np[:,7,:]"
   ]
  },
  {
   "cell_type": "code",
   "execution_count": null,
   "id": "40ad21f8-a0ac-4cb6-a92b-d4b0a74a6e75",
   "metadata": {},
   "outputs": [],
   "source": []
  },
  {
   "cell_type": "code",
   "execution_count": null,
   "id": "4a1abb8c-c2f3-419f-819e-8b7a352fcb0f",
   "metadata": {},
   "outputs": [],
   "source": []
  },
  {
   "cell_type": "code",
   "execution_count": 70,
   "id": "c5f5d538-3144-4304-b984-90a343d628b4",
   "metadata": {},
   "outputs": [],
   "source": []
  },
  {
   "cell_type": "code",
   "execution_count": 77,
   "id": "afaa8dd8-05ab-4576-acce-eff3e581ac1c",
   "metadata": {},
   "outputs": [],
   "source": []
  },
  {
   "cell_type": "code",
   "execution_count": 80,
   "id": "cd0805af-1b6b-436a-b6b9-532a5b3844c7",
   "metadata": {},
   "outputs": [],
   "source": [
    "# dfc_r_list_np = np.array(dfc_r_list)\n",
    "# af3_all_participants = dfc_r_list_np[:,0,:]\n",
    "# f7_all_participants = dfc_r_list_np[:,1,:]\n",
    "# f3_all_participants = dfc_r_list_np[:,2,:]\n",
    "# fc5_all_participants = dfc_r_list_np[:,3,:]\n",
    "# fc6_all_participants = dfc_r_list_np[:,4,:]\n",
    "# f4_all_participants = dfc_r_list_np[:,5,:]\n",
    "# f8_all_participants = dfc_r_list_np[:,6,:]\n",
    "# af4_all_participants = dfc_r_list_np[:,7,:]"
   ]
  },
  {
   "cell_type": "code",
   "execution_count": 97,
   "id": "b7cfbb80-7a60-47b9-b72d-29db06e8e9fe",
   "metadata": {},
   "outputs": [],
   "source": [
    "data_columns = [ \n",
    "    'bl_delta_abp',\n",
    "    'bl_theta_abp',\n",
    "    'bl_alpha_abp',\n",
    "    'bl_beta_abp',\n",
    "    'bl_brain_abp',\n",
    "    'bl_full_abp',\n",
    "    'Channel',\n",
    "    'delta_abp',\n",
    "    'theta_abp',\n",
    "    'alpha_abp',\n",
    "    'beta_abp',\n",
    "    'brain_abp',\n",
    "    'full_abp',\n",
    "    'Channel',\n",
    "    'bl_r_brain_delta',\n",
    "    'bl_r_brain_theta',\n",
    "    'bl_r_brain_alpha',\n",
    "    'bl_r_brain_beta',\n",
    "    'r_brain_delta',\n",
    "    'r_brain_theta',\n",
    "    'r_brain_alpha',\n",
    "    'r_brain_beta']"
   ]
  },
  {
   "cell_type": "code",
   "execution_count": 87,
   "id": "d8381456-ea54-4c33-9748-9f1624d41544",
   "metadata": {},
   "outputs": [],
   "source": [
    "# df_all_af3 = pd.DataFrame(af3_all_participants, columns=data_columns)\n",
    "# df_all_af3.to_csv('/Users/apple/Desktop/New ABP Results/Task 3/Channelwise_all participants/AF3_consolidated.csv')\n",
    "# df_all_f7 = pd.DataFrame(f7_all_participants, columns=data_columns)\n",
    "# df_all_f7.to_csv('/Users/apple/Desktop/New ABP Results/Task 3/Channelwise_all participants/F7_consolidated.csv')\n",
    "# df_all_f3 = pd.DataFrame(f3_all_participants, columns=data_columns)\n",
    "# df_all_f3.to_csv('/Users/apple/Desktop/New ABP Results/Task 3/Channelwise_all participants/F3_consolidated.csv')\n",
    "# df_all_fc5 = pd.DataFrame(fc5_all_participants, columns=data_columns)\n",
    "# df_all_fc5.to_csv('/Users/apple/Desktop/New ABP Results/Task 3/Channelwise_all participants/FC5_consolidated.csv')\n",
    "# df_all_fc6 = pd.DataFrame(fc6_all_participants, columns=data_columns)\n",
    "# df_all_fc6.to_csv('/Users/apple/Desktop/New ABP Results/Task 3/Channelwise_all participants/FC6_consolidated.csv')\n",
    "# df_all_f4 = pd.DataFrame(f4_all_participants, columns=data_columns)\n",
    "# df_all_f4.to_csv('/Users/apple/Desktop/New ABP Results/Task 3/Channelwise_all participants/F4_consolidated.csv')\n",
    "# df_all_f8 = pd.DataFrame(f8_all_participants, columns=data_columns)\n",
    "# df_all_f8.to_csv('/Users/apple/Desktop/New ABP Results/Task 3/Channelwise_all participants/F8_consolidated.csv')\n",
    "# df_all_af4 = pd.DataFrame(af4_all_participants, columns=data_columns)\n",
    "# df_all_af4.to_csv('/Users/apple/Desktop/New ABP Results/Task 3/Channelwise_all participants/AF4_consolidated.csv')"
   ]
  },
  {
   "cell_type": "code",
   "execution_count": 105,
   "id": "92cc0423-53d1-464a-ae9b-0846267d85c1",
   "metadata": {},
   "outputs": [],
   "source": [
    "# fif_2_df_all_af3 = pd.DataFrame(fif_2_af3_all_participants, columns=data_columns)\n",
    "# fif_2_df_all_af3.to_csv('/Users/apple/Desktop/New ABP Results/Task 2/Channelwise_all participants/AF3_consolidated.csv')\n",
    "# fif_2_df_all_f7 = pd.DataFrame(fif_2_f7_all_participants, columns=data_columns)\n",
    "# fif_2_df_all_f7.to_csv('/Users/apple/Desktop/New ABP Results/Task 2/Channelwise_all participants/F7_consolidated.csv')\n",
    "# fif_2_df_all_f3 = pd.DataFrame(fif_2_f3_all_participants, columns=data_columns)\n",
    "# fif_2_df_all_f3.to_csv('/Users/apple/Desktop/New ABP Results/Task 2/Channelwise_all participants/F3_consolidated.csv')\n",
    "# fif_2_df_all_fc5 = pd.DataFrame(fif_2_fc5_all_participants, columns=data_columns)\n",
    "# fif_2_df_all_fc5.to_csv('/Users/apple/Desktop/New ABP Results/Task 2/Channelwise_all participants/FC5_consolidated.csv')\n",
    "# fif_2_df_all_fc6 = pd.DataFrame(fif_2_fc6_all_participants, columns=data_columns)\n",
    "# fif_2_df_all_fc6.to_csv('/Users/apple/Desktop/New ABP Results/Task 2/Channelwise_all participants/FC6_consolidated.csv')\n",
    "# fif_2_df_all_f4 = pd.DataFrame(fif_2_f4_all_participants, columns=data_columns)\n",
    "# fif_2_df_all_f4.to_csv('/Users/apple/Desktop/New ABP Results/Task 2/Channelwise_all participants/F4_consolidated.csv')\n",
    "# fif_2_df_all_f8 = pd.DataFrame(fif_2_f8_all_participants, columns=data_columns)\n",
    "# fif_2_df_all_f8.to_csv('/Users/apple/Desktop/New ABP Results/Task 2/Channelwise_all participants/F8_consolidated.csv')\n",
    "# fif_2_df_all_af4 = pd.DataFrame(fif_2_af4_all_participants, columns=data_columns)\n",
    "# fif_2_df_all_af4.to_csv('/Users/apple/Desktop/New ABP Results/Task 2/Channelwise_all participants/AF4_consolidated.csv')"
   ]
  },
  {
   "cell_type": "code",
   "execution_count": 106,
   "id": "cc6b9d86-b8e2-4ff0-baff-1e17a36b1004",
   "metadata": {},
   "outputs": [],
   "source": [
    "fif_1_df_all_af3 = pd.DataFrame(fif_1_af3_all_participants, columns=data_columns)\n",
    "fif_1_df_all_af3.to_csv('/Users/apple/Desktop/New ABP Results/Task 1/Channelwise_all participants/AF3_consolidated.csv')\n",
    "fif_1_df_all_f7 = pd.DataFrame(fif_1_f7_all_participants, columns=data_columns)\n",
    "fif_1_df_all_f7.to_csv('/Users/apple/Desktop/New ABP Results/Task 1/Channelwise_all participants/F7_consolidated.csv')\n",
    "fif_1_df_all_f3 = pd.DataFrame(fif_1_f3_all_participants, columns=data_columns)\n",
    "fif_1_df_all_f3.to_csv('/Users/apple/Desktop/New ABP Results/Task 1/Channelwise_all participants/F3_consolidated.csv')\n",
    "fif_1_df_all_fc5 = pd.DataFrame(fif_1_fc5_all_participants, columns=data_columns)\n",
    "fif_1_df_all_fc5.to_csv('/Users/apple/Desktop/New ABP Results/Task 1/Channelwise_all participants/FC5_consolidated.csv')\n",
    "fif_1_df_all_fc6 = pd.DataFrame(fif_1_fc6_all_participants, columns=data_columns)\n",
    "fif_1_df_all_fc6.to_csv('/Users/apple/Desktop/New ABP Results/Task 1/Channelwise_all participants/FC6_consolidated.csv')\n",
    "fif_1_df_all_f4 = pd.DataFrame(fif_1_f4_all_participants, columns=data_columns)\n",
    "fif_1_df_all_f4.to_csv('/Users/apple/Desktop/New ABP Results/Task 1/Channelwise_all participants/F4_consolidated.csv')\n",
    "fif_1_df_all_f8 = pd.DataFrame(fif_1_f8_all_participants, columns=data_columns)\n",
    "fif_1_df_all_f8.to_csv('/Users/apple/Desktop/New ABP Results/Task 1/Channelwise_all participants/F8_consolidated.csv')\n",
    "fif_1_df_all_af4 = pd.DataFrame(fif_1_af4_all_participants, columns=data_columns)\n",
    "fif_1_df_all_af4.to_csv('/Users/apple/Desktop/New ABP Results/Task 1/Channelwise_all participants/AF4_consolidated.csv')"
   ]
  },
  {
   "cell_type": "code",
   "execution_count": 81,
   "id": "1688340f-9191-4eb5-8cf9-fba4469b9dce",
   "metadata": {},
   "outputs": [],
   "source": []
  },
  {
   "cell_type": "code",
   "execution_count": 82,
   "id": "df0dbf07-2a52-4242-aa50-d204b08e9926",
   "metadata": {},
   "outputs": [],
   "source": []
  },
  {
   "cell_type": "code",
   "execution_count": 83,
   "id": "edfefbaf-999f-466a-9a58-2d181e3336ff",
   "metadata": {},
   "outputs": [],
   "source": []
  },
  {
   "cell_type": "code",
   "execution_count": 84,
   "id": "8ff94708-3283-426b-9149-376c3963527a",
   "metadata": {},
   "outputs": [],
   "source": []
  },
  {
   "cell_type": "code",
   "execution_count": 85,
   "id": "b23f57a9-d26b-4b44-bb1c-2b7540d388f8",
   "metadata": {},
   "outputs": [],
   "source": []
  },
  {
   "cell_type": "code",
   "execution_count": 86,
   "id": "41e44820-508d-420d-b8b1-b541da67df86",
   "metadata": {},
   "outputs": [],
   "source": []
  },
  {
   "cell_type": "code",
   "execution_count": null,
   "id": "52e8fce2-3b35-4158-bd93-40b3e0418c92",
   "metadata": {},
   "outputs": [],
   "source": []
  },
  {
   "cell_type": "code",
   "execution_count": null,
   "id": "9ed4d453-2c4c-4f5b-a708-25d0779e21f3",
   "metadata": {},
   "outputs": [],
   "source": []
  },
  {
   "cell_type": "code",
   "execution_count": 60,
   "id": "9087ad71-e8cc-4079-b23c-31c71c882b69",
   "metadata": {},
   "outputs": [],
   "source": [
    "a = np.array([[[1,2,3],[4,5,6],[7,8,9]],[[10,11,12],[13,14,15],[16,17,18]],[[19,20,21],[22,23,24],[25,26,27]]])"
   ]
  },
  {
   "cell_type": "code",
   "execution_count": 67,
   "id": "60100a5d-f224-4258-9185-1fbd15848fbd",
   "metadata": {},
   "outputs": [
    {
     "data": {
      "text/plain": [
       "array([[ 1,  2,  3],\n",
       "       [10, 11, 12],\n",
       "       [19, 20, 21]])"
      ]
     },
     "execution_count": 67,
     "metadata": {},
     "output_type": "execute_result"
    }
   ],
   "source": [
    "a[:,0,:]"
   ]
  },
  {
   "cell_type": "code",
   "execution_count": 19,
   "id": "2efd35c6-6b9c-470c-bceb-c76c72fd8727",
   "metadata": {},
   "outputs": [],
   "source": [
    "#Export the values\n",
    "\n",
    "bl_path = '/Users/apple/Desktop/New ABP Results/Task 3/Baseline/'\n",
    "sksig_path = '/Users/apple/Desktop/New ABP Results/Task 3/Sketch Signal/'\n",
    "\n",
    "\n",
    "k=0\n",
    "for item in fif_3_bl_participantwise_abp_df : \n",
    "    item.to_csv(bl_path + participant_list[k] + '_task3_bl.csv')\n",
    "    k=k+1\n",
    "\n",
    "l=0\n",
    "for item in fif_3_participantwise_abp_df : \n",
    "    item.to_csv(sksig_path + participant_list[l] + '_task3.csv')\n",
    "    l=l+1\n",
    "\n",
    "\n"
   ]
  },
  {
   "cell_type": "code",
   "execution_count": 25,
   "id": "5931f6dc-9147-4db4-85a4-076361ae71e4",
   "metadata": {},
   "outputs": [],
   "source": [
    "concat_path = '/Users/apple/Desktop/New ABP Results/Task 3/Concatenated/'\n",
    "n=0\n",
    "for item in concatenated_bl_abp_list : \n",
    "    item.to_csv(concat_path + participant_list[n] + '_task3_bl_abp.csv')\n",
    "    n=n+1"
   ]
  },
  {
   "cell_type": "code",
   "execution_count": 56,
   "id": "91b770cb-0b62-4252-81da-c07968abe102",
   "metadata": {},
   "outputs": [],
   "source": [
    "rel_path = '/Users/apple/Desktop/New ABP Results/Task 3/Relative Power/'\n",
    "q=0\n",
    "for item in dfc_r_list : \n",
    "    item.to_csv(rel_path + participant_list[q] + '_task3_rel.csv')\n",
    "    q=q+1"
   ]
  }
 ],
 "metadata": {
  "kernelspec": {
   "display_name": "Python 3 (ipykernel)",
   "language": "python",
   "name": "python3"
  },
  "language_info": {
   "codemirror_mode": {
    "name": "ipython",
    "version": 3
   },
   "file_extension": ".py",
   "mimetype": "text/x-python",
   "name": "python",
   "nbconvert_exporter": "python",
   "pygments_lexer": "ipython3",
   "version": "3.11.7"
  }
 },
 "nbformat": 4,
 "nbformat_minor": 5
}
